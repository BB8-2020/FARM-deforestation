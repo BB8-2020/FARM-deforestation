{
  "nbformat": 4,
  "nbformat_minor": 5,
  "metadata": {
    "kernelspec": {
      "display_name": "Python 3",
      "language": "python",
      "name": "python3"
    },
    "language_info": {
      "codemirror_mode": {
        "name": "ipython",
        "version": 3
      },
      "file_extension": ".py",
      "mimetype": "text/x-python",
      "name": "python",
      "nbconvert_exporter": "python",
      "pygments_lexer": "ipython3",
      "version": "3.8.1"
    },
    "colab": {
      "name": "collect_data.ipynb",
      "provenance": [],
      "collapsed_sections": []
    }
  },
  "cells": [
    {
      "cell_type": "code",
      "metadata": {
        "colab": {
          "base_uri": "https://localhost:8080/"
        },
        "id": "M6S6Eyr7IeB7",
        "outputId": "1d2f287b-81eb-4e3e-be93-dfcc1946913e"
      },
      "source": [
        "!pip install sentinelhub"
      ],
      "id": "M6S6Eyr7IeB7",
      "execution_count": null,
      "outputs": [
        {
          "output_type": "stream",
          "text": [
            "Collecting sentinelhub\n",
            "\u001b[?25l  Downloading https://files.pythonhosted.org/packages/35/ad/200f41eb41a62453771dbce38675edc14b9f24a89c841f8be6f28d599e38/sentinelhub-3.3.1.tar.gz (195kB)\n",
            "\r\u001b[K     |█▊                              | 10kB 11.1MB/s eta 0:00:01\r\u001b[K     |███▍                            | 20kB 13.3MB/s eta 0:00:01\r\u001b[K     |█████                           | 30kB 16.3MB/s eta 0:00:01\r\u001b[K     |██████▊                         | 40kB 13.8MB/s eta 0:00:01\r\u001b[K     |████████▍                       | 51kB 10.3MB/s eta 0:00:01\r\u001b[K     |██████████                      | 61kB 8.5MB/s eta 0:00:01\r\u001b[K     |███████████▊                    | 71kB 8.0MB/s eta 0:00:01\r\u001b[K     |█████████████▍                  | 81kB 8.7MB/s eta 0:00:01\r\u001b[K     |███████████████                 | 92kB 8.6MB/s eta 0:00:01\r\u001b[K     |████████████████▊               | 102kB 9.2MB/s eta 0:00:01\r\u001b[K     |██████████████████▍             | 112kB 9.2MB/s eta 0:00:01\r\u001b[K     |████████████████████            | 122kB 9.2MB/s eta 0:00:01\r\u001b[K     |█████████████████████▊          | 133kB 9.2MB/s eta 0:00:01\r\u001b[K     |███████████████████████▌        | 143kB 9.2MB/s eta 0:00:01\r\u001b[K     |█████████████████████████▏      | 153kB 9.2MB/s eta 0:00:01\r\u001b[K     |██████████████████████████▉     | 163kB 9.2MB/s eta 0:00:01\r\u001b[K     |████████████████████████████▌   | 174kB 9.2MB/s eta 0:00:01\r\u001b[K     |██████████████████████████████▏ | 184kB 9.2MB/s eta 0:00:01\r\u001b[K     |███████████████████████████████▉| 194kB 9.2MB/s eta 0:00:01\r\u001b[K     |████████████████████████████████| 204kB 9.2MB/s \n",
            "\u001b[?25hRequirement already satisfied: wheel in /usr/local/lib/python3.7/dist-packages (from sentinelhub) (0.36.2)\n",
            "Requirement already satisfied: requests>=2.5.0 in /usr/local/lib/python3.7/dist-packages (from sentinelhub) (2.23.0)\n",
            "Requirement already satisfied: click in /usr/local/lib/python3.7/dist-packages (from sentinelhub) (7.1.2)\n",
            "Requirement already satisfied: numpy in /usr/local/lib/python3.7/dist-packages (from sentinelhub) (1.19.5)\n",
            "Requirement already satisfied: tifffile in /usr/local/lib/python3.7/dist-packages (from sentinelhub) (2021.6.14)\n",
            "Requirement already satisfied: pillow in /usr/local/lib/python3.7/dist-packages (from sentinelhub) (7.1.2)\n",
            "Requirement already satisfied: python-dateutil in /usr/local/lib/python3.7/dist-packages (from sentinelhub) (2.8.1)\n",
            "Collecting utm\n",
            "  Downloading https://files.pythonhosted.org/packages/f7/7e/629ddbe63164f71bf2b03e151a69bfbf439692652432af4b2a78f21b0a18/utm-0.7.0.tar.gz\n",
            "Requirement already satisfied: shapely in /usr/local/lib/python3.7/dist-packages (from sentinelhub) (1.7.1)\n",
            "Collecting boto3\n",
            "\u001b[?25l  Downloading https://files.pythonhosted.org/packages/39/96/5c009100d651f4646639f9777a82777430897590f5fd28bbc077cace09bf/boto3-1.17.97-py2.py3-none-any.whl (131kB)\n",
            "\u001b[K     |████████████████████████████████| 133kB 16.0MB/s \n",
            "\u001b[?25hCollecting botocore\n",
            "\u001b[?25l  Downloading https://files.pythonhosted.org/packages/94/a2/bd7cd40c61a71c3daede70158b5c0aca918057f63cfbef015c56cccdb6b2/botocore-1.20.97-py2.py3-none-any.whl (7.6MB)\n",
            "\u001b[K     |████████████████████████████████| 7.6MB 11.6MB/s \n",
            "\u001b[?25hCollecting pyproj>=2.2.0\n",
            "\u001b[?25l  Downloading https://files.pythonhosted.org/packages/11/1d/1c54c672c2faf08d28fe78e15d664c048f786225bef95ad87b6c435cf69e/pyproj-3.1.0-cp37-cp37m-manylinux2010_x86_64.whl (6.6MB)\n",
            "\u001b[K     |████████████████████████████████| 6.6MB 29.1MB/s \n",
            "\u001b[?25hRequirement already satisfied: oauthlib in /usr/local/lib/python3.7/dist-packages (from sentinelhub) (3.1.1)\n",
            "Requirement already satisfied: requests_oauthlib in /usr/local/lib/python3.7/dist-packages (from sentinelhub) (1.3.0)\n",
            "Collecting aenum>=2.1.4\n",
            "\u001b[?25l  Downloading https://files.pythonhosted.org/packages/9d/60/7fe3fdd0c3e224725cc2b10bd0453000f0c18e32941cdaa70bf85e66615f/aenum-3.1.0-py3-none-any.whl (123kB)\n",
            "\u001b[K     |████████████████████████████████| 133kB 46.6MB/s \n",
            "\u001b[?25hCollecting dataclasses-json\n",
            "  Downloading https://files.pythonhosted.org/packages/c3/89/390710a3ad24833f2ad11295caddd37f1bc4e60a278de1c9059727a92482/dataclasses_json-0.5.4-py3-none-any.whl\n",
            "Requirement already satisfied: urllib3!=1.25.0,!=1.25.1,<1.26,>=1.21.1 in /usr/local/lib/python3.7/dist-packages (from requests>=2.5.0->sentinelhub) (1.24.3)\n",
            "Requirement already satisfied: certifi>=2017.4.17 in /usr/local/lib/python3.7/dist-packages (from requests>=2.5.0->sentinelhub) (2021.5.30)\n",
            "Requirement already satisfied: chardet<4,>=3.0.2 in /usr/local/lib/python3.7/dist-packages (from requests>=2.5.0->sentinelhub) (3.0.4)\n",
            "Requirement already satisfied: idna<3,>=2.5 in /usr/local/lib/python3.7/dist-packages (from requests>=2.5.0->sentinelhub) (2.10)\n",
            "Requirement already satisfied: six>=1.5 in /usr/local/lib/python3.7/dist-packages (from python-dateutil->sentinelhub) (1.15.0)\n",
            "Collecting jmespath<1.0.0,>=0.7.1\n",
            "  Downloading https://files.pythonhosted.org/packages/07/cb/5f001272b6faeb23c1c9e0acc04d48eaaf5c862c17709d20e3469c6e0139/jmespath-0.10.0-py2.py3-none-any.whl\n",
            "Collecting s3transfer<0.5.0,>=0.4.0\n",
            "\u001b[?25l  Downloading https://files.pythonhosted.org/packages/63/d0/693477c688348654ddc21dcdce0817653a294aa43f41771084c25e7ff9c7/s3transfer-0.4.2-py2.py3-none-any.whl (79kB)\n",
            "\u001b[K     |████████████████████████████████| 81kB 8.4MB/s \n",
            "\u001b[?25hCollecting marshmallow<4.0.0,>=3.3.0\n",
            "\u001b[?25l  Downloading https://files.pythonhosted.org/packages/e6/58/c35930f6ae92b4a434deac37fed0bc2d0577e1f59584e0018a69e699632f/marshmallow-3.12.1-py2.py3-none-any.whl (47kB)\n",
            "\u001b[K     |████████████████████████████████| 51kB 6.3MB/s \n",
            "\u001b[?25hCollecting stringcase<2.0.0,==1.2.0\n",
            "  Downloading https://files.pythonhosted.org/packages/f3/1f/1241aa3d66e8dc1612427b17885f5fcd9c9ee3079fc0d28e9a3aeeb36fa3/stringcase-1.2.0.tar.gz\n",
            "Collecting marshmallow-enum<2.0.0,>=1.5.1\n",
            "  Downloading https://files.pythonhosted.org/packages/c6/59/ef3a3dc499be447098d4a89399beb869f813fee1b5a57d5d79dee2c1bf51/marshmallow_enum-1.5.1-py2.py3-none-any.whl\n",
            "Collecting typing-inspect>=0.4.0\n",
            "  Downloading https://files.pythonhosted.org/packages/ad/fa/77565f652ce57ed56d3a63d537c885a18e4451cf2d56d944991aeb3c82bd/typing_inspect-0.7.1-py3-none-any.whl\n",
            "Collecting mypy-extensions>=0.3.0\n",
            "  Downloading https://files.pythonhosted.org/packages/5c/eb/975c7c080f3223a5cdaff09612f3a5221e4ba534f7039db34c35d95fa6a5/mypy_extensions-0.4.3-py2.py3-none-any.whl\n",
            "Requirement already satisfied: typing-extensions>=3.7.4 in /usr/local/lib/python3.7/dist-packages (from typing-inspect>=0.4.0->dataclasses-json->sentinelhub) (3.7.4.3)\n",
            "Building wheels for collected packages: sentinelhub, utm, stringcase\n",
            "  Building wheel for sentinelhub (setup.py) ... \u001b[?25l\u001b[?25hdone\n",
            "  Created wheel for sentinelhub: filename=sentinelhub-3.3.1-cp37-none-any.whl size=210148 sha256=d7628ba6b914b843ea9faf067a5a557a818f8724f067331b5ce4841855d332e4\n",
            "  Stored in directory: /root/.cache/pip/wheels/40/81/42/eed5d100149b40f3aa73d1724b50bd4f78b87a32fb0a3e8a16\n",
            "  Building wheel for utm (setup.py) ... \u001b[?25l\u001b[?25hdone\n",
            "  Created wheel for utm: filename=utm-0.7.0-cp37-none-any.whl size=6110 sha256=f7f05cf50256675af895c698985adb5ff7fa78c7a5d557c2980c4eb5e89ec82b\n",
            "  Stored in directory: /root/.cache/pip/wheels/d3/a0/c4/93c7535fe705e70d2376505fd2683f91524a50a944a15212d9\n",
            "  Building wheel for stringcase (setup.py) ... \u001b[?25l\u001b[?25hdone\n",
            "  Created wheel for stringcase: filename=stringcase-1.2.0-cp37-none-any.whl size=3588 sha256=bf759d5b2c19cfef1086645aaff4b66866fdffbf06e895aa9eca6b217a864b65\n",
            "  Stored in directory: /root/.cache/pip/wheels/a0/16/a0/16e2c81dbd47503b5a35583dfabde5a93b4cf98dbf0033dad5\n",
            "Successfully built sentinelhub utm stringcase\n",
            "\u001b[31mERROR: botocore 1.20.97 has requirement urllib3<1.27,>=1.25.4, but you'll have urllib3 1.24.3 which is incompatible.\u001b[0m\n",
            "Installing collected packages: utm, jmespath, botocore, s3transfer, boto3, pyproj, aenum, marshmallow, stringcase, marshmallow-enum, mypy-extensions, typing-inspect, dataclasses-json, sentinelhub\n",
            "Successfully installed aenum-3.1.0 boto3-1.17.97 botocore-1.20.97 dataclasses-json-0.5.4 jmespath-0.10.0 marshmallow-3.12.1 marshmallow-enum-1.5.1 mypy-extensions-0.4.3 pyproj-3.1.0 s3transfer-0.4.2 sentinelhub-3.3.1 stringcase-1.2.0 typing-inspect-0.7.1 utm-0.7.0\n"
          ],
          "name": "stdout"
        }
      ]
    },
    {
      "cell_type": "markdown",
      "metadata": {
        "id": "A5vI5N3-2_ly"
      },
      "source": [
        "# Collect Satellite images and masks of the farmers location from multiple timestamps\n",
        "\n",
        "Our assignment is to detect, map and analyze deforestation in regions around India (more specifically, West Bengal). In order to be able to analyze deforestation, we must first be able to recognize afforestation from different periods. For that reason, we have satellite images from different periods ( Time Series satellite images ) and different spectral emissions ( Multispectral images), such as RGB and NDVI."
      ],
      "id": "A5vI5N3-2_ly"
    },
    {
      "cell_type": "code",
      "metadata": {
        "colab": {
          "base_uri": "https://localhost:8080/"
        },
        "id": "fDt92nHqAGK9",
        "outputId": "85be2146-36bc-48ce-87f5-1078c7d1ba47"
      },
      "source": [
        "from google.colab import drive\n",
        "drive.mount('/content/drive')"
      ],
      "id": "fDt92nHqAGK9",
      "execution_count": null,
      "outputs": [
        {
          "output_type": "stream",
          "text": [
            "Mounted at /content/drive\n"
          ],
          "name": "stdout"
        }
      ]
    },
    {
      "cell_type": "markdown",
      "metadata": {
        "id": "_JVpV0Gn2_l1"
      },
      "source": [
        "### Spectral emissions\n",
        "Different channels give different information, and the combinations of channels reveal more information about those satellite images.\n",
        "\n",
        "#### RGB \n",
        "The colors in an image will depend on what kind of light the satellite instrument measured. True-color images use visible light—red, green and blue wavelengths(RGB) thus the colors are similar to what a person would see from space.\n",
        "\n",
        "The true color product maps Sentinel-2 band values B04, B03, and B02 to the R, G, B components\n",
        "\n",
        "#### NDVI\n",
        "The NDVI is a basic yet efficient metric for assessing green vegetation that is well-known and extensively utilized.\n",
        "It compares green leaf scattering in near-infrared wavelengths to chlorophyll absorption in red wavelengths to normalize green leaf scattering. \n",
        "\n",
        "The normalized difference vegetation index, abbreviated NDVI, is defined as\n",
        "<img src=\"markdown_images\\ndvi_calculations.png\">"
      ],
      "id": "_JVpV0Gn2_l1"
    },
    {
      "cell_type": "code",
      "metadata": {
        "colab": {
          "base_uri": "https://localhost:8080/"
        },
        "id": "0tiPBrXZclQi",
        "outputId": "76523c31-9f9d-435a-bdde-395d43ab02a4"
      },
      "source": [
        "# python_script. In jupyter notebook, yoo can delete this cel and just import it\n",
        "\n",
        "# connector.py\n",
        "from sentinelhub import SHConfig\n",
        "# from dotenv import load_dotenv\n",
        "import os\n",
        "\n",
        "# load_dotenv()\n",
        "config = SHConfig()\n",
        "config.sh_client_id = '0bd9981e-9f55-48f8-a564-f5db87422602' \n",
        "config.sh_client_secret = '2#?ILN5#vU&0y6+{vm*]:^+Fqae^ro]:!>I1ka8+'\n",
        "\n",
        "if config.sh_client_id == '' or config.sh_client_secret == '':\n",
        "    print(\"Warning! To use Sentinel Hub Process API, please provide the credentials (client ID and client secret).\")\n",
        "else:\n",
        "    print(\"Succefully connected!\")\n",
        "\n",
        "# helper.py \n",
        "import numpy as np\n",
        "import matplotlib.pyplot as plt\n",
        "from sentinelhub import SentinelHubRequest, BBox, CRS, DataCollection, bbox_to_dimensions\n",
        "from sentinelhub.constants import MimeType\n",
        "\n",
        "\n",
        "def plot_image(image, factor=1/255, clip_range=(0, 1), **kwargs):\n",
        "    \"\"\"\n",
        "    Utility function for plotting RGB images.\n",
        "    \"\"\"\n",
        "    fig, ax = plt.subplots(nrows=1, ncols=1, figsize=(15, 15))\n",
        "    if clip_range is not None:\n",
        "        ax.imshow(np.clip(image * factor, *clip_range), **kwargs)\n",
        "    else:\n",
        "        ax.imshow(image * factor, **kwargs)\n",
        "    ax.set_xticks([])\n",
        "    ax.set_yticks([])\n",
        "\n",
        "\n",
        "def send_request(evalscript, input_data, coords, config, save_data, data_folder='../data/images'):\n",
        "    bbox = BBox(bbox=coords, crs=CRS.WGS84)\n",
        "    request = SentinelHubRequest(data_folder=data_folder, evalscript=evalscript, input_data=input_data, bbox=bbox, config=config, size=[512, 512], responses=[SentinelHubRequest.output_response('default', MimeType.TIFF)])\n",
        "    response = request.get_data(save_data=save_data)[0]\n",
        "    return response\n",
        "\n",
        "\n",
        "simple_request = lambda eval_script, coords, config, save_data, **kwargs: send_request(\n",
        "    eval_script, \n",
        "    [SentinelHubRequest.input_data(data_collection=DataCollection.SENTINEL2_L2A, time_interval=('2018-01-01', '2019-01-01'), **kwargs)], \n",
        "    coords, config, save_data\n",
        ")\n",
        "\n",
        "# Function that sends a request for an satellite image of a scene and timestamp \n",
        "sentinel_request = lambda eval_script, coords, time_interval, config, save_data, data_folder, **kwargs: send_request(\n",
        "    eval_script, \n",
        "    [SentinelHubRequest.input_data(data_collection=DataCollection.SENTINEL2_L2A, time_interval=time_interval, **kwargs)],\n",
        "    coords, config, save_data, data_folder\n",
        ")\n",
        "\n"
      ],
      "id": "0tiPBrXZclQi",
      "execution_count": null,
      "outputs": [
        {
          "output_type": "stream",
          "text": [
            "Succefully connected!\n"
          ],
          "name": "stdout"
        }
      ]
    },
    {
      "cell_type": "code",
      "metadata": {
        "id": "sfrysE-Ke3Wo"
      },
      "source": [
        "# eval_scripts folder\n",
        "\n",
        "evalscript_true_color = \"\"\"\n",
        "    //VERSION=3\n",
        "\n",
        "    function setup() {\n",
        "        return {\n",
        "            input: [{ bands: [\"B02\", \"B03\", \"B04\"] }],\n",
        "            output: { bands: 3 }\n",
        "        };\n",
        "    }\n",
        "\n",
        "    function evaluatePixel(sample) {\n",
        "      return [2.5 * sample.B04, 2.5 * sample.B03, 2.5 * sample.B02];\n",
        "    }\n",
        "\"\"\"\n",
        "\n",
        "evalscript_ndvi_values = \"\"\"\n",
        "\n",
        "//VERSION=3\n",
        "    function setup() {\n",
        "      return{\n",
        "        input: [{\n",
        "          bands: [\"B04\", \"B08\"]\n",
        "        }],\n",
        "        output: {\n",
        "          id: \"default\",\n",
        "          bands: 1,\n",
        "          sampleType: SampleType.FLOAT32\n",
        "        }\n",
        "      }\n",
        "    }\n",
        "\n",
        "    \n",
        "\n",
        "    function evaluatePixel(sample) {\n",
        "      let ndvi = (sample.B08 - sample.B04) / (sample.B08 + sample.B04)\n",
        "      return [ ndvi ]\n",
        "    }\n",
        "\"\"\"\n"
      ],
      "id": "sfrysE-Ke3Wo",
      "execution_count": null,
      "outputs": []
    },
    {
      "cell_type": "code",
      "metadata": {
        "scrolled": true,
        "id": "iZF-hbg-2_l2"
      },
      "source": [
        "# uncomment the code  below in jupyter notebook and remove uppper cel of python script.\n",
        "# from python_scripts.connector import * # linked account to Sentinel hub configurations\n",
        "# from python_scripts.helper import * # conatins functions to creat and send a SentinelhubRequest and plot image\n",
        "\n",
        "# evalscript for the composite of bands and the value that we want Sentinelhub to return \n",
        "# from eval_scripts.evalscript_true_color import *\n",
        "# from eval_scripts.evalscript_ndvi_values  import *\n",
        "\n",
        "from sentinelhub import MimeType, CRS, BBox, SentinelHubRequest, SentinelHubDownloadClient,DataCollection, bbox_to_dimensions, SHConfig\n",
        "from sentinelhub.geo_utils import to_wgs84\n",
        "from sentinelhub.constants import CRS\n",
        "from sentinelhub import SentinelHubCatalog\n",
        "\n",
        "import datetime\n",
        "import matplotlib.pyplot as plt # visualisation \n",
        "import numpy as np \n",
        "import pandas as pd\n",
        "import time # time the performance\n",
        "import os, shutil \n",
        "from PIL import Image, ImageEnhance\n",
        "import json"
      ],
      "id": "iZF-hbg-2_l2",
      "execution_count": null,
      "outputs": []
    },
    {
      "cell_type": "markdown",
      "metadata": {
        "id": "nutWQPqBVNyf"
      },
      "source": [
        "The below cell will contains all the functions and other code that has to go into a python script adn imported in to the notebook. "
      ],
      "id": "nutWQPqBVNyf"
    },
    {
      "cell_type": "code",
      "metadata": {
        "id": "kBGMyzfvVMuh"
      },
      "source": [
        "# Python Script\n",
        "\n",
        "def get_time_slots(start, end, chunks):\n",
        "    \"\"\"\n",
        "    Get the avalable time windows (time slots)\n",
        "    \"\"\" \n",
        "    datetime_start = datetime.datetime.strptime(start, '%Y-%m-%d')\n",
        "    datetime_end   = datetime.datetime.strptime(end, '%Y-%m-%d')\n",
        "    \n",
        "    tdelta = (datetime_end - datetime_start) / chunks\n",
        "    edges = [(datetime_start + i*tdelta).date().isoformat() for i in range(chunks)]\n",
        "    slots = [(edges[i], edges[i+1]) for i in range(len(edges)-1)]\n",
        "    return slots\n",
        "\n",
        "def bbox_converter(x):\n",
        "    \"\"\"\n",
        "    Convert coordinates (longitude, latitude) in to a bbox in WGS84 format.\n",
        "    \n",
        "    return [long, lat, long, lat]\n",
        "    \"\"\"\n",
        "    lng, lat = to_wgs84(x['Longitude'], x['Latitude'], CRS.WGS84)\n",
        "    coords = [lng -  0.025*3, lat - 0.025*3, lng +  0.022*3, lat + 0.022*3]\n",
        "    return coords\n",
        "\n",
        "def least_clouds():\n",
        "    return { \n",
        "    \"dataFilter\": { \n",
        "        \"maxCloudCoverage\": 0\n",
        "        } \n",
        "    }\n",
        "\n",
        "def empty_folder(folder):\n",
        "    \"\"\"\n",
        "    Delete all files in a folder \n",
        "    \"\"\"\n",
        "    for filename in os.listdir(folder):\n",
        "        file_path = os.path.join(folder, filename)\n",
        "        try:\n",
        "            if os.path.isfile(file_path) or os.path.islink(file_path):\n",
        "                os.unlink(file_path)\n",
        "            elif os.path.isdir(file_path):\n",
        "                shutil.rmtree(file_path)\n",
        "        except Exception as e:\n",
        "            print('Failed to delete %s. Reason: %s' % (file_path, e)) \n",
        "\n",
        "# creates a SentinelhubRequest in order to download satellite images for a given are and time window. \n",
        "def get_request_(evalscript, time_interval, coords, data_folder):\n",
        "    return SentinelHubRequest(\n",
        "        data_folder=data_folder, \n",
        "        evalscript=evalscript, \n",
        "        input_data=[\n",
        "        SentinelHubRequest.input_data(\n",
        "            data_collection=DataCollection.SENTINEL2_L2A, \n",
        "            time_interval=time_interval,\n",
        "            other_args = least_clouds())], \n",
        "        bbox=BBox(coords,crs=CRS.WGS84), \n",
        "        config=config, \n",
        "        size=[512, 512], \n",
        "        responses=[SentinelHubRequest.output_response('default', MimeType.PNG)])\n",
        "    \n",
        "def download_images(geolocations, evalscript, slots, data_folder):\n",
        "  \"\"\"\n",
        "  Download satellite images for geolocations, timestamps and for a composite bands. These imags will be saved in a datafolder.\n",
        "  \"\"\"\n",
        "  for index, row in geolocations.iterrows(): # iterate through each location\n",
        "      # create a list of requests\n",
        "      coords = bbox_converter(row) # convert each location to a bbox\n",
        "      print(coords)\n",
        "      list_of_requests = [get_request_(evalscript,slot, coords,data_folder) for slot in slots]\n",
        "      list_of_requests = [request.download_list[0] for request in list_of_requests]\n",
        "      \n",
        "      # download data with multiple threads\n",
        "      SentinelHubDownloadClient(config=config).download(list_of_requests, max_threads=8)\n",
        "\n",
        "def generate_mask(coords, slot, threshold, data_folder):\n",
        "    img_ndvi = sentinel_request(evalscript_ndvi_values, coords,slot, config, False,data_folder, other_args=least_clouds())\n",
        "    min_ndvi = threshold\n",
        "    ndvi_copy = img_ndvi.copy()\n",
        "    img_arr = np.where(ndvi_copy > min_ndvi, 255, 0) # categorize ndvi values into binary values/labels: 1(forest) and 0(not forest)\n",
        "    img_arr = img_arr.astype(np.uint8)\n",
        "    return img_arr\n",
        "\n",
        "def download_mask_v2(geolocations, slots, threshold, data_folder):\n",
        "  \"\"\"\n",
        "  Generate NDVI masks using Thresholding with a given threshold.\n",
        "  \"\"\"\n",
        "  for index, rows in geolocations.iterrows(): \n",
        "      coords = bbox_converter(rows) # convert each location to a bbox\n",
        "      for slot in slots:\n",
        "          labels = generate_mask(coords, slot, threshold, data_folder)\n",
        "          img = Image.fromarray(labels) # convert labels into image (masks)\n",
        "          filename = \"{}_{}_{}_{}_{}_{}\".format(coords[0], coords[1], coords[2],coords[3], slot[0], slot[1])\n",
        "          img.save(f'{data_folder}/{filename}.png') # save image/mask\n",
        "\n",
        "def parse_json(path):\n",
        "    input_json = open(path)\n",
        "    pased_json = json.load(input_json)\n",
        "    return pased_json\n",
        "\n",
        "def build_filename(json):\n",
        "  \"\"\"\n",
        "  Extract features from json file and rename image after features.\n",
        "  \"\"\"\n",
        "  item =  json['payload']['input']\n",
        "  bbox = item['bounds']['bbox']\n",
        "  date_start= item['data'][0]['dataFilter']['timeRange']['from'].split(\"T\")[0]\n",
        "  date_end  = item['data'][0]['dataFilter']['timeRange']['to'].split(\"T\")[0]\n",
        "\n",
        "  return \"{}_{}_{}_{}_{}_{}\".format(bbox[0], bbox[1], bbox[2],bbox[3], date_start, date_end) \n",
        "\n",
        "def images_structure(rootdir,new_rootdir):\n",
        "  \"\"\"\n",
        "  Extract and rename images and move image to another folder\n",
        "  \"\"\"\n",
        "  for root, subdirectories, files in os.walk(rootdir):\n",
        "      for subdirectory in subdirectories: # for each folder in dir:\n",
        "          request_json = f'{rootdir}/{subdirectory}/request.json'\n",
        "          response_png = f'{rootdir}/{subdirectory}/response.png'\n",
        "          if os.path.isfile(request_json) and os.path.isfile(response_png):\n",
        "              json_file = parse_json(request_json)\n",
        "              new_filename = f'{new_rootdir}/{build_filename(json_file)}.png'\n",
        "              shutil.copyfile(response_png,new_filename)\n",
        "\n",
        "# when created, you can import everything in the notebook.\n",
        "# script name: collect_data_backend.py\n",
        "# from collect_data_backend import *\n"
      ],
      "id": "kBGMyzfvVMuh",
      "execution_count": null,
      "outputs": []
    },
    {
      "cell_type": "code",
      "metadata": {
        "id": "OACRlTOqBeBD",
        "colab": {
          "base_uri": "https://localhost:8080/"
        },
        "outputId": "21f0f8d8-bb73-44ff-d36c-62039d799a11"
      },
      "source": [
        "# connecting to google drive \n",
        "from google.colab import drive\n",
        "drive.mount('/content/drive')"
      ],
      "id": "OACRlTOqBeBD",
      "execution_count": null,
      "outputs": [
        {
          "output_type": "stream",
          "text": [
            "Drive already mounted at /content/drive; to attempt to forcibly remount, call drive.mount(\"/content/drive\", force_remount=True).\n"
          ],
          "name": "stdout"
        }
      ]
    },
    {
      "cell_type": "markdown",
      "metadata": {
        "id": "Mp4Xeapr2_l3"
      },
      "source": [
        "## Step 1: Get the necessary timestamps\n",
        "\n",
        "We wanted to meausure deforestation by looking yearly decrease in afforestation across multiple regions in West Bengal India. Senintinel L2A data are avalaible since october 2016. Thus we chose timewindow from 2017 to 2020, with 2020 will be range from (01-01-2020 - 31-12-2020).\n",
        "\n",
        "https://docs.sentinel-hub.com/api/latest/data/sentinel-2-l2a/\n",
        "\n"
      ],
      "id": "Mp4Xeapr2_l3"
    },
    {
      "cell_type": "code",
      "metadata": {
        "id": "C3mMHxh42_l4",
        "colab": {
          "base_uri": "https://localhost:8080/"
        },
        "outputId": "29bd0105-68e0-4b8d-8d7c-c0e7f0a2faf5"
      },
      "source": [
        "slots = get_time_slots('2017-01-01', '2021-01-01', 4)\n",
        "print(\"Yearly time windows\")\n",
        "for slot in slots:\n",
        "    print(slot)"
      ],
      "id": "C3mMHxh42_l4",
      "execution_count": null,
      "outputs": [
        {
          "output_type": "stream",
          "text": [
            "Yearly time windows\n",
            "('2017-01-01', '2018-01-01')\n",
            "('2018-01-01', '2019-01-01')\n",
            "('2019-01-01', '2020-01-01')\n"
          ],
          "name": "stdout"
        }
      ]
    },
    {
      "cell_type": "markdown",
      "metadata": {
        "id": "Oj3xwJRs2_l4"
      },
      "source": [
        "## Step 2: Get the necessary coordinates \n",
        "We needto import the external datasets, which contains the coordinates of the the farmers that Capgemini works with in West bengal. The coordinates are in WGS884 and they're in decimel degrees."
      ],
      "id": "Oj3xwJRs2_l4"
    },
    {
      "cell_type": "code",
      "metadata": {
        "id": "8kfLrh6V2_l5"
      },
      "source": [
        "# convert coordinations_file (csv file) into a dataframe\n",
        "path_farmerslocations = '../data/locations/converted.csv'\n",
        "coordinations_df = pd.read_excel('/content/drive/My Drive/BB8/FarmerLocationExtract4Interns_test6.xlsx')"
      ],
      "id": "8kfLrh6V2_l5",
      "execution_count": null,
      "outputs": []
    },
    {
      "cell_type": "code",
      "metadata": {
        "id": "GiczeF3y2_l6"
      },
      "source": [
        "geolocations  = coordinations_df[['Longitude', 'Latitude']].copy()"
      ],
      "id": "GiczeF3y2_l6",
      "execution_count": null,
      "outputs": []
    },
    {
      "cell_type": "code",
      "metadata": {
        "colab": {
          "base_uri": "https://localhost:8080/",
          "height": 138
        },
        "id": "a4p0yfWD4RU1",
        "outputId": "9300aea5-c85a-4505-fc84-7ef756538616"
      },
      "source": [
        "# display the first 3 rows/coordinates \n",
        "geolocations.head(3)"
      ],
      "id": "a4p0yfWD4RU1",
      "execution_count": null,
      "outputs": [
        {
          "output_type": "execute_result",
          "data": {
            "text/html": [
              "<div>\n",
              "<style scoped>\n",
              "    .dataframe tbody tr th:only-of-type {\n",
              "        vertical-align: middle;\n",
              "    }\n",
              "\n",
              "    .dataframe tbody tr th {\n",
              "        vertical-align: top;\n",
              "    }\n",
              "\n",
              "    .dataframe thead th {\n",
              "        text-align: right;\n",
              "    }\n",
              "</style>\n",
              "<table border=\"1\" class=\"dataframe\">\n",
              "  <thead>\n",
              "    <tr style=\"text-align: right;\">\n",
              "      <th></th>\n",
              "      <th>Longitude</th>\n",
              "      <th>Latitude</th>\n",
              "    </tr>\n",
              "  </thead>\n",
              "  <tbody>\n",
              "    <tr>\n",
              "      <th>0</th>\n",
              "      <td>83.143071</td>\n",
              "      <td>21.219172</td>\n",
              "    </tr>\n",
              "    <tr>\n",
              "      <th>1</th>\n",
              "      <td>83.363071</td>\n",
              "      <td>21.219172</td>\n",
              "    </tr>\n",
              "    <tr>\n",
              "      <th>2</th>\n",
              "      <td>83.583071</td>\n",
              "      <td>21.219172</td>\n",
              "    </tr>\n",
              "  </tbody>\n",
              "</table>\n",
              "</div>"
            ],
            "text/plain": [
              "   Longitude   Latitude\n",
              "0  83.143071  21.219172\n",
              "1  83.363071  21.219172\n",
              "2  83.583071  21.219172"
            ]
          },
          "metadata": {
            "tags": []
          },
          "execution_count": 11
        }
      ]
    },
    {
      "cell_type": "markdown",
      "metadata": {
        "id": "U5wWt1N62_l7"
      },
      "source": [
        "## Step 3: Downloading satellite images and masks\n",
        "\n",
        "Now we have to download all the images that we need. We will achieve this with three functions: *empty_folder*, *download_images* and *download_mask_v2*.\n",
        "*   download_images: download satellite images from different timestamps and multiple spectral emissions using SentinelHub.\n",
        "*   download_masks: generating NDVI masks using Thresholding with a global threshold of 0.55.\n",
        "\n"
      ],
      "id": "U5wWt1N62_l7"
    },
    {
      "cell_type": "code",
      "metadata": {
        "id": "zw_MOM0m2_l8"
      },
      "source": [
        "# remove all files form these folders\n",
        "#below are the folders \n",
        "path_true_colour_images = '../data/images_completed_png' # contains the folders with the images and the json file from SentinelHub \n",
        "path_true_colours_images_testset= '../data/true_colours_images_testset_v2' # contains the true colour images.\n",
        "path_mask_thresholding = '../data/mask_completed' # contains the NDVI mask from download_mask_v2\n",
        "\n",
        "# empty_folder(path_true_colour_images)\n",
        "# empty_folder( path_true_colours_images_testset)\n",
        "# empty_folder(path_mask_thresholding)\n",
        "\n",
        "empty_folder('/content/drive/My Drive/BB8/West_Bengal_dataset_v3/images')\n",
        "empty_folder('/content/drive/My Drive/BB8/West_Bengal_dataset_v3/images_enhanced')\n",
        "empty_folder('/content/drive/My Drive/BB8/West_Bengal_dataset_v3/mask_ndvi_threshold')\n"
      ],
      "id": "zw_MOM0m2_l8",
      "execution_count": null,
      "outputs": []
    },
    {
      "cell_type": "code",
      "metadata": {
        "id": "A41K55Wd2_l-",
        "colab": {
          "base_uri": "https://localhost:8080/"
        },
        "outputId": "28422e98-bc48-4b0f-9959-06ef9f1808cd"
      },
      "source": [
        "# acquiring the true colour (RGB) satellite images \n",
        "start = time.perf_counter()\n",
        "download_images(geolocations,evalscript_true_color, slots, '/content/drive/My Drive/BB8/West_Bengal_dataset_v3/images') # change path to path_true_colour_images\n",
        "end = time.perf_counter()\n",
        "print(\"Done in: {} seconds\".format( end - start))"
      ],
      "id": "A41K55Wd2_l-",
      "execution_count": null,
      "outputs": [
        {
          "output_type": "stream",
          "text": [
            "[83.06807099999999, 21.144172, 83.209071, 21.285172]\n",
            "[83.28807099999999, 21.144172, 83.429071, 21.285172]\n",
            "[83.50807099999999, 21.144172, 83.64907099999999, 21.285172]\n",
            "[83.72807099999999, 21.144172, 83.86907099999999, 21.285172]\n",
            "[83.94807099999998, 21.144172, 84.08907099999999, 21.285172]\n",
            "[84.16807099999998, 21.144172, 84.30907099999999, 21.285172]\n",
            "[84.38807099999998, 21.144172, 84.52907099999999, 21.285172]\n",
            "[84.60807099999998, 21.144172, 84.74907099999999, 21.285172]\n",
            "[84.82807099999998, 21.144172, 84.96907099999999, 21.285172]\n",
            "[85.04807099999998, 21.144172, 85.18907099999998, 21.285172]\n",
            "[85.26807099999998, 21.144172, 85.40907099999998, 21.285172]\n",
            "[85.48807099999998, 21.144172, 85.62907099999998, 21.285172]\n",
            "[85.70807099999998, 21.144172, 85.84907099999998, 21.285172]\n",
            "[85.92807099999997, 21.144172, 86.06907099999998, 21.285172]\n",
            "[86.14807099999997, 21.144172, 86.28907099999998, 21.285172]\n",
            "[86.36807099999997, 21.144172, 86.50907099999998, 21.285172]\n",
            "[86.58807099999997, 21.144172, 86.72907099999998, 21.285172]\n",
            "[86.80807099999997, 21.144172, 86.94907099999998, 21.285172]\n",
            "[87.02807099999997, 21.144172, 87.16907099999997, 21.285172]\n",
            "[87.24807099999997, 21.144172, 87.38907099999997, 21.285172]\n",
            "[87.46807099999997, 21.144172, 87.60907099999997, 21.285172]\n",
            "[83.06807099999999, 21.364172, 83.209071, 21.505171999999998]\n",
            "[83.28807099999999, 21.364172, 83.429071, 21.505171999999998]\n",
            "[83.50807099999999, 21.364172, 83.64907099999999, 21.505171999999998]\n",
            "[83.72807099999999, 21.364172, 83.86907099999999, 21.505171999999998]\n",
            "[83.94807099999998, 21.364172, 84.08907099999999, 21.505171999999998]\n",
            "[84.16807099999998, 21.364172, 84.30907099999999, 21.505171999999998]\n",
            "[84.38807099999998, 21.364172, 84.52907099999999, 21.505171999999998]\n",
            "[84.60807099999998, 21.364172, 84.74907099999999, 21.505171999999998]\n",
            "[84.82807099999998, 21.364172, 84.96907099999999, 21.505171999999998]\n",
            "[85.04807099999998, 21.364172, 85.18907099999998, 21.505171999999998]\n",
            "[85.26807099999998, 21.364172, 85.40907099999998, 21.505171999999998]\n",
            "[85.48807099999998, 21.364172, 85.62907099999998, 21.505171999999998]\n",
            "[85.70807099999998, 21.364172, 85.84907099999998, 21.505171999999998]\n",
            "[85.92807099999997, 21.364172, 86.06907099999998, 21.505171999999998]\n",
            "[86.14807099999997, 21.364172, 86.28907099999998, 21.505171999999998]\n",
            "[86.36807099999997, 21.364172, 86.50907099999998, 21.505171999999998]\n",
            "[86.58807099999997, 21.364172, 86.72907099999998, 21.505171999999998]\n",
            "[86.80807099999997, 21.364172, 86.94907099999998, 21.505171999999998]\n",
            "[87.02807099999997, 21.364172, 87.16907099999997, 21.505171999999998]\n",
            "[87.24807099999997, 21.364172, 87.38907099999997, 21.505171999999998]\n",
            "[87.46807099999997, 21.364172, 87.60907099999997, 21.505171999999998]\n",
            "[83.06807099999999, 21.584172000000002, 83.209071, 21.725172]\n",
            "[83.28807099999999, 21.584172000000002, 83.429071, 21.725172]\n",
            "[83.50807099999999, 21.584172000000002, 83.64907099999999, 21.725172]\n",
            "[83.72807099999999, 21.584172000000002, 83.86907099999999, 21.725172]\n",
            "[83.94807099999998, 21.584172000000002, 84.08907099999999, 21.725172]\n",
            "[84.16807099999998, 21.584172000000002, 84.30907099999999, 21.725172]\n",
            "[84.38807099999998, 21.584172000000002, 84.52907099999999, 21.725172]\n",
            "[84.60807099999998, 21.584172000000002, 84.74907099999999, 21.725172]\n",
            "[84.82807099999998, 21.584172000000002, 84.96907099999999, 21.725172]\n",
            "[85.04807099999998, 21.584172000000002, 85.18907099999998, 21.725172]\n",
            "[85.26807099999998, 21.584172000000002, 85.40907099999998, 21.725172]\n",
            "[85.48807099999998, 21.584172000000002, 85.62907099999998, 21.725172]\n",
            "[85.70807099999998, 21.584172000000002, 85.84907099999998, 21.725172]\n",
            "[85.92807099999997, 21.584172000000002, 86.06907099999998, 21.725172]\n",
            "[86.14807099999997, 21.584172000000002, 86.28907099999998, 21.725172]\n",
            "[86.36807099999997, 21.584172000000002, 86.50907099999998, 21.725172]\n",
            "[86.58807099999997, 21.584172000000002, 86.72907099999998, 21.725172]\n",
            "[86.80807099999997, 21.584172000000002, 86.94907099999998, 21.725172]\n",
            "[87.02807099999997, 21.584172000000002, 87.16907099999997, 21.725172]\n",
            "[87.24807099999997, 21.584172000000002, 87.38907099999997, 21.725172]\n",
            "[87.46807099999997, 21.584172000000002, 87.60907099999997, 21.725172]\n",
            "[83.06807099999999, 21.804172, 83.209071, 21.945172]\n",
            "[83.28807099999999, 21.804172, 83.429071, 21.945172]\n",
            "[83.50807099999999, 21.804172, 83.64907099999999, 21.945172]\n",
            "[83.72807099999999, 21.804172, 83.86907099999999, 21.945172]\n",
            "[83.94807099999998, 21.804172, 84.08907099999999, 21.945172]\n",
            "[84.16807099999998, 21.804172, 84.30907099999999, 21.945172]\n",
            "[84.38807099999998, 21.804172, 84.52907099999999, 21.945172]\n",
            "[84.60807099999998, 21.804172, 84.74907099999999, 21.945172]\n",
            "[84.82807099999998, 21.804172, 84.96907099999999, 21.945172]\n",
            "[85.04807099999998, 21.804172, 85.18907099999998, 21.945172]\n",
            "[85.26807099999998, 21.804172, 85.40907099999998, 21.945172]\n",
            "[85.48807099999998, 21.804172, 85.62907099999998, 21.945172]\n",
            "[85.70807099999998, 21.804172, 85.84907099999998, 21.945172]\n",
            "[85.92807099999997, 21.804172, 86.06907099999998, 21.945172]\n",
            "[86.14807099999997, 21.804172, 86.28907099999998, 21.945172]\n",
            "[86.36807099999997, 21.804172, 86.50907099999998, 21.945172]\n",
            "[86.58807099999997, 21.804172, 86.72907099999998, 21.945172]\n",
            "[86.80807099999997, 21.804172, 86.94907099999998, 21.945172]\n",
            "[87.02807099999997, 21.804172, 87.16907099999997, 21.945172]\n",
            "[87.24807099999997, 21.804172, 87.38907099999997, 21.945172]\n",
            "[87.46807099999997, 21.804172, 87.60907099999997, 21.945172]\n",
            "Done in: 200.3631706289998 seconds\n"
          ],
          "name": "stdout"
        }
      ]
    },
    {
      "cell_type": "code",
      "metadata": {
        "id": "aFSMOurM2_l_",
        "colab": {
          "base_uri": "https://localhost:8080/"
        },
        "outputId": "9c690c66-65fa-4c46-cd78-b359f79b9c00"
      },
      "source": [
        "# acquiring the NDVI masks \n",
        "start = time.perf_counter()\n",
        "download_mask_v2(geolocations, slots,0.55, '/content/drive/My Drive/BB8/West_Bengal_dataset_v3/mask_ndvi_threshold') # chang path to path_mask_thresholding\n",
        "end = time.perf_counter()\n",
        "print(\"Done in: {} seconds\".format( end - start))"
      ],
      "id": "aFSMOurM2_l_",
      "execution_count": null,
      "outputs": [
        {
          "output_type": "stream",
          "text": [
            "Done in: 480.29134333100046 seconds\n"
          ],
          "name": "stdout"
        }
      ]
    },
    {
      "cell_type": "markdown",
      "metadata": {
        "id": "gBhAtmV62_l_"
      },
      "source": [
        "## Step 4: Get and rename images\n",
        "\n",
        "The images that are downloaded from sentinelhub comes in a folder with the image labeled *response.png* and a request json file.\n",
        "\n",
        "we wil extract the images from the folder and we wil rename the after the following characterestics that we would extract from the request json file:\n",
        "\n",
        "*bounding box_time window* or <br>\n",
        "*min Longitude_min Latitude_max Longitude_max Latitude_date_start_date_end*\n",
        "\n",
        "lastly we wil move these images to another folder.We wil upload the folders to OneDrive."
      ],
      "id": "gBhAtmV62_l_"
    },
    {
      "cell_type": "code",
      "metadata": {
        "id": "mw-OcEMN2_mA"
      },
      "source": [
        "rootdir_true_colors = '/content/drive/My Drive/BB8/West_Bengal_dataset_v3/images'\n",
        "new_rootdir_true_colors = '/content/drive/My Drive/BB8/West_Bengal_dataset_v3/images'\n",
        "images_structure(rootdir_true_colors, new_rootdir_true_colors)"
      ],
      "id": "mw-OcEMN2_mA",
      "execution_count": null,
      "outputs": []
    },
    {
      "cell_type": "code",
      "metadata": {
        "id": "JEOtsqqPdVFQ"
      },
      "source": [
        "rootdir = '/content/drive/My Drive/BB8/West_Bengal_dataset_v3/images'\n",
        "for filename in os.listdir(rootdir):\n",
        "  if filename.endswith('.png'):\n",
        "    im = Image.open(f'{rootdir}/{filename}')\n",
        "    sharpness = ImageEnhance.Sharpness(im)\n",
        "    brightness= ImageEnhance.Brightness(im)\n",
        "    img = sharpness.enhance(3)\n",
        "    img = brightness.enhance(2)\n",
        "    img.save(f'/content/drive/My Drive/BB8/West_Bengal_dataset_v3/images_enhanced/{filename}.png')"
      ],
      "id": "JEOtsqqPdVFQ",
      "execution_count": null,
      "outputs": []
    },
    {
      "cell_type": "markdown",
      "metadata": {
        "id": "sWu7T_inKbym"
      },
      "source": [
        "## Test Cases"
      ],
      "id": "sWu7T_inKbym"
    },
    {
      "cell_type": "code",
      "metadata": {
        "id": "jjxoI5jxKbFg"
      },
      "source": [
        "import unittest "
      ],
      "id": "jjxoI5jxKbFg",
      "execution_count": null,
      "outputs": []
    },
    {
      "cell_type": "code",
      "metadata": {
        "id": "8xiBtzy7OsNt",
        "colab": {
          "base_uri": "https://localhost:8080/"
        },
        "outputId": "8568a943-6f6b-482d-95c1-5faadcd80100"
      },
      "source": [
        "class Test(unittest.TestCase):\n",
        "\n",
        "\n",
        "  def test_get_time_slot(self):\n",
        "    actuele_tijdstvensters = [\n",
        "    ('2017-01-01', '2017-01-07'),\n",
        "    ('2017-01-07', '2017-01-13'),\n",
        "    ('2017-01-13', '2017-01-19'),\n",
        "    ('2017-01-19', '2017-01-25')]\n",
        "    verwachte_tijdsvensters = get_time_slots('2017-01-01','2017-01-31', 5)\n",
        "    self.assertEqual(verwachte_tijdsvensters, actuele_tijdstvensters)\n",
        "\n",
        "   \n",
        "  def test_bbox_converter(self):\n",
        "    actuele_bounding_box = [83.06807099999999,21.144172,83.209071,21.285172]\n",
        "    coordinations_df = pd.read_excel('/content/drive/My Drive/BB8/FarmerLocationExtract4Interns_test6.xlsx')\n",
        "    geolocations  = coordinations_df[['Longitude', 'Latitude']].copy()\n",
        "    verwachte_bounding_box = bbox_converter(geolocations.iloc[0])\n",
        "    self.assertEqual(verwachte_bounding_box, actuele_bounding_box)\n",
        "  \n",
        "  # def test_generate_mask(self):\n",
        "  #   # get mask from the Amazon RainForest Data set \n",
        "  #   # Amazon_720.tiff_40.tiff\n",
        "  #   coordinates = [-55.1953125, -12.487397424166666, -55.14817974277778, -12.441361218611112]\n",
        "  #   tijdvensters = [\n",
        "  #   ('2017-01-01', '2017-01-07'),\n",
        "  #   ('2017-01-07', '2017-01-13'),\n",
        "  #   ('2017-01-13', '2017-01-19'),\n",
        "  #   ('2017-01-19', '2017-01-25')]\n",
        "  #   actuele_mask = np.asarray( Image.open('/content/drive/My Drive/BB8/Amazon Forest Dataset/Training/masks/Amazon_720.tiff_40.png') )\n",
        "  #   verwachte_mask = generate_mask(coords = coordinates, slot= tijdvensters[3],threshold= 0.55,data_folder= '/content/drive/My Drive/BB8/junk_images')\n",
        "\n",
        "  #   self.assertEqual(verwachte_mask.all(), actuele_mask.all())\n",
        "    \n",
        "  def test_build_filename(self):\n",
        "    actuele_filename = '83.06807099999999_21.144172_83.209071_21.285172_2017-01-01_2018-01-01.png.png'\n",
        "    verwachte_filename = build_filename(parse_json('/content/drive/My Drive/BB8/West_Bengal_dataset_v3/images/0a994d7706ae966adbb39fc7161faa60/request.json'))\n",
        "    \n",
        "    self.assertEqual(verwachte_filename, actuele_filename)\n",
        "\n",
        "\n",
        "unittest.main(argv=[''], defaultTest='Test', verbosity=2, exit=False)"
      ],
      "id": "8xiBtzy7OsNt",
      "execution_count": 35,
      "outputs": [
        {
          "output_type": "stream",
          "text": [
            "test_bbox_converter (__main__.Test) ... ok\n",
            "test_build_filename (__main__.Test) ... ok\n",
            "test_get_time_slot (__main__.Test) ... ok\n",
            "\n",
            "----------------------------------------------------------------------\n",
            "Ran 3 tests in 0.022s\n",
            "\n",
            "OK\n"
          ],
          "name": "stderr"
        },
        {
          "output_type": "execute_result",
          "data": {
            "text/plain": [
              "<unittest.main.TestProgram at 0x7efca7cad110>"
            ]
          },
          "metadata": {
            "tags": []
          },
          "execution_count": 35
        }
      ]
    },
    {
      "cell_type": "code",
      "metadata": {
        "id": "L0_sSnQeO1tj",
        "colab": {
          "base_uri": "https://localhost:8080/"
        },
        "outputId": "667bf423-d967-44c0-9a11-49d6d55902ec"
      },
      "source": [
        "class TestHelper(unittest.TestCase):\n",
        "\n",
        "\n",
        "  def test_sentinel_request(self): # test with Amazon rainForest \n",
        "\n",
        "      tijdvensters = [\n",
        "      ('2017-01-01', '2018-01-01'),\n",
        "      ('2018-01-01', '2019-01-01'),\n",
        "      ('2019-01-01', '2020-01-01')]\n",
        "      actuele_img = np.asarray( Image.open('/content/drive/My Drive/BB8/Amazon Forest Dataset/Training/images/png/Amazon_720.png') )\n",
        "      coordinates = [-55.1953125, -12.487397424166666, -55.14817974277778, -12.441361218611112]\n",
        "      verwachte_img = sentinel_request(evalscript_true_color, coordinates, tijdvensters[1], config, False,'/content/drive/My Drive/BB8/junk_images', other_args=least_clouds())\n",
        "\n",
        "      self.assertAlmostEqual(verwachte_img.all(), actuele_img.all())\n",
        "    \n",
        "unittest.main(argv=[''], defaultTest='TestHelper', verbosity=2, exit=False)"
      ],
      "id": "L0_sSnQeO1tj",
      "execution_count": 55,
      "outputs": [
        {
          "output_type": "stream",
          "text": [
            "test_sentinel_request (__main__.TestHelper) ... ok\n",
            "\n",
            "----------------------------------------------------------------------\n",
            "Ran 1 test in 3.919s\n",
            "\n",
            "OK\n"
          ],
          "name": "stderr"
        },
        {
          "output_type": "execute_result",
          "data": {
            "text/plain": [
              "<unittest.main.TestProgram at 0x7efca7d3d4d0>"
            ]
          },
          "metadata": {
            "tags": []
          },
          "execution_count": 55
        }
      ]
    }
  ]
}