{
 "cells": [
  {
   "cell_type": "code",
   "execution_count": 3,
   "metadata": {},
   "outputs": [],
   "source": [
    "import pandas as pd"
   ]
  },
  {
   "cell_type": "code",
   "execution_count": 4,
   "metadata": {},
   "outputs": [],
   "source": [
    "df = pd.read_excel('../data/locations/FarmerLocationExtract4Interns.xlsx', engine='openpyxl')"
   ]
  },
  {
   "cell_type": "code",
   "execution_count": 5,
   "metadata": {},
   "outputs": [],
   "source": [
    "def filter_1(x):\n",
    "    if x[-1] == \"'\":\n",
    "        return x[:-2] + '\"' if x[-2] == \"'\" else x[:-1] + '\"'\n",
    "    return x\n",
    "\n",
    "def filter_2(x):\n",
    "    if x[5] == '\"':\n",
    "        return x[:4] + \"'\" + x[6:]\n",
    "    return x"
   ]
  },
  {
   "cell_type": "code",
   "execution_count": 6,
   "metadata": {},
   "outputs": [],
   "source": [
    "for column_name in ['P1_Longitude', 'P1_Latitude']:\n",
    "    df = df[df[column_name].notna()]\n",
    "    df[column_name] = df[column_name].str.replace('⁰', '˚')\n",
    "    df[column_name] = df[column_name].apply(filter_1)\n",
    "    df[column_name] = df[column_name].apply(filter_2)"
   ]
  },
  {
   "cell_type": "code",
   "execution_count": 7,
   "metadata": {},
   "outputs": [],
   "source": [
    "writer = pd.ExcelWriter('../data/locations/FarmerLocationExtract4Interns_arcgis.xlsx', engine='xlsxwriter')\n",
    "df.to_excel(writer, sheet_name='Sheet1')\n",
    "writer.save()"
   ]
  }
 ],
 "metadata": {
  "kernelspec": {
   "display_name": "Python 3",
   "language": "python",
   "name": "python3"
  },
  "language_info": {
   "codemirror_mode": {
    "name": "ipython",
    "version": 3
   },
   "file_extension": ".py",
   "mimetype": "text/x-python",
   "name": "python",
   "nbconvert_exporter": "python",
   "pygments_lexer": "ipython3",
   "version": "3.8.3"
  }
 },
 "nbformat": 4,
 "nbformat_minor": 2
}
