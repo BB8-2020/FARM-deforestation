{
 "cells": [
  {
   "cell_type": "markdown",
   "metadata": {},
   "source": [
    "# Collect Satellite images of the farmers location from multiple timestamps"
   ]
  },
  {
   "cell_type": "code",
   "execution_count": null,
   "metadata": {
    "scrolled": true
   },
   "outputs": [],
   "source": [
    "from python_scripts.connector import *\n",
    "from python_scripts.helper import *\n",
    "\n",
    "from eval_scripts.evalscript_true_color import *\n",
    "from eval_scripts.evalscript_ndvi import *\n",
    "from eval_scripts.evalscript_ndvi_values  import *\n",
    "\n",
    "from sentinelhub import MimeType, CRS, BBox, SentinelHubRequest, SentinelHubDownloadClient,DataCollection, bbox_to_dimensions, SHConfig\n",
    "from sentinelhub.geo_utils import to_wgs84\n",
    "from sentinelhub.constants import CRS\n",
    "from sentinelhub import SentinelHubCatalog\n",
    "\n",
    "import datetime\n",
    "import matplotlib.pyplot as plt\n",
    "import numpy as np\n",
    "import pandas as pd\n"
   ]
  },
  {
   "cell_type": "markdown",
   "metadata": {},
   "source": [
    "## Step 1: Get the necessary timestamps"
   ]
  },
  {
   "cell_type": "code",
   "execution_count": null,
   "metadata": {},
   "outputs": [],
   "source": [
    "def get_time_slots(start, end, chunks):\n",
    "    \"\"\"\n",
    "    Get the avalable time windows (time slots)\n",
    "    \"\"\" \n",
    "    datetime_start = datetime.datetime.strptime(start, '%Y-%m-%d')\n",
    "    datetime_end   = datetime.datetime.strptime(end, '%Y-%m-%d')\n",
    "    \n",
    "    tdelta = (datetime_end - datetime_start) / chunks\n",
    "    edges = [(datetime_start + i*tdelta).date().isoformat() for i in range(chunks)]\n",
    "    slots = [(edges[i], edges[i+1]) for i in range(len(edges)-1)]\n",
    "    return slots\n",
    "    "
   ]
  },
  {
   "cell_type": "code",
   "execution_count": null,
   "metadata": {},
   "outputs": [],
   "source": [
    "slots = get_time_slots('2017-01-01', '2022-01-01', 5)\n",
    "print(\"Yearly time windows\")\n",
    "for slot in slots:\n",
    "    print(slot)"
   ]
  },
  {
   "cell_type": "markdown",
   "metadata": {},
   "source": [
    "## Step 2: Get the necessary coordinates "
   ]
  },
  {
   "cell_type": "code",
   "execution_count": null,
   "metadata": {},
   "outputs": [],
   "source": [
    "# convert coordinations_file (csv file) into a dataframe\n",
    "coordinations_df = pd.read_excel('data/locations/FarmerLocationExtract4Interns_sentinel-hub.xlsx')"
   ]
  },
  {
   "cell_type": "code",
   "execution_count": null,
   "metadata": {},
   "outputs": [],
   "source": [
    "# Based on how far wail is with the conversion of the coordinates of the farmers location, we need to check whether or \n",
    "# the coordination needs to mdofied. \n",
    "coordinations_df"
   ]
  },
  {
   "cell_type": "code",
   "execution_count": null,
   "metadata": {},
   "outputs": [],
   "source": [
    "coordinations_df.columns"
   ]
  },
  {
   "cell_type": "code",
   "execution_count": null,
   "metadata": {},
   "outputs": [],
   "source": [
    "def bbox_converter(x):\n",
    "    \"\"\"\n",
    "    Convert coordinates (longitude, latitude) in to a bbox in WGS84 format.\n",
    "    \n",
    "    return [long, lat, long, lat]\n",
    "    \"\"\"\n",
    "    lng, lat = to_wgs84(x['P1_Longitude'], x['P1_Latitude'], CRS.WGS84)\n",
    "    coords = [lng - 0.1, lat - 0.1, lng + 0.1, lat + 0.1]\n",
    "    return coords"
   ]
  },
  {
   "cell_type": "code",
   "execution_count": null,
   "metadata": {},
   "outputs": [],
   "source": [
    "geolocations  = coordinations_df[['P1_Longitude', 'P1_Latitude']].copy()"
   ]
  },
  {
   "cell_type": "code",
   "execution_count": null,
   "metadata": {},
   "outputs": [],
   "source": [
    "geolocations[geolocations['P1_Latitude'].str.contains('\"')]"
   ]
  },
  {
   "cell_type": "code",
   "execution_count": null,
   "metadata": {},
   "outputs": [],
   "source": [
    "geolocations['P1_Latitude'] = geolocations['P1_Latitude'].str.replace('\"', '')"
   ]
  },
  {
   "cell_type": "code",
   "execution_count": null,
   "metadata": {},
   "outputs": [],
   "source": [
    "geolocations[geolocations['P1_Latitude'].str.contains('\"')]"
   ]
  },
  {
   "cell_type": "code",
   "execution_count": null,
   "metadata": {},
   "outputs": [],
   "source": [
    "geolocations = geolocations.astype(\"float64\")"
   ]
  },
  {
   "cell_type": "code",
   "execution_count": null,
   "metadata": {},
   "outputs": [],
   "source": [
    "geolocations.dtypes"
   ]
  },
  {
   "cell_type": "markdown",
   "metadata": {},
   "source": [
    "## Create requests for the labels"
   ]
  },
  {
   "cell_type": "code",
   "execution_count": null,
   "metadata": {},
   "outputs": [],
   "source": [
    "def map_ndvi_label(ndvi):\n",
    "    \"\"\"\n",
    "    Categorizing range of ndvi values to a label.\n",
    "    We have two categories: \n",
    "    1. trees - 1\n",
    "    2. not trees - 0\n",
    "    We categorize evey ndvi values that is higher than our threshold(0.6) to be trees (1).\n",
    "    Everything that is equal or less than our threshold (0.6) we be 'not trees' (0): \n",
    "    \"\"\"\n",
    "    min_ndvi = 0.6\n",
    "    ndvi_copy = ndvi.copy()\n",
    "\n",
    "    labels = np.where(ndvi_copy > min_ndvi, 1, 0)\n",
    "     \n",
    "    return labels"
   ]
  },
  {
   "cell_type": "code",
   "execution_count": null,
   "metadata": {},
   "outputs": [],
   "source": [
    "def labels_request(coords, slot, config):\n",
    "    \"\"\"\n",
    "    Download labels in binary array from sentinel hub.\n",
    "    \n",
    "    return: numpy array of 0 and 1\n",
    "    \"\"\"\n",
    "    ndvi_values = sentinel_request(evalscript_ndvi_values, coords, slot, config, False, other_args=least_clouds())\n",
    "    ndvi_labels= map_ndvi_label(ndvi_values)\n",
    "    \n",
    "    return ndvi_labels\n",
    "    "
   ]
  },
  {
   "cell_type": "markdown",
   "metadata": {},
   "source": [
    "## Download all the satellite images "
   ]
  },
  {
   "cell_type": "code",
   "execution_count": null,
   "metadata": {},
   "outputs": [],
   "source": [
    "import time # time the performance"
   ]
  },
  {
   "cell_type": "code",
   "execution_count": null,
   "metadata": {},
   "outputs": [],
   "source": [
    "def least_clouds():\n",
    "    return { \n",
    "    \"dataFilter\": { \n",
    "        \"maxCloudCoverage\": 10\n",
    "        } \n",
    "    } "
   ]
  },
  {
   "cell_type": "code",
   "execution_count": null,
   "metadata": {},
   "outputs": [],
   "source": [
    "for index, row in geolocations.iterrows(): # iterate through each location\n",
    "    \n",
    "    coords = bbox_converter(row) # convert each location to a bbox\n",
    "    \n",
    "    requests = []\n",
    "    labels = [] # TODO check if this is the correct way to store the labels \n",
    "    \n",
    "    start = time.perf_counter()\n",
    "    for slot in slots:\n",
    "        img_true = sentinel_request(evalscript_true_color, coords,slot, config, True, other_args=least_clouds())\n",
    "        img_ndvi = sentinel_request(evalscript_ndvi      , coords,slot, config, True, other_args=least_clouds())\n",
    "        requests.extend([img_true, img_ndvi])\n",
    "        \n",
    "        # get the labels\n",
    "        binary_arr_labels = labels_request(coords, slot, config)\n",
    "        labels.append(binary_arr_labels) # TODO  check if this is correct\n",
    "    end = time.perf_counter()\n",
    "    print(\"Done in: {} seconds\".format( end - start))"
   ]
  },
  {
   "cell_type": "markdown",
   "metadata": {},
   "source": [
    "Below you wil find a function the plot images for one specific scene/area and the given timestamps"
   ]
  },
  {
   "cell_type": "code",
   "execution_count": null,
   "metadata": {},
   "outputs": [],
   "source": [
    "def plot_images(data, slots):\n",
    "    # some stuff for pretty plots\n",
    "    ncols = 2\n",
    "    nrows = 2\n",
    "    aspect_ratio = betsiboka_size[0] / betsiboka_size[1]\n",
    "    subplot_kw = {'xticks': [], 'yticks': [], 'frame_on': False}\n",
    "\n",
    "    fig, axs = plt.subplots(ncols=ncols, nrows=nrows, figsize=(5 * ncols * aspect_ratio, 5 * nrows),\n",
    "                            subplot_kw=subplot_kw)\n",
    "\n",
    "    for idx, image in enumerate(data):\n",
    "        ax = axs[idx // ncols][idx % ncols]\n",
    "        ax.imshow(np.clip(image * 2.5/255, 0, 1))\n",
    "        ax.set_title(f'{slots[idx][0]}  -  {slots[idx][1]}', fontsize=10)\n",
    "\n",
    "    plt.tight_layout()"
   ]
  }
 ],
 "metadata": {
  "kernelspec": {
   "display_name": "Python 3",
   "language": "python",
   "name": "python3"
  },
  "language_info": {
   "codemirror_mode": {
    "name": "ipython",
    "version": 3
   },
   "file_extension": ".py",
   "mimetype": "text/x-python",
   "name": "python",
   "nbconvert_exporter": "python",
   "pygments_lexer": "ipython3",
   "version": "3.8.1"
  }
 },
 "nbformat": 4,
 "nbformat_minor": 5
}
