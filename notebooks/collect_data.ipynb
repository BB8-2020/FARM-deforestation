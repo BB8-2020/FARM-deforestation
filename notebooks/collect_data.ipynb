{
 "cells": [
  {
   "cell_type": "code",
   "execution_count": null,
   "metadata": {
    "scrolled": true
   },
   "outputs": [],
   "source": [
    "from python_scripts.connector import *\n",
    "from python_scripts.helper import *\n",
    "\n",
    "from eval_scripts.evalscript_true_color import *\n",
    "from eval_scripts.evalscript_ndvi import *\n",
    "from eval_scripts.evalscript_ndvi_values  import *\n",
    "\n",
    "from sentinelhub import MimeType, CRS, BBox, SentinelHubRequest, SentinelHubDownloadClient,DataCollection, bbox_to_dimensions, SHConfig\n",
    "from sentinelhub.geo_utils import to_wgs84\n",
    "from sentinelhub.constants import CRS\n",
    "from sentinelhub import SentinelHubCatalog\n",
    "\n",
    "import datetime\n",
    "import matplotlib.pyplot as plt\n",
    "import numpy as np\n",
    "import pandas as pd\n"
   ]
  },
  {
   "cell_type": "code",
   "execution_count": null,
   "metadata": {},
   "outputs": [],
   "source": [
    "def get_time_slots(start, end, chunks):\n",
    "    \"\"\"\n",
    "    Get the avalable time windows (time slots)\n",
    "    \"\"\" \n",
    "    datetime_start = datetime.datetime.strptime(start, '%Y-%m-%d')\n",
    "    datetime_end   = datetime.datetime.strptime(end, '%Y-%m-%d')\n",
    "    \n",
    "    tdelta = (datetime_end - datetime_start) / chunks\n",
    "    edges = [(datetime_start + i*tdelta).date().isoformat() for i in range(chunks)]\n",
    "    slots = [(edges[i], edges[i+1]) for i in range(len(edges)-1)]\n",
    "    return slots\n",
    "    "
   ]
  },
  {
   "cell_type": "code",
   "execution_count": null,
   "metadata": {},
   "outputs": [],
   "source": [
    "def get_true_color_request(time_interval):\n",
    "    return SentinelHubRequest(\n",
    "        evalscript=evalscript_true_color,\n",
    "        input_data=[\n",
    "            SentinelHubRequest.input_data(\n",
    "                data_collection=DataCollection.SENTINEL2_L2A,\n",
    "                time_interval=time_interval,\n",
    "                mosaicking_order='leastCC' # TODO: change to set coud coverage to desired percentage\n",
    "            )\n",
    "        ],\n",
    "        responses=[\n",
    "            SentinelHubRequest.output_response('default', MimeType.PNG)\n",
    "        ],\n",
    "        bbox=betsiboka_bbox,\n",
    "        size=betsiboka_size,\n",
    "        config=config\n",
    "    )"
   ]
  },
  {
   "cell_type": "code",
   "execution_count": null,
   "metadata": {},
   "outputs": [],
   "source": [
    "def bbox_converter(lng, lat):\n",
    "    \n",
    "    lng, lat = to_wgs84(lng, lat, CRS.WGS84)\n",
    "    coords = [lng - 0.1, lat - 0.1, lng + 0.1, lat + 0.1]\n",
    "    return coords"
   ]
  },
  {
   "cell_type": "code",
   "execution_count": null,
   "metadata": {},
   "outputs": [],
   "source": [
    "def get_mask(eval_script, coordinations_file, slots, config):\n",
    "    \"\"\"\n",
    "    Get mask from sentinel hub of the all the farmers location  and different timestamps.\n",
    "    \"\"\"\n",
    "    no_clouds = { \n",
    "    \"dataFilter\": { \n",
    "        \"maxCloudCoverage\": 0\n",
    "        } \n",
    "    } \n",
    "    # convert coordinations_file (csv file) into a dataframe\n",
    "    coordinations_df = pd.read_csv(coordinations_file, sep= \";\")\n",
    "    \n",
    "    # create a list of requests\n",
    "    for index, rows in coordinations_df.iterrows(): # iterate through each location \n",
    "        \n",
    "        coords = bbox_converter(rows[\"Longitude\"], rows['Latitude'])\n",
    "        \n",
    "        list_of_requests = [sentinel_request(eval_script, slot, config, False, other_args=no_clouds) for slot in slots]\n",
    "        list_of_request = [request.download_list[0] for request in list_of_requests]\n",
    "    \n",
    "        # download data with multiple threads\n",
    "        data = SentinelHubDownloadClient(config=config).download(list_of_requests, max_threads=5)\n",
    "    \n",
    "    return data"
   ]
  },
  {
   "cell_type": "code",
   "execution_count": null,
   "metadata": {},
   "outputs": [],
   "source": [
    "def plot_images(data, slots):\n",
    "    # some stuff for pretty plots\n",
    "    ncols = 2\n",
    "    nrows = 2\n",
    "    aspect_ratio = betsiboka_size[0] / betsiboka_size[1]\n",
    "    subplot_kw = {'xticks': [], 'yticks': [], 'frame_on': False}\n",
    "\n",
    "    fig, axs = plt.subplots(ncols=ncols, nrows=nrows, figsize=(5 * ncols * aspect_ratio, 5 * nrows),\n",
    "                            subplot_kw=subplot_kw)\n",
    "\n",
    "    for idx, image in enumerate(data):\n",
    "        ax = axs[idx // ncols][idx % ncols]\n",
    "        ax.imshow(np.clip(image * 2.5/255, 0, 1))\n",
    "        ax.set_title(f'{slots[idx][0]}  -  {slots[idx][1]}', fontsize=10)\n",
    "\n",
    "    plt.tight_layout()"
   ]
  },
  {
   "cell_type": "code",
   "execution_count": null,
   "metadata": {},
   "outputs": [],
   "source": [
    "slots = get_time_slots('2017-01-01', '2022-01-01', 5)\n",
    "print(\"Yearly time windows\")\n",
    "for slot in slots:\n",
    "    print(slot)"
   ]
  }
 ],
 "metadata": {
  "kernelspec": {
   "display_name": "Python 3",
   "language": "python",
   "name": "python3"
  },
  "language_info": {
   "codemirror_mode": {
    "name": "ipython",
    "version": 3
   },
   "file_extension": ".py",
   "mimetype": "text/x-python",
   "name": "python",
   "nbconvert_exporter": "python",
   "pygments_lexer": "ipython3",
   "version": "3.8.1"
  }
 },
 "nbformat": 4,
 "nbformat_minor": 5
}
