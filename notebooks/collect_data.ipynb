{
 "cells": [
  {
   "cell_type": "markdown",
   "metadata": {},
   "source": [
    "# Collect Satellite images of the farmers location from multiple timestamps"
   ]
  },
  {
   "cell_type": "code",
   "execution_count": 1,
   "metadata": {
    "scrolled": true
   },
   "outputs": [
    {
     "name": "stdout",
     "output_type": "stream",
     "text": [
      "Succefully connected!\n"
     ]
    }
   ],
   "source": [
    "from python_scripts.connector import *\n",
    "from python_scripts.helper import *\n",
    "\n",
    "from eval_scripts.evalscript_true_color import *\n",
    "from eval_scripts.evalscript_ndvi import *\n",
    "from eval_scripts.evalscript_ndvi_values  import *\n",
    "\n",
    "from sentinelhub import MimeType, CRS, BBox, SentinelHubRequest, SentinelHubDownloadClient,DataCollection, bbox_to_dimensions, SHConfig\n",
    "from sentinelhub.geo_utils import to_wgs84\n",
    "from sentinelhub.constants import CRS\n",
    "from sentinelhub import SentinelHubCatalog\n",
    "\n",
    "import datetime\n",
    "import matplotlib.pyplot as plt\n",
    "import numpy as np\n",
    "import pandas as pd\n"
   ]
  },
  {
   "cell_type": "markdown",
   "metadata": {},
   "source": [
    "## Step 1: Get the necessary timestamps"
   ]
  },
  {
   "cell_type": "code",
   "execution_count": 2,
   "metadata": {},
   "outputs": [],
   "source": [
    "def get_time_slots(start, end, chunks):\n",
    "    \"\"\"\n",
    "    Get the avalable time windows (time slots)\n",
    "    \"\"\" \n",
    "    datetime_start = datetime.datetime.strptime(start, '%Y-%m-%d')\n",
    "    datetime_end   = datetime.datetime.strptime(end, '%Y-%m-%d')\n",
    "    \n",
    "    tdelta = (datetime_end - datetime_start) / chunks\n",
    "    edges = [(datetime_start + i*tdelta).date().isoformat() for i in range(chunks)]\n",
    "    slots = [(edges[i], edges[i+1]) for i in range(len(edges)-1)]\n",
    "    return slots\n",
    "    "
   ]
  },
  {
   "cell_type": "code",
   "execution_count": 3,
   "metadata": {},
   "outputs": [
    {
     "name": "stdout",
     "output_type": "stream",
     "text": [
      "Yearly time windows\n",
      "('2017-01-01', '2018-01-01')\n",
      "('2018-01-01', '2019-01-01')\n",
      "('2019-01-01', '2020-01-01')\n",
      "('2020-01-01', '2020-12-31')\n"
     ]
    }
   ],
   "source": [
    "slots = get_time_slots('2017-01-01', '2022-01-01', 5)\n",
    "print(\"Yearly time windows\")\n",
    "for slot in slots:\n",
    "    print(slot)"
   ]
  },
  {
   "cell_type": "markdown",
   "metadata": {},
   "source": [
    "## Step 2: Get the necessary coordinates "
   ]
  },
  {
   "cell_type": "code",
   "execution_count": 4,
   "metadata": {},
   "outputs": [],
   "source": [
    "# convert coordinations_file (csv file) into a dataframe\n",
    "coordinations_df = pd.read_excel('data/locations/FarmerLocationExtract4Interns_sentinel-hub.xlsx')"
   ]
  },
  {
   "cell_type": "code",
   "execution_count": 5,
   "metadata": {},
   "outputs": [
    {
     "data": {
      "text/html": [
       "<div>\n",
       "<style scoped>\n",
       "    .dataframe tbody tr th:only-of-type {\n",
       "        vertical-align: middle;\n",
       "    }\n",
       "\n",
       "    .dataframe tbody tr th {\n",
       "        vertical-align: top;\n",
       "    }\n",
       "\n",
       "    .dataframe thead th {\n",
       "        text-align: right;\n",
       "    }\n",
       "</style>\n",
       "<table border=\"1\" class=\"dataframe\">\n",
       "  <thead>\n",
       "    <tr style=\"text-align: right;\">\n",
       "      <th></th>\n",
       "      <th>Unnamed: 0</th>\n",
       "      <th>Name</th>\n",
       "      <th>Mobile (anonymized)</th>\n",
       "      <th>Mouza</th>\n",
       "      <th>GP</th>\n",
       "      <th>Block</th>\n",
       "      <th>Land_ID1</th>\n",
       "      <th>Land_Size2</th>\n",
       "      <th>P1_Latitude</th>\n",
       "      <th>P1_Longitude</th>\n",
       "    </tr>\n",
       "  </thead>\n",
       "  <tbody>\n",
       "    <tr>\n",
       "      <th>0</th>\n",
       "      <td>0</td>\n",
       "      <td>TEMP_NAME</td>\n",
       "      <td>PHONE01</td>\n",
       "      <td>Baksa</td>\n",
       "      <td>11 No Arrah</td>\n",
       "      <td>Nayagram</td>\n",
       "      <td>40</td>\n",
       "      <td>0.167</td>\n",
       "      <td>21.5439876</td>\n",
       "      <td>87.118996</td>\n",
       "    </tr>\n",
       "    <tr>\n",
       "      <th>1</th>\n",
       "      <td>1</td>\n",
       "      <td>TEMP_NAME</td>\n",
       "      <td>PHONE02</td>\n",
       "      <td>Banskhali</td>\n",
       "      <td>11 No Arrah</td>\n",
       "      <td>Nayagram</td>\n",
       "      <td>100/53</td>\n",
       "      <td>0.333</td>\n",
       "      <td>21.535550432</td>\n",
       "      <td>87.454971</td>\n",
       "    </tr>\n",
       "    <tr>\n",
       "      <th>2</th>\n",
       "      <td>2</td>\n",
       "      <td>TEMP_NAME</td>\n",
       "      <td>PHONE03</td>\n",
       "      <td>Pathrasol</td>\n",
       "      <td>12 No Chandrarekha</td>\n",
       "      <td>Nayagram</td>\n",
       "      <td>51</td>\n",
       "      <td>0.333</td>\n",
       "      <td>21.581197383</td>\n",
       "      <td>87.157488</td>\n",
       "    </tr>\n",
       "    <tr>\n",
       "      <th>3</th>\n",
       "      <td>3</td>\n",
       "      <td>TEMP_NAME</td>\n",
       "      <td>PHONE04</td>\n",
       "      <td>Ramkrishnapur</td>\n",
       "      <td>11 No Arrah</td>\n",
       "      <td>Nayagram</td>\n",
       "      <td>36/947</td>\n",
       "      <td>0.167</td>\n",
       "      <td>21.535747928</td>\n",
       "      <td>87.139477</td>\n",
       "    </tr>\n",
       "    <tr>\n",
       "      <th>4</th>\n",
       "      <td>4</td>\n",
       "      <td>TEMP_NAME</td>\n",
       "      <td>PHONE05</td>\n",
       "      <td>Bamdiha</td>\n",
       "      <td>11 No Arrah</td>\n",
       "      <td>Nayagram</td>\n",
       "      <td>92</td>\n",
       "      <td>0.333</td>\n",
       "      <td>21.55262056</td>\n",
       "      <td>87.229918</td>\n",
       "    </tr>\n",
       "    <tr>\n",
       "      <th>...</th>\n",
       "      <td>...</td>\n",
       "      <td>...</td>\n",
       "      <td>...</td>\n",
       "      <td>...</td>\n",
       "      <td>...</td>\n",
       "      <td>...</td>\n",
       "      <td>...</td>\n",
       "      <td>...</td>\n",
       "      <td>...</td>\n",
       "      <td>...</td>\n",
       "    </tr>\n",
       "    <tr>\n",
       "      <th>244</th>\n",
       "      <td>245</td>\n",
       "      <td>TEMP_NAME</td>\n",
       "      <td>PHONE246</td>\n",
       "      <td>Bamdiha</td>\n",
       "      <td>11 No Arrah</td>\n",
       "      <td>Nayagram</td>\n",
       "      <td>230</td>\n",
       "      <td>0.260</td>\n",
       "      <td>21.5547784</td>\n",
       "      <td>87.216591</td>\n",
       "    </tr>\n",
       "    <tr>\n",
       "      <th>245</th>\n",
       "      <td>246</td>\n",
       "      <td>TEMP_NAME</td>\n",
       "      <td>PHONE247</td>\n",
       "      <td>Bamdiha</td>\n",
       "      <td>11 No Arrah</td>\n",
       "      <td>Nayagram</td>\n",
       "      <td>47/1</td>\n",
       "      <td>0.260</td>\n",
       "      <td>21.55475356</td>\n",
       "      <td>87.216591</td>\n",
       "    </tr>\n",
       "    <tr>\n",
       "      <th>246</th>\n",
       "      <td>247</td>\n",
       "      <td>TEMP_NAME</td>\n",
       "      <td>PHONE248</td>\n",
       "      <td>Bamdiha</td>\n",
       "      <td>11 No Arrah</td>\n",
       "      <td>Nayagram</td>\n",
       "      <td>285</td>\n",
       "      <td>0.520</td>\n",
       "      <td>21.52133968</td>\n",
       "      <td>87.530772</td>\n",
       "    </tr>\n",
       "    <tr>\n",
       "      <th>247</th>\n",
       "      <td>248</td>\n",
       "      <td>TEMP_NAME</td>\n",
       "      <td>PHONE249</td>\n",
       "      <td>Bamdiha</td>\n",
       "      <td>11 No Arrah</td>\n",
       "      <td>Nayagram</td>\n",
       "      <td>51</td>\n",
       "      <td>0.520</td>\n",
       "      <td>21.55487128</td>\n",
       "      <td>87.215806</td>\n",
       "    </tr>\n",
       "    <tr>\n",
       "      <th>248</th>\n",
       "      <td>249</td>\n",
       "      <td>TEMP_NAME</td>\n",
       "      <td>PHONE250</td>\n",
       "      <td>Bamdiha</td>\n",
       "      <td>11 No Arrah</td>\n",
       "      <td>Nayagram</td>\n",
       "      <td>42</td>\n",
       "      <td>0.100</td>\n",
       "      <td>21.93153264</td>\n",
       "      <td>87.034325</td>\n",
       "    </tr>\n",
       "  </tbody>\n",
       "</table>\n",
       "<p>249 rows × 10 columns</p>\n",
       "</div>"
      ],
      "text/plain": [
       "     Unnamed: 0       Name Mobile (anonymized)          Mouza  \\\n",
       "0             0  TEMP_NAME             PHONE01          Baksa   \n",
       "1             1  TEMP_NAME             PHONE02      Banskhali   \n",
       "2             2  TEMP_NAME             PHONE03      Pathrasol   \n",
       "3             3  TEMP_NAME             PHONE04  Ramkrishnapur   \n",
       "4             4  TEMP_NAME             PHONE05        Bamdiha   \n",
       "..          ...        ...                 ...            ...   \n",
       "244         245  TEMP_NAME            PHONE246        Bamdiha   \n",
       "245         246  TEMP_NAME            PHONE247        Bamdiha   \n",
       "246         247  TEMP_NAME            PHONE248        Bamdiha   \n",
       "247         248  TEMP_NAME            PHONE249        Bamdiha   \n",
       "248         249  TEMP_NAME            PHONE250        Bamdiha   \n",
       "\n",
       "                     GP     Block Land_ID1  Land_Size2   P1_Latitude  \\\n",
       "0           11 No Arrah  Nayagram       40       0.167    21.5439876   \n",
       "1           11 No Arrah  Nayagram   100/53       0.333  21.535550432   \n",
       "2    12 No Chandrarekha  Nayagram       51       0.333  21.581197383   \n",
       "3           11 No Arrah  Nayagram   36/947       0.167  21.535747928   \n",
       "4           11 No Arrah  Nayagram       92       0.333   21.55262056   \n",
       "..                  ...       ...      ...         ...           ...   \n",
       "244         11 No Arrah  Nayagram      230       0.260    21.5547784   \n",
       "245         11 No Arrah  Nayagram     47/1       0.260   21.55475356   \n",
       "246         11 No Arrah  Nayagram      285       0.520   21.52133968   \n",
       "247         11 No Arrah  Nayagram       51       0.520   21.55487128   \n",
       "248         11 No Arrah  Nayagram       42       0.100   21.93153264   \n",
       "\n",
       "     P1_Longitude  \n",
       "0       87.118996  \n",
       "1       87.454971  \n",
       "2       87.157488  \n",
       "3       87.139477  \n",
       "4       87.229918  \n",
       "..            ...  \n",
       "244     87.216591  \n",
       "245     87.216591  \n",
       "246     87.530772  \n",
       "247     87.215806  \n",
       "248     87.034325  \n",
       "\n",
       "[249 rows x 10 columns]"
      ]
     },
     "execution_count": 5,
     "metadata": {},
     "output_type": "execute_result"
    }
   ],
   "source": [
    "# Based on how far wail is with the conversion of the coordinates of the farmers location, we need to check whether or \n",
    "# the coordination needs to mdofied. \n",
    "coordinations_df"
   ]
  },
  {
   "cell_type": "code",
   "execution_count": 6,
   "metadata": {},
   "outputs": [
    {
     "data": {
      "text/plain": [
       "Index(['Unnamed: 0', 'Name', 'Mobile (anonymized)', 'Mouza', 'GP', 'Block',\n",
       "       'Land_ID1', 'Land_Size2', 'P1_Latitude', 'P1_Longitude'],\n",
       "      dtype='object')"
      ]
     },
     "execution_count": 6,
     "metadata": {},
     "output_type": "execute_result"
    }
   ],
   "source": [
    "coordinations_df.columns"
   ]
  },
  {
   "cell_type": "code",
   "execution_count": 7,
   "metadata": {},
   "outputs": [],
   "source": [
    "def bbox_converter(x):\n",
    "    \"\"\"\n",
    "    Convert coordinates (longitude, latitude) in to a bbox in WGS84 format.\n",
    "    \n",
    "    return [long, lat, long, lat]\n",
    "    \"\"\"\n",
    "    lng, lat = to_wgs84(x['P1_Longitude'], x['P1_Latitude'], CRS.WGS84)\n",
    "    coords = [lng - 0.1, lat - 0.1, lng + 0.1, lat + 0.1]\n",
    "    return coords"
   ]
  },
  {
   "cell_type": "code",
   "execution_count": 8,
   "metadata": {},
   "outputs": [],
   "source": [
    "geolocations  = coordinations_df[['P1_Longitude', 'P1_Latitude']].copy()"
   ]
  },
  {
   "cell_type": "code",
   "execution_count": 9,
   "metadata": {},
   "outputs": [
    {
     "data": {
      "text/html": [
       "<div>\n",
       "<style scoped>\n",
       "    .dataframe tbody tr th:only-of-type {\n",
       "        vertical-align: middle;\n",
       "    }\n",
       "\n",
       "    .dataframe tbody tr th {\n",
       "        vertical-align: top;\n",
       "    }\n",
       "\n",
       "    .dataframe thead th {\n",
       "        text-align: right;\n",
       "    }\n",
       "</style>\n",
       "<table border=\"1\" class=\"dataframe\">\n",
       "  <thead>\n",
       "    <tr style=\"text-align: right;\">\n",
       "      <th></th>\n",
       "      <th>P1_Longitude</th>\n",
       "      <th>P1_Latitude</th>\n",
       "    </tr>\n",
       "  </thead>\n",
       "  <tbody>\n",
       "    <tr>\n",
       "      <th>14</th>\n",
       "      <td>87.242824</td>\n",
       "      <td>21.54\"95616</td>\n",
       "    </tr>\n",
       "    <tr>\n",
       "      <th>15</th>\n",
       "      <td>87.234883</td>\n",
       "      <td>21.54\"8830</td>\n",
       "    </tr>\n",
       "    <tr>\n",
       "      <th>16</th>\n",
       "      <td>87.234738</td>\n",
       "      <td>21.54\"329472</td>\n",
       "    </tr>\n",
       "  </tbody>\n",
       "</table>\n",
       "</div>"
      ],
      "text/plain": [
       "    P1_Longitude   P1_Latitude\n",
       "14     87.242824   21.54\"95616\n",
       "15     87.234883    21.54\"8830\n",
       "16     87.234738  21.54\"329472"
      ]
     },
     "execution_count": 9,
     "metadata": {},
     "output_type": "execute_result"
    }
   ],
   "source": [
    "geolocations[geolocations['P1_Latitude'].str.contains('\"')]"
   ]
  },
  {
   "cell_type": "code",
   "execution_count": 10,
   "metadata": {},
   "outputs": [],
   "source": [
    "geolocations['P1_Latitude'] = geolocations['P1_Latitude'].str.replace('\"', '')"
   ]
  },
  {
   "cell_type": "code",
   "execution_count": 11,
   "metadata": {},
   "outputs": [
    {
     "data": {
      "text/html": [
       "<div>\n",
       "<style scoped>\n",
       "    .dataframe tbody tr th:only-of-type {\n",
       "        vertical-align: middle;\n",
       "    }\n",
       "\n",
       "    .dataframe tbody tr th {\n",
       "        vertical-align: top;\n",
       "    }\n",
       "\n",
       "    .dataframe thead th {\n",
       "        text-align: right;\n",
       "    }\n",
       "</style>\n",
       "<table border=\"1\" class=\"dataframe\">\n",
       "  <thead>\n",
       "    <tr style=\"text-align: right;\">\n",
       "      <th></th>\n",
       "      <th>P1_Longitude</th>\n",
       "      <th>P1_Latitude</th>\n",
       "    </tr>\n",
       "  </thead>\n",
       "  <tbody>\n",
       "  </tbody>\n",
       "</table>\n",
       "</div>"
      ],
      "text/plain": [
       "Empty DataFrame\n",
       "Columns: [P1_Longitude, P1_Latitude]\n",
       "Index: []"
      ]
     },
     "execution_count": 11,
     "metadata": {},
     "output_type": "execute_result"
    }
   ],
   "source": [
    "geolocations[geolocations['P1_Latitude'].str.contains('\"')]"
   ]
  },
  {
   "cell_type": "code",
   "execution_count": 12,
   "metadata": {},
   "outputs": [],
   "source": [
    "geolocations = geolocations.astype(\"float64\")"
   ]
  },
  {
   "cell_type": "code",
   "execution_count": 13,
   "metadata": {},
   "outputs": [
    {
     "data": {
      "text/plain": [
       "P1_Longitude    float64\n",
       "P1_Latitude     float64\n",
       "dtype: object"
      ]
     },
     "execution_count": 13,
     "metadata": {},
     "output_type": "execute_result"
    }
   ],
   "source": [
    "geolocations.dtypes"
   ]
  },
  {
   "cell_type": "code",
   "execution_count": 14,
   "metadata": {},
   "outputs": [
    {
     "data": {
      "text/html": [
       "<div>\n",
       "<style scoped>\n",
       "    .dataframe tbody tr th:only-of-type {\n",
       "        vertical-align: middle;\n",
       "    }\n",
       "\n",
       "    .dataframe tbody tr th {\n",
       "        vertical-align: top;\n",
       "    }\n",
       "\n",
       "    .dataframe thead th {\n",
       "        text-align: right;\n",
       "    }\n",
       "</style>\n",
       "<table border=\"1\" class=\"dataframe\">\n",
       "  <thead>\n",
       "    <tr style=\"text-align: right;\">\n",
       "      <th></th>\n",
       "      <th>P1_Longitude</th>\n",
       "      <th>P1_Latitude</th>\n",
       "    </tr>\n",
       "  </thead>\n",
       "  <tbody>\n",
       "    <tr>\n",
       "      <th>0</th>\n",
       "      <td>87.118996</td>\n",
       "      <td>21.543988</td>\n",
       "    </tr>\n",
       "    <tr>\n",
       "      <th>1</th>\n",
       "      <td>87.454971</td>\n",
       "      <td>21.535550</td>\n",
       "    </tr>\n",
       "    <tr>\n",
       "      <th>2</th>\n",
       "      <td>87.157488</td>\n",
       "      <td>21.581197</td>\n",
       "    </tr>\n",
       "  </tbody>\n",
       "</table>\n",
       "</div>"
      ],
      "text/plain": [
       "   P1_Longitude  P1_Latitude\n",
       "0     87.118996    21.543988\n",
       "1     87.454971    21.535550\n",
       "2     87.157488    21.581197"
      ]
     },
     "execution_count": 14,
     "metadata": {},
     "output_type": "execute_result"
    }
   ],
   "source": [
    "geolocations.iloc[:3]"
   ]
  },
  {
   "cell_type": "code",
   "execution_count": 15,
   "metadata": {},
   "outputs": [],
   "source": [
    "# geolocations.to_csv('coordinaten.csv', sep='\\t')"
   ]
  },
  {
   "cell_type": "markdown",
   "metadata": {},
   "source": [
    "## Download all the satellite images "
   ]
  },
  {
   "cell_type": "code",
   "execution_count": 16,
   "metadata": {},
   "outputs": [],
   "source": [
    "import time # time the performance\n",
    "import os, shutil"
   ]
  },
  {
   "cell_type": "code",
   "execution_count": 17,
   "metadata": {},
   "outputs": [],
   "source": [
    "def least_clouds():\n",
    "    return { \n",
    "    \"dataFilter\": { \n",
    "        \"maxCloudCoverage\": 1\n",
    "        } \n",
    "    } "
   ]
  },
  {
   "cell_type": "code",
   "execution_count": 18,
   "metadata": {},
   "outputs": [],
   "source": [
    "def empty_folder(folder):\n",
    "    \"\"\"\n",
    "    delete files in folder \n",
    "    \"\"\"\n",
    "    for filename in os.listdir(folder):\n",
    "        file_path = os.path.join(folder, filename)\n",
    "        try:\n",
    "            if os.path.isfile(file_path) or os.path.islink(file_path):\n",
    "                os.unlink(file_path)\n",
    "            elif os.path.isdir(file_path):\n",
    "                shutil.rmtree(file_path)\n",
    "        except Exception as e:\n",
    "            print('Failed to delete %s. Reason: %s' % (file_path, e))\n",
    "    "
   ]
  },
  {
   "cell_type": "code",
   "execution_count": 19,
   "metadata": {},
   "outputs": [],
   "source": [
    "empty_folder('../data/images')\n",
    "empty_folder('../data/mask')\n",
    "empty_folder('../data/ndvi_values_mask')"
   ]
  },
  {
   "cell_type": "code",
   "execution_count": 20,
   "metadata": {},
   "outputs": [],
   "source": [
    "def get_request_(evalscript, time_interval, coords, data_folder):\n",
    "    return SentinelHubRequest(\n",
    "        data_folder=data_folder, \n",
    "        evalscript=evalscript, \n",
    "        input_data=[\n",
    "        SentinelHubRequest.input_data(\n",
    "            data_collection=DataCollection.SENTINEL2_L2A, \n",
    "            time_interval=time_interval,\n",
    "            mosaicking_order='leastCC')], \n",
    "        bbox=BBox(coords,crs=CRS.WGS84), \n",
    "        config=config, \n",
    "        size=[512, 512], \n",
    "        responses=[SentinelHubRequest.output_response('default', MimeType.PNG)])\n",
    "    \n",
    "    "
   ]
  },
  {
   "cell_type": "code",
   "execution_count": 21,
   "metadata": {},
   "outputs": [],
   "source": [
    "from eval_scripts.evalscript_true_color import *\n",
    "from eval_scripts.evalscript_forest import *\n",
    "from eval_scripts.evalscript_ndvi import *"
   ]
  },
  {
   "cell_type": "code",
   "execution_count": 22,
   "metadata": {},
   "outputs": [],
   "source": [
    "def download_images(geolocations, evalscript, slots, data_folder):\n",
    "    for index, row in geolocations.iterrows(): # iterate through each location\n",
    "        # create a list of requests\n",
    "        coords = bbox_converter(row) # convert each location to a bbox\n",
    "\n",
    "        list_of_requests = [get_request_(evalscript,slot, coords,data_folder) for slot in slots]\n",
    "        list_of_requests = [request.download_list[0] for request in list_of_requests]\n",
    "        \n",
    "        # download data with multiple threads\n",
    "        SentinelHubDownloadClient(config=config).download(list_of_requests, max_threads=8)"
   ]
  },
  {
   "cell_type": "code",
   "execution_count": null,
   "metadata": {},
   "outputs": [],
   "source": [
    "start = time.perf_counter()\n",
    "download_images(geolocations[:10],evalscript_true_color, slots, '../data/images' )\n",
    "end = time.perf_counter()\n",
    "print(\"Done in: {} seconds\".format( end - start))"
   ]
  },
  {
   "cell_type": "code",
   "execution_count": null,
   "metadata": {},
   "outputs": [],
   "source": [
    "#dowload mask - duurt heel lang\n",
    "# start = time.perf_counter()\n",
    "# download_images(geolocations.iloc[:50],evalscript_ndvi, slots, '../data/mask' )\n",
    "# end = time.perf_counter()\n",
    "# print(\"Done in: {} seconds\".format( end - start))"
   ]
  },
  {
   "cell_type": "code",
   "execution_count": null,
   "metadata": {},
   "outputs": [],
   "source": [
    "def download_mask_v2(geolocations, slots, data_folder):\n",
    "    for index, rows in geolocations \n",
    "         coords = bbox_converter(row) # convert each location to a bbox\n",
    "        for slot in slots:\n",
    "            img_ndvi = sentinel_request(evalscript_ndvi_values, bbox, slot config, False, other_args=no_clouds)\n",
    "            min_ndvi = 0.75\n",
    "            ndvi_copy = img_ndvi.copy()\n",
    "            labels = np.where(ndvi_copy > min_ndvi, 255, 0)\n",
    "            img = Image.fromarray(labels)\n",
    "            filename = \"{}_{}_{}_{}_{}_{}\".format(coords[0], coords[1], coords[2],coords[3], slot[0], slot[1])\n",
    "            img.save(f'{data_folder}/{filename}.png', 'PNG')"
   ]
  },
  {
   "cell_type": "code",
   "execution_count": null,
   "metadata": {},
   "outputs": [],
   "source": [
    "start = time.perf_counter()\n",
    "download_mask_v2(geolocations[:10], slots,'../data/ndvi_values_mask' )\n",
    "end = time.perf_counter()\n",
    "print(\"Done in: {} seconds\".format( end - start))"
   ]
  },
  {
   "cell_type": "markdown",
   "metadata": {},
   "source": [
    "## Get and rename images"
   ]
  },
  {
   "cell_type": "code",
   "execution_count": null,
   "metadata": {},
   "outputs": [],
   "source": [
    "import os\n",
    "import json\n",
    "import shutil"
   ]
  },
  {
   "cell_type": "code",
   "execution_count": null,
   "metadata": {},
   "outputs": [],
   "source": [
    "def parse_json(path):\n",
    "    input_json = open(path)\n",
    "    pased_json = json.load(input_json)\n",
    "    return pased_json"
   ]
  },
  {
   "cell_type": "code",
   "execution_count": null,
   "metadata": {},
   "outputs": [],
   "source": [
    "def build_filename(json):\n",
    "\n",
    "    item =  json['payload']['input']\n",
    "    bbox = item['bounds']['bbox']\n",
    "    date_start= item['data'][0]['dataFilter']['timeRange']['from'].split(\"T\")[0]\n",
    "    date_end  = item['data'][0]['dataFilter']['timeRange']['to'].split(\"T\")[0]\n",
    "    \n",
    "    return \"{}_{}_{}_{}_{}_{}\".format(bbox[0], bbox[1], bbox[2],bbox[3], date_start, date_end) # TODO : check format and . in naamgeving "
   ]
  },
  {
   "cell_type": "code",
   "execution_count": null,
   "metadata": {},
   "outputs": [],
   "source": [
    "build_filename(parse_json(r'C:\\Users\\Amaryllis Lee\\FARM-deforestation\\data\\images\\1484b4269e568648b673959b5a955ce4\\request.json'))"
   ]
  },
  {
   "cell_type": "code",
   "execution_count": null,
   "metadata": {},
   "outputs": [],
   "source": [
    "def images_structure(rootdir,new_rootdir):\n",
    "    for root, subdirectories, files in os.walk(rootdir):\n",
    "        for subdirectory in subdirectories: # for each folder in dir:\n",
    "            request_json = f'{rootdir}/{subdirectory}/request.json'\n",
    "            response_png = f'{rootdir}/{subdirectory}/response.png'\n",
    "            if os.path.isfile(request_json) and os.path.isfile(response_png):\n",
    "                json_file = parse_json(request_json)\n",
    "                new_filename = f'{new_rootdir}/{build_filename(json_file)}.png'\n",
    "                shutil.copyfile(response_png,new_filename)\n",
    "            # get image:\n",
    "            #rename image\n",
    "            #move to data amsk aand remove folder/subdir\n",
    "            "
   ]
  },
  {
   "cell_type": "code",
   "execution_count": null,
   "metadata": {},
   "outputs": [],
   "source": [
    "rootdir_true_colors = '../data/images'\n",
    "new_rootdir_true_colors = '../data/true_colours_images_testset'\n",
    "images_structure(rootdir_true_colors, new_rootdir_true_colors)"
   ]
  },
  {
   "cell_type": "code",
   "execution_count": null,
   "metadata": {},
   "outputs": [],
   "source": [
    "# Modifying filename move mask to mask_png_testset\n",
    "# rootdir_mask = '../data/mask'\n",
    "# new_rootdir_mask= '../data/mask_png_testset'\n",
    "# images_structure(rootdir, new_rootdir)"
   ]
  },
  {
   "cell_type": "code",
   "execution_count": null,
   "metadata": {},
   "outputs": [],
   "source": []
  }
 ],
 "metadata": {
  "kernelspec": {
   "display_name": "Python 3",
   "language": "python",
   "name": "python3"
  },
  "language_info": {
   "codemirror_mode": {
    "name": "ipython",
    "version": 3
   },
   "file_extension": ".py",
   "mimetype": "text/x-python",
   "name": "python",
   "nbconvert_exporter": "python",
   "pygments_lexer": "ipython3",
   "version": "3.8.1"
  }
 },
 "nbformat": 4,
 "nbformat_minor": 5
}
