{
 "cells": [
  {
   "cell_type": "markdown",
   "metadata": {},
   "source": [
    "# Collect Satellite images of the farmers location from multiple timestamps"
   ]
  },
  {
   "cell_type": "code",
   "execution_count": 1,
   "metadata": {
    "scrolled": true
   },
   "outputs": [
    {
     "name": "stdout",
     "output_type": "stream",
     "text": [
      "Succefully connected!\n"
     ]
    }
   ],
   "source": [
    "from python_scripts.connector import *\n",
    "from python_scripts.helper import *\n",
    "\n",
    "from eval_scripts.evalscript_true_color import *\n",
    "from eval_scripts.evalscript_ndvi import *\n",
    "from eval_scripts.evalscript_ndvi_values  import *\n",
    "\n",
    "from sentinelhub import MimeType, CRS, BBox, SentinelHubRequest, SentinelHubDownloadClient,DataCollection, bbox_to_dimensions, SHConfig\n",
    "from sentinelhub.geo_utils import to_wgs84\n",
    "from sentinelhub.constants import CRS\n",
    "from sentinelhub import SentinelHubCatalog\n",
    "\n",
    "import datetime\n",
    "import matplotlib.pyplot as plt\n",
    "import numpy as np\n",
    "import pandas as pd\n"
   ]
  },
  {
   "cell_type": "markdown",
   "metadata": {},
   "source": [
    "## Step 1: Get the necessary timestamps"
   ]
  },
  {
   "cell_type": "code",
   "execution_count": 2,
   "metadata": {},
   "outputs": [],
   "source": [
    "def get_time_slots(start, end, chunks):\n",
    "    \"\"\"\n",
    "    Get the avalable time windows (time slots)\n",
    "    \"\"\" \n",
    "    datetime_start = datetime.datetime.strptime(start, '%Y-%m-%d')\n",
    "    datetime_end   = datetime.datetime.strptime(end, '%Y-%m-%d')\n",
    "    \n",
    "    tdelta = (datetime_end - datetime_start) / chunks\n",
    "    edges = [(datetime_start + i*tdelta).date().isoformat() for i in range(chunks)]\n",
    "    slots = [(edges[i], edges[i+1]) for i in range(len(edges)-1)]\n",
    "    return slots\n",
    "    "
   ]
  },
  {
   "cell_type": "code",
   "execution_count": 3,
   "metadata": {},
   "outputs": [
    {
     "name": "stdout",
     "output_type": "stream",
     "text": [
      "Yearly time windows\n",
      "('2017-01-01', '2018-01-01')\n",
      "('2018-01-01', '2019-01-01')\n",
      "('2019-01-01', '2020-01-01')\n",
      "('2020-01-01', '2020-12-31')\n"
     ]
    }
   ],
   "source": [
    "slots = get_time_slots('2017-01-01', '2022-01-01', 5)\n",
    "print(\"Yearly time windows\")\n",
    "for slot in slots:\n",
    "    print(slot)"
   ]
  },
  {
   "cell_type": "markdown",
   "metadata": {},
   "source": [
    "## Step 2: Get the necessary coordinates "
   ]
  },
  {
   "cell_type": "code",
   "execution_count": 4,
   "metadata": {},
   "outputs": [],
   "source": [
    "# convert coordinations_file (csv file) into a dataframe\n",
    "coordinations_df = pd.read_excel('data/locations/FarmerLocationExtract4Interns_sentinel-hub.xlsx')"
   ]
  },
  {
   "cell_type": "code",
   "execution_count": 5,
   "metadata": {},
   "outputs": [
    {
     "data": {
      "text/html": [
       "<div>\n",
       "<style scoped>\n",
       "    .dataframe tbody tr th:only-of-type {\n",
       "        vertical-align: middle;\n",
       "    }\n",
       "\n",
       "    .dataframe tbody tr th {\n",
       "        vertical-align: top;\n",
       "    }\n",
       "\n",
       "    .dataframe thead th {\n",
       "        text-align: right;\n",
       "    }\n",
       "</style>\n",
       "<table border=\"1\" class=\"dataframe\">\n",
       "  <thead>\n",
       "    <tr style=\"text-align: right;\">\n",
       "      <th></th>\n",
       "      <th>Unnamed: 0</th>\n",
       "      <th>Name</th>\n",
       "      <th>Mobile (anonymized)</th>\n",
       "      <th>Mouza</th>\n",
       "      <th>GP</th>\n",
       "      <th>Block</th>\n",
       "      <th>Land_ID1</th>\n",
       "      <th>Land_Size2</th>\n",
       "      <th>P1_Latitude</th>\n",
       "      <th>P1_Longitude</th>\n",
       "    </tr>\n",
       "  </thead>\n",
       "  <tbody>\n",
       "    <tr>\n",
       "      <th>0</th>\n",
       "      <td>0</td>\n",
       "      <td>TEMP_NAME</td>\n",
       "      <td>PHONE01</td>\n",
       "      <td>Baksa</td>\n",
       "      <td>11 No Arrah</td>\n",
       "      <td>Nayagram</td>\n",
       "      <td>40</td>\n",
       "      <td>0.167</td>\n",
       "      <td>21.5439876</td>\n",
       "      <td>87.118996</td>\n",
       "    </tr>\n",
       "    <tr>\n",
       "      <th>1</th>\n",
       "      <td>1</td>\n",
       "      <td>TEMP_NAME</td>\n",
       "      <td>PHONE02</td>\n",
       "      <td>Banskhali</td>\n",
       "      <td>11 No Arrah</td>\n",
       "      <td>Nayagram</td>\n",
       "      <td>100/53</td>\n",
       "      <td>0.333</td>\n",
       "      <td>21.535550432</td>\n",
       "      <td>87.454971</td>\n",
       "    </tr>\n",
       "    <tr>\n",
       "      <th>2</th>\n",
       "      <td>2</td>\n",
       "      <td>TEMP_NAME</td>\n",
       "      <td>PHONE03</td>\n",
       "      <td>Pathrasol</td>\n",
       "      <td>12 No Chandrarekha</td>\n",
       "      <td>Nayagram</td>\n",
       "      <td>51</td>\n",
       "      <td>0.333</td>\n",
       "      <td>21.581197383</td>\n",
       "      <td>87.157488</td>\n",
       "    </tr>\n",
       "    <tr>\n",
       "      <th>3</th>\n",
       "      <td>3</td>\n",
       "      <td>TEMP_NAME</td>\n",
       "      <td>PHONE04</td>\n",
       "      <td>Ramkrishnapur</td>\n",
       "      <td>11 No Arrah</td>\n",
       "      <td>Nayagram</td>\n",
       "      <td>36/947</td>\n",
       "      <td>0.167</td>\n",
       "      <td>21.535747928</td>\n",
       "      <td>87.139477</td>\n",
       "    </tr>\n",
       "    <tr>\n",
       "      <th>4</th>\n",
       "      <td>4</td>\n",
       "      <td>TEMP_NAME</td>\n",
       "      <td>PHONE05</td>\n",
       "      <td>Bamdiha</td>\n",
       "      <td>11 No Arrah</td>\n",
       "      <td>Nayagram</td>\n",
       "      <td>92</td>\n",
       "      <td>0.333</td>\n",
       "      <td>21.55262056</td>\n",
       "      <td>87.229918</td>\n",
       "    </tr>\n",
       "    <tr>\n",
       "      <th>...</th>\n",
       "      <td>...</td>\n",
       "      <td>...</td>\n",
       "      <td>...</td>\n",
       "      <td>...</td>\n",
       "      <td>...</td>\n",
       "      <td>...</td>\n",
       "      <td>...</td>\n",
       "      <td>...</td>\n",
       "      <td>...</td>\n",
       "      <td>...</td>\n",
       "    </tr>\n",
       "    <tr>\n",
       "      <th>244</th>\n",
       "      <td>245</td>\n",
       "      <td>TEMP_NAME</td>\n",
       "      <td>PHONE246</td>\n",
       "      <td>Bamdiha</td>\n",
       "      <td>11 No Arrah</td>\n",
       "      <td>Nayagram</td>\n",
       "      <td>230</td>\n",
       "      <td>0.260</td>\n",
       "      <td>21.5547784</td>\n",
       "      <td>87.216591</td>\n",
       "    </tr>\n",
       "    <tr>\n",
       "      <th>245</th>\n",
       "      <td>246</td>\n",
       "      <td>TEMP_NAME</td>\n",
       "      <td>PHONE247</td>\n",
       "      <td>Bamdiha</td>\n",
       "      <td>11 No Arrah</td>\n",
       "      <td>Nayagram</td>\n",
       "      <td>47/1</td>\n",
       "      <td>0.260</td>\n",
       "      <td>21.55475356</td>\n",
       "      <td>87.216591</td>\n",
       "    </tr>\n",
       "    <tr>\n",
       "      <th>246</th>\n",
       "      <td>247</td>\n",
       "      <td>TEMP_NAME</td>\n",
       "      <td>PHONE248</td>\n",
       "      <td>Bamdiha</td>\n",
       "      <td>11 No Arrah</td>\n",
       "      <td>Nayagram</td>\n",
       "      <td>285</td>\n",
       "      <td>0.520</td>\n",
       "      <td>21.52133968</td>\n",
       "      <td>87.530772</td>\n",
       "    </tr>\n",
       "    <tr>\n",
       "      <th>247</th>\n",
       "      <td>248</td>\n",
       "      <td>TEMP_NAME</td>\n",
       "      <td>PHONE249</td>\n",
       "      <td>Bamdiha</td>\n",
       "      <td>11 No Arrah</td>\n",
       "      <td>Nayagram</td>\n",
       "      <td>51</td>\n",
       "      <td>0.520</td>\n",
       "      <td>21.55487128</td>\n",
       "      <td>87.215806</td>\n",
       "    </tr>\n",
       "    <tr>\n",
       "      <th>248</th>\n",
       "      <td>249</td>\n",
       "      <td>TEMP_NAME</td>\n",
       "      <td>PHONE250</td>\n",
       "      <td>Bamdiha</td>\n",
       "      <td>11 No Arrah</td>\n",
       "      <td>Nayagram</td>\n",
       "      <td>42</td>\n",
       "      <td>0.100</td>\n",
       "      <td>21.93153264</td>\n",
       "      <td>87.034325</td>\n",
       "    </tr>\n",
       "  </tbody>\n",
       "</table>\n",
       "<p>249 rows × 10 columns</p>\n",
       "</div>"
      ],
      "text/plain": [
       "     Unnamed: 0       Name Mobile (anonymized)          Mouza  \\\n",
       "0             0  TEMP_NAME             PHONE01          Baksa   \n",
       "1             1  TEMP_NAME             PHONE02      Banskhali   \n",
       "2             2  TEMP_NAME             PHONE03      Pathrasol   \n",
       "3             3  TEMP_NAME             PHONE04  Ramkrishnapur   \n",
       "4             4  TEMP_NAME             PHONE05        Bamdiha   \n",
       "..          ...        ...                 ...            ...   \n",
       "244         245  TEMP_NAME            PHONE246        Bamdiha   \n",
       "245         246  TEMP_NAME            PHONE247        Bamdiha   \n",
       "246         247  TEMP_NAME            PHONE248        Bamdiha   \n",
       "247         248  TEMP_NAME            PHONE249        Bamdiha   \n",
       "248         249  TEMP_NAME            PHONE250        Bamdiha   \n",
       "\n",
       "                     GP     Block Land_ID1  Land_Size2   P1_Latitude  \\\n",
       "0           11 No Arrah  Nayagram       40       0.167    21.5439876   \n",
       "1           11 No Arrah  Nayagram   100/53       0.333  21.535550432   \n",
       "2    12 No Chandrarekha  Nayagram       51       0.333  21.581197383   \n",
       "3           11 No Arrah  Nayagram   36/947       0.167  21.535747928   \n",
       "4           11 No Arrah  Nayagram       92       0.333   21.55262056   \n",
       "..                  ...       ...      ...         ...           ...   \n",
       "244         11 No Arrah  Nayagram      230       0.260    21.5547784   \n",
       "245         11 No Arrah  Nayagram     47/1       0.260   21.55475356   \n",
       "246         11 No Arrah  Nayagram      285       0.520   21.52133968   \n",
       "247         11 No Arrah  Nayagram       51       0.520   21.55487128   \n",
       "248         11 No Arrah  Nayagram       42       0.100   21.93153264   \n",
       "\n",
       "     P1_Longitude  \n",
       "0       87.118996  \n",
       "1       87.454971  \n",
       "2       87.157488  \n",
       "3       87.139477  \n",
       "4       87.229918  \n",
       "..            ...  \n",
       "244     87.216591  \n",
       "245     87.216591  \n",
       "246     87.530772  \n",
       "247     87.215806  \n",
       "248     87.034325  \n",
       "\n",
       "[249 rows x 10 columns]"
      ]
     },
     "execution_count": 5,
     "metadata": {},
     "output_type": "execute_result"
    }
   ],
   "source": [
    "# Based on how far wail is with the conversion of the coordinates of the farmers location, we need to check whether or \n",
    "# the coordination needs to mdofied. \n",
    "coordinations_df"
   ]
  },
  {
   "cell_type": "code",
   "execution_count": 6,
   "metadata": {},
   "outputs": [
    {
     "data": {
      "text/plain": [
       "Index(['Unnamed: 0', 'Name', 'Mobile (anonymized)', 'Mouza', 'GP', 'Block',\n",
       "       'Land_ID1', 'Land_Size2', 'P1_Latitude', 'P1_Longitude'],\n",
       "      dtype='object')"
      ]
     },
     "execution_count": 6,
     "metadata": {},
     "output_type": "execute_result"
    }
   ],
   "source": [
    "coordinations_df.columns"
   ]
  },
  {
   "cell_type": "code",
   "execution_count": 7,
   "metadata": {},
   "outputs": [],
   "source": [
    "def bbox_converter(x):\n",
    "    \"\"\"\n",
    "    Convert coordinates (longitude, latitude) in to a bbox in WGS84 format.\n",
    "    \n",
    "    return [long, lat, long, lat]\n",
    "    \"\"\"\n",
    "    lng, lat = to_wgs84(x['P1_Longitude'], x['P1_Latitude'], CRS.WGS84)\n",
    "    coords = [lng - 0.1, lat - 0.1, lng + 0.1, lat + 0.1]\n",
    "    return coords"
   ]
  },
  {
   "cell_type": "code",
   "execution_count": 8,
   "metadata": {},
   "outputs": [],
   "source": [
    "geolocations  = coordinations_df[['P1_Longitude', 'P1_Latitude']].copy()"
   ]
  },
  {
   "cell_type": "code",
   "execution_count": 9,
   "metadata": {},
   "outputs": [
    {
     "data": {
      "text/html": [
       "<div>\n",
       "<style scoped>\n",
       "    .dataframe tbody tr th:only-of-type {\n",
       "        vertical-align: middle;\n",
       "    }\n",
       "\n",
       "    .dataframe tbody tr th {\n",
       "        vertical-align: top;\n",
       "    }\n",
       "\n",
       "    .dataframe thead th {\n",
       "        text-align: right;\n",
       "    }\n",
       "</style>\n",
       "<table border=\"1\" class=\"dataframe\">\n",
       "  <thead>\n",
       "    <tr style=\"text-align: right;\">\n",
       "      <th></th>\n",
       "      <th>P1_Longitude</th>\n",
       "      <th>P1_Latitude</th>\n",
       "    </tr>\n",
       "  </thead>\n",
       "  <tbody>\n",
       "    <tr>\n",
       "      <th>14</th>\n",
       "      <td>87.242824</td>\n",
       "      <td>21.54\"95616</td>\n",
       "    </tr>\n",
       "    <tr>\n",
       "      <th>15</th>\n",
       "      <td>87.234883</td>\n",
       "      <td>21.54\"8830</td>\n",
       "    </tr>\n",
       "    <tr>\n",
       "      <th>16</th>\n",
       "      <td>87.234738</td>\n",
       "      <td>21.54\"329472</td>\n",
       "    </tr>\n",
       "  </tbody>\n",
       "</table>\n",
       "</div>"
      ],
      "text/plain": [
       "    P1_Longitude   P1_Latitude\n",
       "14     87.242824   21.54\"95616\n",
       "15     87.234883    21.54\"8830\n",
       "16     87.234738  21.54\"329472"
      ]
     },
     "execution_count": 9,
     "metadata": {},
     "output_type": "execute_result"
    }
   ],
   "source": [
    "geolocations[geolocations['P1_Latitude'].str.contains('\"')]"
   ]
  },
  {
   "cell_type": "code",
   "execution_count": 10,
   "metadata": {},
   "outputs": [],
   "source": [
    "geolocations['P1_Latitude'] = geolocations['P1_Latitude'].str.replace('\"', '')"
   ]
  },
  {
   "cell_type": "code",
   "execution_count": 11,
   "metadata": {},
   "outputs": [
    {
     "data": {
      "text/html": [
       "<div>\n",
       "<style scoped>\n",
       "    .dataframe tbody tr th:only-of-type {\n",
       "        vertical-align: middle;\n",
       "    }\n",
       "\n",
       "    .dataframe tbody tr th {\n",
       "        vertical-align: top;\n",
       "    }\n",
       "\n",
       "    .dataframe thead th {\n",
       "        text-align: right;\n",
       "    }\n",
       "</style>\n",
       "<table border=\"1\" class=\"dataframe\">\n",
       "  <thead>\n",
       "    <tr style=\"text-align: right;\">\n",
       "      <th></th>\n",
       "      <th>P1_Longitude</th>\n",
       "      <th>P1_Latitude</th>\n",
       "    </tr>\n",
       "  </thead>\n",
       "  <tbody>\n",
       "  </tbody>\n",
       "</table>\n",
       "</div>"
      ],
      "text/plain": [
       "Empty DataFrame\n",
       "Columns: [P1_Longitude, P1_Latitude]\n",
       "Index: []"
      ]
     },
     "execution_count": 11,
     "metadata": {},
     "output_type": "execute_result"
    }
   ],
   "source": [
    "geolocations[geolocations['P1_Latitude'].str.contains('\"')]"
   ]
  },
  {
   "cell_type": "code",
   "execution_count": 12,
   "metadata": {},
   "outputs": [],
   "source": [
    "geolocations = geolocations.astype(\"float64\")"
   ]
  },
  {
   "cell_type": "code",
   "execution_count": 13,
   "metadata": {},
   "outputs": [
    {
     "data": {
      "text/plain": [
       "P1_Longitude    float64\n",
       "P1_Latitude     float64\n",
       "dtype: object"
      ]
     },
     "execution_count": 13,
     "metadata": {},
     "output_type": "execute_result"
    }
   ],
   "source": [
    "geolocations.dtypes"
   ]
  },
  {
   "cell_type": "code",
   "execution_count": 14,
   "metadata": {},
   "outputs": [
    {
     "data": {
      "text/html": [
       "<div>\n",
       "<style scoped>\n",
       "    .dataframe tbody tr th:only-of-type {\n",
       "        vertical-align: middle;\n",
       "    }\n",
       "\n",
       "    .dataframe tbody tr th {\n",
       "        vertical-align: top;\n",
       "    }\n",
       "\n",
       "    .dataframe thead th {\n",
       "        text-align: right;\n",
       "    }\n",
       "</style>\n",
       "<table border=\"1\" class=\"dataframe\">\n",
       "  <thead>\n",
       "    <tr style=\"text-align: right;\">\n",
       "      <th></th>\n",
       "      <th>P1_Longitude</th>\n",
       "      <th>P1_Latitude</th>\n",
       "    </tr>\n",
       "  </thead>\n",
       "  <tbody>\n",
       "    <tr>\n",
       "      <th>0</th>\n",
       "      <td>87.118996</td>\n",
       "      <td>21.543988</td>\n",
       "    </tr>\n",
       "    <tr>\n",
       "      <th>1</th>\n",
       "      <td>87.454971</td>\n",
       "      <td>21.535550</td>\n",
       "    </tr>\n",
       "    <tr>\n",
       "      <th>2</th>\n",
       "      <td>87.157488</td>\n",
       "      <td>21.581197</td>\n",
       "    </tr>\n",
       "    <tr>\n",
       "      <th>3</th>\n",
       "      <td>87.139477</td>\n",
       "      <td>21.535748</td>\n",
       "    </tr>\n",
       "    <tr>\n",
       "      <th>4</th>\n",
       "      <td>87.229918</td>\n",
       "      <td>21.552621</td>\n",
       "    </tr>\n",
       "    <tr>\n",
       "      <th>...</th>\n",
       "      <td>...</td>\n",
       "      <td>...</td>\n",
       "    </tr>\n",
       "    <tr>\n",
       "      <th>244</th>\n",
       "      <td>87.216591</td>\n",
       "      <td>21.554778</td>\n",
       "    </tr>\n",
       "    <tr>\n",
       "      <th>245</th>\n",
       "      <td>87.216591</td>\n",
       "      <td>21.554754</td>\n",
       "    </tr>\n",
       "    <tr>\n",
       "      <th>246</th>\n",
       "      <td>87.530772</td>\n",
       "      <td>21.521340</td>\n",
       "    </tr>\n",
       "    <tr>\n",
       "      <th>247</th>\n",
       "      <td>87.215806</td>\n",
       "      <td>21.554871</td>\n",
       "    </tr>\n",
       "    <tr>\n",
       "      <th>248</th>\n",
       "      <td>87.034325</td>\n",
       "      <td>21.931533</td>\n",
       "    </tr>\n",
       "  </tbody>\n",
       "</table>\n",
       "<p>249 rows × 2 columns</p>\n",
       "</div>"
      ],
      "text/plain": [
       "     P1_Longitude  P1_Latitude\n",
       "0       87.118996    21.543988\n",
       "1       87.454971    21.535550\n",
       "2       87.157488    21.581197\n",
       "3       87.139477    21.535748\n",
       "4       87.229918    21.552621\n",
       "..            ...          ...\n",
       "244     87.216591    21.554778\n",
       "245     87.216591    21.554754\n",
       "246     87.530772    21.521340\n",
       "247     87.215806    21.554871\n",
       "248     87.034325    21.931533\n",
       "\n",
       "[249 rows x 2 columns]"
      ]
     },
     "execution_count": 14,
     "metadata": {},
     "output_type": "execute_result"
    }
   ],
   "source": [
    "geolocations"
   ]
  },
  {
   "cell_type": "markdown",
   "metadata": {},
   "source": [
    "## Create requests for the labels"
   ]
  },
  {
   "cell_type": "code",
   "execution_count": 15,
   "metadata": {},
   "outputs": [],
   "source": [
    "def map_ndvi_label(ndvi):\n",
    "    \"\"\"\n",
    "    Categorizing range of ndvi values to a label.\n",
    "    We have two categories: \n",
    "    1. trees - 1\n",
    "    2. not trees - 0\n",
    "    We categorize evey ndvi values that is higher than our threshold(0.6) to be trees (1).\n",
    "    Everything that is equal or less than our threshold (0.6) we be 'not trees' (0): \n",
    "    \"\"\"\n",
    "    min_ndvi = 0.6\n",
    "    ndvi_copy = ndvi.copy()\n",
    "\n",
    "    labels = np.where(ndvi_copy > min_ndvi, 1, 0)\n",
    "     \n",
    "    return labels"
   ]
  },
  {
   "cell_type": "code",
   "execution_count": 16,
   "metadata": {},
   "outputs": [],
   "source": [
    "def labels_request(coords, slot, config):\n",
    "    \"\"\"\n",
    "    Download labels in binary array from sentinel hub.\n",
    "    \n",
    "    return: numpy array of 0 and 1\n",
    "    \"\"\"\n",
    "    ndvi_values = sentinel_request(evalscript_ndvi_values, coords, slot, config, False, '../data/ndvi_values_images',other_args=least_clouds())\n",
    "    ndvi_labels= map_ndvi_label(ndvi_values)\n",
    "    \n",
    "    return ndvi_labels\n",
    "    "
   ]
  },
  {
   "cell_type": "markdown",
   "metadata": {},
   "source": [
    "## Download all the satellite images "
   ]
  },
  {
   "cell_type": "code",
   "execution_count": 17,
   "metadata": {},
   "outputs": [],
   "source": [
    "import time # time the performance"
   ]
  },
  {
   "cell_type": "code",
   "execution_count": 18,
   "metadata": {},
   "outputs": [],
   "source": [
    "def least_clouds():\n",
    "    return { \n",
    "    \"dataFilter\": { \n",
    "        \"maxCloudCoverage\": 10\n",
    "        } \n",
    "    } "
   ]
  },
  {
   "cell_type": "code",
   "execution_count": 20,
   "metadata": {},
   "outputs": [
    {
     "ename": "DownloadFailedException",
     "evalue": "Failed to download from:\nhttps://services.sentinel-hub.com/api/v1/process\nwith HTTPError:\n400 Client Error: Bad Request for url: https://services.sentinel-hub.com/api/v1/process\nServer response: \"{\"error\":{\"status\":400,\"reason\":\"Bad Request\",\"message\":\"Format application/json does not support sample type AUTO.\",\"code\":\"RENDERER_EXCEPTION\"}}\"",
     "output_type": "error",
     "traceback": [
      "\u001b[1;31m---------------------------------------------------------------------------\u001b[0m",
      "\u001b[1;31mHTTPError\u001b[0m                                 Traceback (most recent call last)",
      "\u001b[1;32mc:\\users\\amaryllis lee\\appdata\\local\\programs\\python\\python38-32\\lib\\site-packages\\sentinelhub\\download\\handlers.py\u001b[0m in \u001b[0;36mnew_download_func\u001b[1;34m(self, request)\u001b[0m\n\u001b[0;32m     21\u001b[0m         \u001b[1;32mtry\u001b[0m\u001b[1;33m:\u001b[0m\u001b[1;33m\u001b[0m\u001b[1;33m\u001b[0m\u001b[0m\n\u001b[1;32m---> 22\u001b[1;33m             \u001b[1;32mreturn\u001b[0m \u001b[0mdownload_func\u001b[0m\u001b[1;33m(\u001b[0m\u001b[0mself\u001b[0m\u001b[1;33m,\u001b[0m \u001b[0mrequest\u001b[0m\u001b[1;33m)\u001b[0m\u001b[1;33m\u001b[0m\u001b[1;33m\u001b[0m\u001b[0m\n\u001b[0m\u001b[0;32m     23\u001b[0m         \u001b[1;32mexcept\u001b[0m \u001b[0mrequests\u001b[0m\u001b[1;33m.\u001b[0m\u001b[0mHTTPError\u001b[0m \u001b[1;32mas\u001b[0m \u001b[0mexception\u001b[0m\u001b[1;33m:\u001b[0m\u001b[1;33m\u001b[0m\u001b[1;33m\u001b[0m\u001b[0m\n",
      "\u001b[1;32mc:\\users\\amaryllis lee\\appdata\\local\\programs\\python\\python38-32\\lib\\site-packages\\sentinelhub\\download\\sentinelhub_client.py\u001b[0m in \u001b[0;36m_execute_download\u001b[1;34m(self, request)\u001b[0m\n\u001b[0;32m     68\u001b[0m                 \u001b[1;32mif\u001b[0m \u001b[0mresponse\u001b[0m\u001b[1;33m.\u001b[0m\u001b[0mstatus_code\u001b[0m \u001b[1;33m!=\u001b[0m \u001b[0mrequests\u001b[0m\u001b[1;33m.\u001b[0m\u001b[0mstatus_codes\u001b[0m\u001b[1;33m.\u001b[0m\u001b[0mcodes\u001b[0m\u001b[1;33m.\u001b[0m\u001b[0mTOO_MANY_REQUESTS\u001b[0m\u001b[1;33m:\u001b[0m\u001b[1;33m\u001b[0m\u001b[1;33m\u001b[0m\u001b[0m\n\u001b[1;32m---> 69\u001b[1;33m                     \u001b[0mresponse\u001b[0m\u001b[1;33m.\u001b[0m\u001b[0mraise_for_status\u001b[0m\u001b[1;33m(\u001b[0m\u001b[1;33m)\u001b[0m\u001b[1;33m\u001b[0m\u001b[1;33m\u001b[0m\u001b[0m\n\u001b[0m\u001b[0;32m     70\u001b[0m \u001b[1;33m\u001b[0m\u001b[0m\n",
      "\u001b[1;32mc:\\users\\amaryllis lee\\appdata\\local\\programs\\python\\python38-32\\lib\\site-packages\\requests\\models.py\u001b[0m in \u001b[0;36mraise_for_status\u001b[1;34m(self)\u001b[0m\n\u001b[0;32m    940\u001b[0m         \u001b[1;32mif\u001b[0m \u001b[0mhttp_error_msg\u001b[0m\u001b[1;33m:\u001b[0m\u001b[1;33m\u001b[0m\u001b[1;33m\u001b[0m\u001b[0m\n\u001b[1;32m--> 941\u001b[1;33m             \u001b[1;32mraise\u001b[0m \u001b[0mHTTPError\u001b[0m\u001b[1;33m(\u001b[0m\u001b[0mhttp_error_msg\u001b[0m\u001b[1;33m,\u001b[0m \u001b[0mresponse\u001b[0m\u001b[1;33m=\u001b[0m\u001b[0mself\u001b[0m\u001b[1;33m)\u001b[0m\u001b[1;33m\u001b[0m\u001b[1;33m\u001b[0m\u001b[0m\n\u001b[0m\u001b[0;32m    942\u001b[0m \u001b[1;33m\u001b[0m\u001b[0m\n",
      "\u001b[1;31mHTTPError\u001b[0m: 400 Client Error: Bad Request for url: https://services.sentinel-hub.com/api/v1/process",
      "\nThe above exception was the direct cause of the following exception:\n",
      "\u001b[1;31mDownloadFailedException\u001b[0m                   Traceback (most recent call last)",
      "\u001b[1;32m<ipython-input-20-063ebf2b62a5>\u001b[0m in \u001b[0;36m<module>\u001b[1;34m\u001b[0m\n\u001b[0;32m     10\u001b[0m         \u001b[0msentinel_request\u001b[0m\u001b[1;33m(\u001b[0m\u001b[0mevalscript_true_color\u001b[0m\u001b[1;33m,\u001b[0m \u001b[0mcoords\u001b[0m\u001b[1;33m,\u001b[0m\u001b[0mslot\u001b[0m\u001b[1;33m,\u001b[0m \u001b[0mconfig\u001b[0m\u001b[1;33m,\u001b[0m \u001b[1;32mTrue\u001b[0m\u001b[1;33m,\u001b[0m\u001b[1;34m'../data/images'\u001b[0m\u001b[1;33m,\u001b[0m \u001b[0mother_args\u001b[0m\u001b[1;33m=\u001b[0m\u001b[0mleast_clouds\u001b[0m\u001b[1;33m(\u001b[0m\u001b[1;33m)\u001b[0m\u001b[1;33m)\u001b[0m\u001b[1;33m\u001b[0m\u001b[1;33m\u001b[0m\u001b[0m\n\u001b[0;32m     11\u001b[0m         \u001b[0msentinel_request\u001b[0m\u001b[1;33m(\u001b[0m\u001b[0mevalscript_ndvi\u001b[0m\u001b[1;33m,\u001b[0m \u001b[0mcoords\u001b[0m\u001b[1;33m,\u001b[0m\u001b[0mslot\u001b[0m\u001b[1;33m,\u001b[0m \u001b[0mconfig\u001b[0m\u001b[1;33m,\u001b[0m \u001b[1;32mTrue\u001b[0m\u001b[1;33m,\u001b[0m\u001b[1;34m'../data/mask'\u001b[0m\u001b[1;33m,\u001b[0m \u001b[0mother_args\u001b[0m\u001b[1;33m=\u001b[0m\u001b[0mleast_clouds\u001b[0m\u001b[1;33m(\u001b[0m\u001b[1;33m)\u001b[0m\u001b[1;33m)\u001b[0m\u001b[1;33m\u001b[0m\u001b[1;33m\u001b[0m\u001b[0m\n\u001b[1;32m---> 12\u001b[1;33m         \u001b[0mrequest_geojson\u001b[0m\u001b[1;33m(\u001b[0m\u001b[0mevalscript_true_color\u001b[0m\u001b[1;33m,\u001b[0m \u001b[0mcoords\u001b[0m\u001b[1;33m,\u001b[0m\u001b[0mslot\u001b[0m\u001b[1;33m,\u001b[0m \u001b[0mconfig\u001b[0m\u001b[1;33m,\u001b[0m \u001b[1;32mTrue\u001b[0m\u001b[1;33m,\u001b[0m\u001b[1;34m'../data/geojson'\u001b[0m\u001b[1;33m,\u001b[0m \u001b[0mother_args\u001b[0m\u001b[1;33m=\u001b[0m\u001b[0mleast_clouds\u001b[0m\u001b[1;33m(\u001b[0m\u001b[1;33m)\u001b[0m\u001b[1;33m)\u001b[0m\u001b[1;33m\u001b[0m\u001b[1;33m\u001b[0m\u001b[0m\n\u001b[0m\u001b[0;32m     13\u001b[0m \u001b[1;33m\u001b[0m\u001b[0m\n\u001b[0;32m     14\u001b[0m         \u001b[1;31m# get the labels\u001b[0m\u001b[1;33m\u001b[0m\u001b[1;33m\u001b[0m\u001b[1;33m\u001b[0m\u001b[0m\n",
      "\u001b[1;32m~\\FARM-deforestation\\notebooks\\python_scripts\\helper.py\u001b[0m in \u001b[0;36m<lambda>\u001b[1;34m(eval_script, coords, time_interval, config, save_data, data_folder, **kwargs)\u001b[0m\n\u001b[0;32m     43\u001b[0m )\n\u001b[0;32m     44\u001b[0m \u001b[1;31m# Function that sends a request for an satellite image of a scene and timestamp and return the image in GeoJSON\u001b[0m\u001b[1;33m\u001b[0m\u001b[1;33m\u001b[0m\u001b[1;33m\u001b[0m\u001b[0m\n\u001b[1;32m---> 45\u001b[1;33m request_geojson = lambda eval_script, coords, time_interval, config, save_data, data_folder, **kwargs: send_request_geojson(\n\u001b[0m\u001b[0;32m     46\u001b[0m     \u001b[0meval_script\u001b[0m\u001b[1;33m,\u001b[0m\u001b[1;33m\u001b[0m\u001b[1;33m\u001b[0m\u001b[0m\n\u001b[0;32m     47\u001b[0m     \u001b[1;33m[\u001b[0m\u001b[0mSentinelHubRequest\u001b[0m\u001b[1;33m.\u001b[0m\u001b[0minput_data\u001b[0m\u001b[1;33m(\u001b[0m\u001b[0mdata_collection\u001b[0m\u001b[1;33m=\u001b[0m\u001b[0mDataCollection\u001b[0m\u001b[1;33m.\u001b[0m\u001b[0mSENTINEL2_L2A\u001b[0m\u001b[1;33m,\u001b[0m \u001b[0mtime_interval\u001b[0m\u001b[1;33m=\u001b[0m\u001b[0mtime_interval\u001b[0m\u001b[1;33m,\u001b[0m \u001b[1;33m**\u001b[0m\u001b[0mkwargs\u001b[0m\u001b[1;33m)\u001b[0m\u001b[1;33m]\u001b[0m\u001b[1;33m,\u001b[0m\u001b[1;33m\u001b[0m\u001b[1;33m\u001b[0m\u001b[0m\n",
      "\u001b[1;32m~\\FARM-deforestation\\notebooks\\python_scripts\\helper.py\u001b[0m in \u001b[0;36msend_request_geojson\u001b[1;34m(evalscript, input_data, coords, config, save_data, data_folder)\u001b[0m\n\u001b[0;32m     27\u001b[0m     \u001b[0mbbox\u001b[0m \u001b[1;33m=\u001b[0m \u001b[0mBBox\u001b[0m\u001b[1;33m(\u001b[0m\u001b[0mbbox\u001b[0m\u001b[1;33m=\u001b[0m\u001b[0mcoords\u001b[0m\u001b[1;33m,\u001b[0m \u001b[0mcrs\u001b[0m\u001b[1;33m=\u001b[0m\u001b[0mCRS\u001b[0m\u001b[1;33m.\u001b[0m\u001b[0mWGS84\u001b[0m\u001b[1;33m)\u001b[0m\u001b[1;33m\u001b[0m\u001b[1;33m\u001b[0m\u001b[0m\n\u001b[0;32m     28\u001b[0m     \u001b[0mrequest\u001b[0m \u001b[1;33m=\u001b[0m \u001b[0mSentinelHubRequest\u001b[0m\u001b[1;33m(\u001b[0m\u001b[0mdata_folder\u001b[0m\u001b[1;33m=\u001b[0m\u001b[0mdata_folder\u001b[0m\u001b[1;33m,\u001b[0m \u001b[0mevalscript\u001b[0m\u001b[1;33m=\u001b[0m\u001b[0mevalscript\u001b[0m\u001b[1;33m,\u001b[0m \u001b[0minput_data\u001b[0m\u001b[1;33m=\u001b[0m\u001b[0minput_data\u001b[0m\u001b[1;33m,\u001b[0m \u001b[0mbbox\u001b[0m\u001b[1;33m=\u001b[0m\u001b[0mbbox\u001b[0m\u001b[1;33m,\u001b[0m \u001b[0mconfig\u001b[0m\u001b[1;33m=\u001b[0m\u001b[0mconfig\u001b[0m\u001b[1;33m,\u001b[0m \u001b[0msize\u001b[0m\u001b[1;33m=\u001b[0m\u001b[1;33m[\u001b[0m\u001b[1;36m512\u001b[0m\u001b[1;33m,\u001b[0m\u001b[1;36m512\u001b[0m\u001b[1;33m]\u001b[0m\u001b[1;33m,\u001b[0m \u001b[0mresponses\u001b[0m\u001b[1;33m=\u001b[0m\u001b[1;33m[\u001b[0m\u001b[0mSentinelHubRequest\u001b[0m\u001b[1;33m.\u001b[0m\u001b[0moutput_response\u001b[0m\u001b[1;33m(\u001b[0m\u001b[1;34m'default'\u001b[0m\u001b[1;33m,\u001b[0m \u001b[0mMimeType\u001b[0m\u001b[1;33m.\u001b[0m\u001b[0mJSON\u001b[0m\u001b[1;33m)\u001b[0m\u001b[1;33m]\u001b[0m\u001b[1;33m)\u001b[0m\u001b[1;33m\u001b[0m\u001b[1;33m\u001b[0m\u001b[0m\n\u001b[1;32m---> 29\u001b[1;33m     \u001b[0mresponse\u001b[0m \u001b[1;33m=\u001b[0m \u001b[0mrequest\u001b[0m\u001b[1;33m.\u001b[0m\u001b[0mget_data\u001b[0m\u001b[1;33m(\u001b[0m\u001b[0msave_data\u001b[0m\u001b[1;33m=\u001b[0m\u001b[0msave_data\u001b[0m\u001b[1;33m)\u001b[0m\u001b[1;33m[\u001b[0m\u001b[1;36m0\u001b[0m\u001b[1;33m]\u001b[0m\u001b[1;33m\u001b[0m\u001b[1;33m\u001b[0m\u001b[0m\n\u001b[0m\u001b[0;32m     30\u001b[0m     \u001b[1;32mreturn\u001b[0m \u001b[0mresponse\u001b[0m\u001b[1;33m\u001b[0m\u001b[1;33m\u001b[0m\u001b[0m\n\u001b[0;32m     31\u001b[0m \u001b[1;33m\u001b[0m\u001b[0m\n",
      "\u001b[1;32mc:\\users\\amaryllis lee\\appdata\\local\\programs\\python\\python38-32\\lib\\site-packages\\sentinelhub\\data_request.py\u001b[0m in \u001b[0;36mget_data\u001b[1;34m(self, save_data, redownload, data_filter, max_threads, decode_data, raise_download_errors)\u001b[0m\n\u001b[0;32m    124\u001b[0m         \"\"\"\n\u001b[0;32m    125\u001b[0m         \u001b[0mself\u001b[0m\u001b[1;33m.\u001b[0m\u001b[0m_preprocess_request\u001b[0m\u001b[1;33m(\u001b[0m\u001b[0msave_data\u001b[0m\u001b[1;33m,\u001b[0m \u001b[1;32mTrue\u001b[0m\u001b[1;33m)\u001b[0m\u001b[1;33m\u001b[0m\u001b[1;33m\u001b[0m\u001b[0m\n\u001b[1;32m--> 126\u001b[1;33m         return self._execute_data_download(data_filter, redownload, max_threads, raise_download_errors,\n\u001b[0m\u001b[0;32m    127\u001b[0m                                            decode_data=decode_data)\n\u001b[0;32m    128\u001b[0m \u001b[1;33m\u001b[0m\u001b[0m\n",
      "\u001b[1;32mc:\\users\\amaryllis lee\\appdata\\local\\programs\\python\\python38-32\\lib\\site-packages\\sentinelhub\\data_request.py\u001b[0m in \u001b[0;36m_execute_data_download\u001b[1;34m(self, data_filter, redownload, max_threads, raise_download_errors, decode_data)\u001b[0m\n\u001b[0;32m    184\u001b[0m             \u001b[0mconfig\u001b[0m\u001b[1;33m=\u001b[0m\u001b[0mself\u001b[0m\u001b[1;33m.\u001b[0m\u001b[0mconfig\u001b[0m\u001b[1;33m\u001b[0m\u001b[1;33m\u001b[0m\u001b[0m\n\u001b[0;32m    185\u001b[0m         )\n\u001b[1;32m--> 186\u001b[1;33m         \u001b[0mdata_list\u001b[0m \u001b[1;33m=\u001b[0m \u001b[0mclient\u001b[0m\u001b[1;33m.\u001b[0m\u001b[0mdownload\u001b[0m\u001b[1;33m(\u001b[0m\u001b[0mfiltered_download_list\u001b[0m\u001b[1;33m,\u001b[0m \u001b[0mmax_threads\u001b[0m\u001b[1;33m=\u001b[0m\u001b[0mmax_threads\u001b[0m\u001b[1;33m,\u001b[0m \u001b[0mdecode_data\u001b[0m\u001b[1;33m=\u001b[0m\u001b[0mdecode_data\u001b[0m\u001b[1;33m)\u001b[0m\u001b[1;33m\u001b[0m\u001b[1;33m\u001b[0m\u001b[0m\n\u001b[0m\u001b[0;32m    187\u001b[0m \u001b[1;33m\u001b[0m\u001b[0m\n\u001b[0;32m    188\u001b[0m         \u001b[1;32mif\u001b[0m \u001b[0mis_repeating_filter\u001b[0m\u001b[1;33m:\u001b[0m\u001b[1;33m\u001b[0m\u001b[1;33m\u001b[0m\u001b[0m\n",
      "\u001b[1;32mc:\\users\\amaryllis lee\\appdata\\local\\programs\\python\\python38-32\\lib\\site-packages\\sentinelhub\\download\\sentinelhub_client.py\u001b[0m in \u001b[0;36mdownload\u001b[1;34m(self, *args, **kwargs)\u001b[0m\n\u001b[0;32m     47\u001b[0m         \u001b[0mself\u001b[0m\u001b[1;33m.\u001b[0m\u001b[0mlock\u001b[0m \u001b[1;33m=\u001b[0m \u001b[0mLock\u001b[0m\u001b[1;33m(\u001b[0m\u001b[1;33m)\u001b[0m\u001b[1;33m\u001b[0m\u001b[1;33m\u001b[0m\u001b[0m\n\u001b[0;32m     48\u001b[0m         \u001b[1;32mtry\u001b[0m\u001b[1;33m:\u001b[0m\u001b[1;33m\u001b[0m\u001b[1;33m\u001b[0m\u001b[0m\n\u001b[1;32m---> 49\u001b[1;33m             \u001b[1;32mreturn\u001b[0m \u001b[0msuper\u001b[0m\u001b[1;33m(\u001b[0m\u001b[1;33m)\u001b[0m\u001b[1;33m.\u001b[0m\u001b[0mdownload\u001b[0m\u001b[1;33m(\u001b[0m\u001b[1;33m*\u001b[0m\u001b[0margs\u001b[0m\u001b[1;33m,\u001b[0m \u001b[1;33m**\u001b[0m\u001b[0mkwargs\u001b[0m\u001b[1;33m)\u001b[0m\u001b[1;33m\u001b[0m\u001b[1;33m\u001b[0m\u001b[0m\n\u001b[0m\u001b[0;32m     50\u001b[0m         \u001b[1;32mfinally\u001b[0m\u001b[1;33m:\u001b[0m\u001b[1;33m\u001b[0m\u001b[1;33m\u001b[0m\u001b[0m\n\u001b[0;32m     51\u001b[0m             \u001b[0mself\u001b[0m\u001b[1;33m.\u001b[0m\u001b[0mlock\u001b[0m \u001b[1;33m=\u001b[0m \u001b[1;32mNone\u001b[0m\u001b[1;33m\u001b[0m\u001b[1;33m\u001b[0m\u001b[0m\n",
      "\u001b[1;32mc:\\users\\amaryllis lee\\appdata\\local\\programs\\python\\python38-32\\lib\\site-packages\\sentinelhub\\download\\client.py\u001b[0m in \u001b[0;36mdownload\u001b[1;34m(self, download_requests, max_threads, decode_data)\u001b[0m\n\u001b[0;32m     78\u001b[0m                 \u001b[1;32mif\u001b[0m \u001b[0mself\u001b[0m\u001b[1;33m.\u001b[0m\u001b[0mraise_download_errors\u001b[0m\u001b[1;33m:\u001b[0m\u001b[1;33m\u001b[0m\u001b[1;33m\u001b[0m\u001b[0m\n\u001b[0;32m     79\u001b[0m                     \u001b[0mtraceback\u001b[0m \u001b[1;33m=\u001b[0m \u001b[0msys\u001b[0m\u001b[1;33m.\u001b[0m\u001b[0mexc_info\u001b[0m\u001b[1;33m(\u001b[0m\u001b[1;33m)\u001b[0m\u001b[1;33m[\u001b[0m\u001b[1;36m2\u001b[0m\u001b[1;33m]\u001b[0m\u001b[1;33m\u001b[0m\u001b[1;33m\u001b[0m\u001b[0m\n\u001b[1;32m---> 80\u001b[1;33m                     \u001b[1;32mraise\u001b[0m \u001b[0mdownload_exception\u001b[0m\u001b[1;33m.\u001b[0m\u001b[0mwith_traceback\u001b[0m\u001b[1;33m(\u001b[0m\u001b[0mtraceback\u001b[0m\u001b[1;33m)\u001b[0m\u001b[1;33m\u001b[0m\u001b[1;33m\u001b[0m\u001b[0m\n\u001b[0m\u001b[0;32m     81\u001b[0m \u001b[1;33m\u001b[0m\u001b[0m\n\u001b[0;32m     82\u001b[0m                 \u001b[0mwarnings\u001b[0m\u001b[1;33m.\u001b[0m\u001b[0mwarn\u001b[0m\u001b[1;33m(\u001b[0m\u001b[0mstr\u001b[0m\u001b[1;33m(\u001b[0m\u001b[0mdownload_exception\u001b[0m\u001b[1;33m)\u001b[0m\u001b[1;33m,\u001b[0m \u001b[0mcategory\u001b[0m\u001b[1;33m=\u001b[0m\u001b[0mSHRuntimeWarning\u001b[0m\u001b[1;33m)\u001b[0m\u001b[1;33m\u001b[0m\u001b[1;33m\u001b[0m\u001b[0m\n",
      "\u001b[1;32mc:\\users\\amaryllis lee\\appdata\\local\\programs\\python\\python38-32\\lib\\site-packages\\sentinelhub\\download\\client.py\u001b[0m in \u001b[0;36mdownload\u001b[1;34m(self, download_requests, max_threads, decode_data)\u001b[0m\n\u001b[0;32m     74\u001b[0m         \u001b[1;32mfor\u001b[0m \u001b[0mfuture\u001b[0m \u001b[1;32min\u001b[0m \u001b[0mdownload_list\u001b[0m\u001b[1;33m:\u001b[0m\u001b[1;33m\u001b[0m\u001b[1;33m\u001b[0m\u001b[0m\n\u001b[0;32m     75\u001b[0m             \u001b[1;32mtry\u001b[0m\u001b[1;33m:\u001b[0m\u001b[1;33m\u001b[0m\u001b[1;33m\u001b[0m\u001b[0m\n\u001b[1;32m---> 76\u001b[1;33m                 \u001b[0mdata_list\u001b[0m\u001b[1;33m.\u001b[0m\u001b[0mappend\u001b[0m\u001b[1;33m(\u001b[0m\u001b[0mfuture\u001b[0m\u001b[1;33m.\u001b[0m\u001b[0mresult\u001b[0m\u001b[1;33m(\u001b[0m\u001b[1;33m)\u001b[0m\u001b[1;33m)\u001b[0m\u001b[1;33m\u001b[0m\u001b[1;33m\u001b[0m\u001b[0m\n\u001b[0m\u001b[0;32m     77\u001b[0m             \u001b[1;32mexcept\u001b[0m \u001b[0mDownloadFailedException\u001b[0m \u001b[1;32mas\u001b[0m \u001b[0mdownload_exception\u001b[0m\u001b[1;33m:\u001b[0m\u001b[1;33m\u001b[0m\u001b[1;33m\u001b[0m\u001b[0m\n\u001b[0;32m     78\u001b[0m                 \u001b[1;32mif\u001b[0m \u001b[0mself\u001b[0m\u001b[1;33m.\u001b[0m\u001b[0mraise_download_errors\u001b[0m\u001b[1;33m:\u001b[0m\u001b[1;33m\u001b[0m\u001b[1;33m\u001b[0m\u001b[0m\n",
      "\u001b[1;32mc:\\users\\amaryllis lee\\appdata\\local\\programs\\python\\python38-32\\lib\\concurrent\\futures\\_base.py\u001b[0m in \u001b[0;36mresult\u001b[1;34m(self, timeout)\u001b[0m\n\u001b[0;32m    430\u001b[0m                 \u001b[1;32mraise\u001b[0m \u001b[0mCancelledError\u001b[0m\u001b[1;33m(\u001b[0m\u001b[1;33m)\u001b[0m\u001b[1;33m\u001b[0m\u001b[1;33m\u001b[0m\u001b[0m\n\u001b[0;32m    431\u001b[0m             \u001b[1;32melif\u001b[0m \u001b[0mself\u001b[0m\u001b[1;33m.\u001b[0m\u001b[0m_state\u001b[0m \u001b[1;33m==\u001b[0m \u001b[0mFINISHED\u001b[0m\u001b[1;33m:\u001b[0m\u001b[1;33m\u001b[0m\u001b[1;33m\u001b[0m\u001b[0m\n\u001b[1;32m--> 432\u001b[1;33m                 \u001b[1;32mreturn\u001b[0m \u001b[0mself\u001b[0m\u001b[1;33m.\u001b[0m\u001b[0m__get_result\u001b[0m\u001b[1;33m(\u001b[0m\u001b[1;33m)\u001b[0m\u001b[1;33m\u001b[0m\u001b[1;33m\u001b[0m\u001b[0m\n\u001b[0m\u001b[0;32m    433\u001b[0m \u001b[1;33m\u001b[0m\u001b[0m\n\u001b[0;32m    434\u001b[0m             \u001b[0mself\u001b[0m\u001b[1;33m.\u001b[0m\u001b[0m_condition\u001b[0m\u001b[1;33m.\u001b[0m\u001b[0mwait\u001b[0m\u001b[1;33m(\u001b[0m\u001b[0mtimeout\u001b[0m\u001b[1;33m)\u001b[0m\u001b[1;33m\u001b[0m\u001b[1;33m\u001b[0m\u001b[0m\n",
      "\u001b[1;32mc:\\users\\amaryllis lee\\appdata\\local\\programs\\python\\python38-32\\lib\\concurrent\\futures\\_base.py\u001b[0m in \u001b[0;36m__get_result\u001b[1;34m(self)\u001b[0m\n\u001b[0;32m    386\u001b[0m     \u001b[1;32mdef\u001b[0m \u001b[0m__get_result\u001b[0m\u001b[1;33m(\u001b[0m\u001b[0mself\u001b[0m\u001b[1;33m)\u001b[0m\u001b[1;33m:\u001b[0m\u001b[1;33m\u001b[0m\u001b[1;33m\u001b[0m\u001b[0m\n\u001b[0;32m    387\u001b[0m         \u001b[1;32mif\u001b[0m \u001b[0mself\u001b[0m\u001b[1;33m.\u001b[0m\u001b[0m_exception\u001b[0m\u001b[1;33m:\u001b[0m\u001b[1;33m\u001b[0m\u001b[1;33m\u001b[0m\u001b[0m\n\u001b[1;32m--> 388\u001b[1;33m             \u001b[1;32mraise\u001b[0m \u001b[0mself\u001b[0m\u001b[1;33m.\u001b[0m\u001b[0m_exception\u001b[0m\u001b[1;33m\u001b[0m\u001b[1;33m\u001b[0m\u001b[0m\n\u001b[0m\u001b[0;32m    389\u001b[0m         \u001b[1;32melse\u001b[0m\u001b[1;33m:\u001b[0m\u001b[1;33m\u001b[0m\u001b[1;33m\u001b[0m\u001b[0m\n\u001b[0;32m    390\u001b[0m             \u001b[1;32mreturn\u001b[0m \u001b[0mself\u001b[0m\u001b[1;33m.\u001b[0m\u001b[0m_result\u001b[0m\u001b[1;33m\u001b[0m\u001b[1;33m\u001b[0m\u001b[0m\n",
      "\u001b[1;32mc:\\users\\amaryllis lee\\appdata\\local\\programs\\python\\python38-32\\lib\\concurrent\\futures\\thread.py\u001b[0m in \u001b[0;36mrun\u001b[1;34m(self)\u001b[0m\n\u001b[0;32m     55\u001b[0m \u001b[1;33m\u001b[0m\u001b[0m\n\u001b[0;32m     56\u001b[0m         \u001b[1;32mtry\u001b[0m\u001b[1;33m:\u001b[0m\u001b[1;33m\u001b[0m\u001b[1;33m\u001b[0m\u001b[0m\n\u001b[1;32m---> 57\u001b[1;33m             \u001b[0mresult\u001b[0m \u001b[1;33m=\u001b[0m \u001b[0mself\u001b[0m\u001b[1;33m.\u001b[0m\u001b[0mfn\u001b[0m\u001b[1;33m(\u001b[0m\u001b[1;33m*\u001b[0m\u001b[0mself\u001b[0m\u001b[1;33m.\u001b[0m\u001b[0margs\u001b[0m\u001b[1;33m,\u001b[0m \u001b[1;33m**\u001b[0m\u001b[0mself\u001b[0m\u001b[1;33m.\u001b[0m\u001b[0mkwargs\u001b[0m\u001b[1;33m)\u001b[0m\u001b[1;33m\u001b[0m\u001b[1;33m\u001b[0m\u001b[0m\n\u001b[0m\u001b[0;32m     58\u001b[0m         \u001b[1;32mexcept\u001b[0m \u001b[0mBaseException\u001b[0m \u001b[1;32mas\u001b[0m \u001b[0mexc\u001b[0m\u001b[1;33m:\u001b[0m\u001b[1;33m\u001b[0m\u001b[1;33m\u001b[0m\u001b[0m\n\u001b[0;32m     59\u001b[0m             \u001b[0mself\u001b[0m\u001b[1;33m.\u001b[0m\u001b[0mfuture\u001b[0m\u001b[1;33m.\u001b[0m\u001b[0mset_exception\u001b[0m\u001b[1;33m(\u001b[0m\u001b[0mexc\u001b[0m\u001b[1;33m)\u001b[0m\u001b[1;33m\u001b[0m\u001b[1;33m\u001b[0m\u001b[0m\n",
      "\u001b[1;32mc:\\users\\amaryllis lee\\appdata\\local\\programs\\python\\python38-32\\lib\\site-packages\\sentinelhub\\download\\client.py\u001b[0m in \u001b[0;36m_single_download\u001b[1;34m(self, request, decode_data)\u001b[0m\n\u001b[0;32m     99\u001b[0m             \u001b[1;32mreturn\u001b[0m \u001b[1;32mNone\u001b[0m\u001b[1;33m\u001b[0m\u001b[1;33m\u001b[0m\u001b[0m\n\u001b[0;32m    100\u001b[0m \u001b[1;33m\u001b[0m\u001b[0m\n\u001b[1;32m--> 101\u001b[1;33m         \u001b[0mresponse_content\u001b[0m \u001b[1;33m=\u001b[0m \u001b[0mself\u001b[0m\u001b[1;33m.\u001b[0m\u001b[0m_execute_download\u001b[0m\u001b[1;33m(\u001b[0m\u001b[0mrequest\u001b[0m\u001b[1;33m)\u001b[0m\u001b[1;33m\u001b[0m\u001b[1;33m\u001b[0m\u001b[0m\n\u001b[0m\u001b[0;32m    102\u001b[0m \u001b[1;33m\u001b[0m\u001b[0m\n\u001b[0;32m    103\u001b[0m         \u001b[1;32mif\u001b[0m \u001b[0mrequest_path\u001b[0m \u001b[1;32mand\u001b[0m \u001b[0mrequest\u001b[0m\u001b[1;33m.\u001b[0m\u001b[0msave_response\u001b[0m \u001b[1;32mand\u001b[0m \u001b[1;33m(\u001b[0m\u001b[0mself\u001b[0m\u001b[1;33m.\u001b[0m\u001b[0mredownload\u001b[0m \u001b[1;32mor\u001b[0m \u001b[1;32mnot\u001b[0m \u001b[0mos\u001b[0m\u001b[1;33m.\u001b[0m\u001b[0mpath\u001b[0m\u001b[1;33m.\u001b[0m\u001b[0mexists\u001b[0m\u001b[1;33m(\u001b[0m\u001b[0mrequest_path\u001b[0m\u001b[1;33m)\u001b[0m\u001b[1;33m)\u001b[0m\u001b[1;33m:\u001b[0m\u001b[1;33m\u001b[0m\u001b[1;33m\u001b[0m\u001b[0m\n",
      "\u001b[1;32mc:\\users\\amaryllis lee\\appdata\\local\\programs\\python\\python38-32\\lib\\site-packages\\sentinelhub\\download\\handlers.py\u001b[0m in \u001b[0;36mnew_download_func\u001b[1;34m(self, request)\u001b[0m\n\u001b[0;32m     42\u001b[0m         \u001b[1;32mfor\u001b[0m \u001b[0mattempt_num\u001b[0m \u001b[1;32min\u001b[0m \u001b[0mrange\u001b[0m\u001b[1;33m(\u001b[0m\u001b[0mdownload_attempts\u001b[0m\u001b[1;33m)\u001b[0m\u001b[1;33m:\u001b[0m\u001b[1;33m\u001b[0m\u001b[1;33m\u001b[0m\u001b[0m\n\u001b[0;32m     43\u001b[0m             \u001b[1;32mtry\u001b[0m\u001b[1;33m:\u001b[0m\u001b[1;33m\u001b[0m\u001b[1;33m\u001b[0m\u001b[0m\n\u001b[1;32m---> 44\u001b[1;33m                 \u001b[1;32mreturn\u001b[0m \u001b[0mdownload_func\u001b[0m\u001b[1;33m(\u001b[0m\u001b[0mself\u001b[0m\u001b[1;33m,\u001b[0m \u001b[0mrequest\u001b[0m\u001b[1;33m)\u001b[0m\u001b[1;33m\u001b[0m\u001b[1;33m\u001b[0m\u001b[0m\n\u001b[0m\u001b[0;32m     45\u001b[0m             \u001b[1;32mexcept\u001b[0m \u001b[0mrequests\u001b[0m\u001b[1;33m.\u001b[0m\u001b[0mRequestException\u001b[0m \u001b[1;32mas\u001b[0m \u001b[0mexception\u001b[0m\u001b[1;33m:\u001b[0m\u001b[1;33m\u001b[0m\u001b[1;33m\u001b[0m\u001b[0m\n\u001b[0;32m     46\u001b[0m \u001b[1;33m\u001b[0m\u001b[0m\n",
      "\u001b[1;32mc:\\users\\amaryllis lee\\appdata\\local\\programs\\python\\python38-32\\lib\\site-packages\\sentinelhub\\download\\handlers.py\u001b[0m in \u001b[0;36mnew_download_func\u001b[1;34m(self, request)\u001b[0m\n\u001b[0;32m     25\u001b[0m                 \u001b[0mexception\u001b[0m\u001b[1;33m.\u001b[0m\u001b[0mresponse\u001b[0m\u001b[1;33m.\u001b[0m\u001b[0mstatus_code\u001b[0m \u001b[1;33m!=\u001b[0m \u001b[0mrequests\u001b[0m\u001b[1;33m.\u001b[0m\u001b[0mstatus_codes\u001b[0m\u001b[1;33m.\u001b[0m\u001b[0mcodes\u001b[0m\u001b[1;33m.\u001b[0m\u001b[0mTOO_MANY_REQUESTS\u001b[0m\u001b[1;33m:\u001b[0m\u001b[1;33m\u001b[0m\u001b[1;33m\u001b[0m\u001b[0m\n\u001b[0;32m     26\u001b[0m \u001b[1;33m\u001b[0m\u001b[0m\n\u001b[1;32m---> 27\u001b[1;33m                 \u001b[1;32mraise\u001b[0m \u001b[0mDownloadFailedException\u001b[0m\u001b[1;33m(\u001b[0m\u001b[0m_create_download_failed_message\u001b[0m\u001b[1;33m(\u001b[0m\u001b[0mexception\u001b[0m\u001b[1;33m,\u001b[0m \u001b[0mrequest\u001b[0m\u001b[1;33m.\u001b[0m\u001b[0murl\u001b[0m\u001b[1;33m)\u001b[0m\u001b[1;33m)\u001b[0m \u001b[1;32mfrom\u001b[0m \u001b[0mexception\u001b[0m\u001b[1;33m\u001b[0m\u001b[1;33m\u001b[0m\u001b[0m\n\u001b[0m\u001b[0;32m     28\u001b[0m             \u001b[1;32mraise\u001b[0m \u001b[0mexception\u001b[0m \u001b[1;32mfrom\u001b[0m \u001b[0mexception\u001b[0m\u001b[1;33m\u001b[0m\u001b[1;33m\u001b[0m\u001b[0m\n\u001b[0;32m     29\u001b[0m \u001b[1;33m\u001b[0m\u001b[0m\n",
      "\u001b[1;31mDownloadFailedException\u001b[0m: Failed to download from:\nhttps://services.sentinel-hub.com/api/v1/process\nwith HTTPError:\n400 Client Error: Bad Request for url: https://services.sentinel-hub.com/api/v1/process\nServer response: \"{\"error\":{\"status\":400,\"reason\":\"Bad Request\",\"message\":\"Format application/json does not support sample type AUTO.\",\"code\":\"RENDERER_EXCEPTION\"}}\""
     ]
    }
   ],
   "source": [
    "for index, row in geolocations.iterrows(): # iterate through each location\n",
    "    \n",
    "    coords = bbox_converter(row) # convert each location to a bbox\n",
    "    \n",
    "    \n",
    "    labels = [] # TODO check if this is the correct way to store the labels \n",
    "    \n",
    "    start = time.perf_counter()\n",
    "    for slot in slots:\n",
    "        sentinel_request(evalscript_true_color, coords,slot, config, True,'../data/images', other_args=least_clouds())\n",
    "        sentinel_request(evalscript_ndvi, coords,slot, config, True,'../data/mask', other_args=least_clouds())\n",
    "        request_geojson(evalscript_true_color, coords,slot, config, True,'../data/geojson', other_args=least_clouds())\n",
    "        \n",
    "        # get the labels\n",
    "        binary_arr_labels = labels_request(coords, slot, config)\n",
    "        labels.append(binary_arr_labels) # TODO  check if this is correct and efficient\n",
    "    end = time.perf_counter()\n",
    "    print(\"Done in: {} seconds\".format( end - start))"
   ]
  },
  {
   "cell_type": "markdown",
   "metadata": {},
   "source": [
    "Below you wil find a function the plot images for one specific scene/area and the given timestamps"
   ]
  },
  {
   "cell_type": "code",
   "execution_count": null,
   "metadata": {},
   "outputs": [],
   "source": [
    "def plot_images(data, slots):\n",
    "    # some stuff for pretty plots\n",
    "    ncols = 2\n",
    "    nrows = 2\n",
    "    aspect_ratio = betsiboka_size[0] / betsiboka_size[1]\n",
    "    subplot_kw = {'xticks': [], 'yticks': [], 'frame_on': False}\n",
    "\n",
    "    fig, axs = plt.subplots(ncols=ncols, nrows=nrows, figsize=(5 * ncols * aspect_ratio, 5 * nrows),\n",
    "                            subplot_kw=subplot_kw)\n",
    "\n",
    "    for idx, image in enumerate(data):\n",
    "        ax = axs[idx // ncols][idx % ncols]\n",
    "        ax.imshow(np.clip(image * 2.5/255, 0, 1))\n",
    "        ax.set_title(f'{slots[idx][0]}  -  {slots[idx][1]}', fontsize=10)\n",
    "\n",
    "    plt.tight_layout()"
   ]
  }
 ],
 "metadata": {
  "kernelspec": {
   "display_name": "Python 3",
   "language": "python",
   "name": "python3"
  },
  "language_info": {
   "codemirror_mode": {
    "name": "ipython",
    "version": 3
   },
   "file_extension": ".py",
   "mimetype": "text/x-python",
   "name": "python",
   "nbconvert_exporter": "python",
   "pygments_lexer": "ipython3",
   "version": "3.8.1"
  }
 },
 "nbformat": 4,
 "nbformat_minor": 5
}
