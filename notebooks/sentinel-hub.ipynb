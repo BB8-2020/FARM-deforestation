{
 "cells": [
  {
   "cell_type": "code",
   "execution_count": 7,
   "metadata": {},
   "outputs": [],
   "source": [
    "import pandas as pd"
   ]
  },
  {
   "cell_type": "code",
   "execution_count": 8,
   "metadata": {},
   "outputs": [],
   "source": [
    "df = pd.read_excel('../data/locations/FarmerLocationExtract4Interns.xlsx', engine='openpyxl')"
   ]
  },
  {
   "cell_type": "code",
   "execution_count": 9,
   "metadata": {},
   "outputs": [],
   "source": [
    "for column_name in ['P1_Longitude', 'P1_Latitude']:\n",
    "    df = df[df[column_name].notna()]\n",
    "    df[column_name] = df[column_name].str.replace('.', '')\n",
    "    df[column_name] = df[column_name].str.replace('⁰', '.')\n",
    "    df[column_name] = df[column_name].str.replace('˚', '.')\n",
    "    df[column_name] = df[column_name].apply(lambda x: x[:-1])\n",
    "    df[column_name] = df[column_name].str.replace(\"'\", '')"
   ]
  },
  {
   "cell_type": "code",
   "execution_count": 10,
   "metadata": {},
   "outputs": [],
   "source": [
    "writer = pd.ExcelWriter('../data/locations/FarmerLocationExtract4Interns_sentinel-hub.xlsx', engine='xlsxwriter')\n",
    "df.to_excel(writer, sheet_name='Sheet1')\n",
    "writer.save()"
   ]
  }
 ],
 "metadata": {
  "kernelspec": {
   "display_name": "Python 3",
   "language": "python",
   "name": "python3"
  },
  "language_info": {
   "codemirror_mode": {
    "name": "ipython",
    "version": 3
   },
   "file_extension": ".py",
   "mimetype": "text/x-python",
   "name": "python",
   "nbconvert_exporter": "python",
   "pygments_lexer": "ipython3",
   "version": "3.8.3"
  }
 },
 "nbformat": 4,
 "nbformat_minor": 2
}
