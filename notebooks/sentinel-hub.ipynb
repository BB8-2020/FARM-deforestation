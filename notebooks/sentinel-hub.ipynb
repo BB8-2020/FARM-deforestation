{
 "cells": [
  {
   "cell_type": "code",
   "execution_count": 1,
   "metadata": {},
   "outputs": [],
   "source": [
    "import pandas as pd"
   ]
  },
  {
   "cell_type": "code",
   "execution_count": 2,
   "metadata": {},
   "outputs": [],
   "source": [
    "df = pd.read_excel('data/locations/FarmerLocationExtract4Interns.xlsx', engine='openpyxl')"
   ]
  },
  {
   "cell_type": "code",
   "execution_count": 3,
   "metadata": {},
   "outputs": [
    {
     "name": "stderr",
     "output_type": "stream",
     "text": [
      "<ipython-input-3-dfba0a812b89>:3: FutureWarning: The default value of regex will change from True to False in a future version. In addition, single character regular expressions will*not* be treated as literal strings when regex=True.\n",
      "  df[column_name] = df[column_name].str.replace('.', '')\n"
     ]
    }
   ],
   "source": [
    "for column_name in ['P1_Longitude', 'P1_Latitude']:\n",
    "    df = df[df[column_name].notna()]\n",
    "    df[column_name] = df[column_name].str.replace('.', '')\n",
    "    df[column_name] = df[column_name].str.replace('⁰', '.')\n",
    "    df[column_name] = df[column_name].str.replace('˚', '.')\n",
    "    df[column_name] = df[column_name].apply(lambda x: x[:-1])\n",
    "    df[column_name] = df[column_name].str.replace(\"'\", '')"
   ]
  },
  {
   "cell_type": "code",
   "execution_count": 4,
   "metadata": {},
   "outputs": [],
   "source": [
    "writer = pd.ExcelWriter('data/locations/FarmerLocationExtract4Interns_sentinel-hub.xlsx', engine='xlsxwriter')\n",
    "df.to_excel(writer, sheet_name='Sheet1')\n",
    "writer.save()"
   ]
  }
 ],
 "metadata": {
  "kernelspec": {
   "display_name": "Python 3",
   "language": "python",
   "name": "python3"
  },
  "language_info": {
   "codemirror_mode": {
    "name": "ipython",
    "version": 3
   },
   "file_extension": ".py",
   "mimetype": "text/x-python",
   "name": "python",
   "nbconvert_exporter": "python",
   "pygments_lexer": "ipython3",
   "version": "3.8.1"
  }
 },
 "nbformat": 4,
 "nbformat_minor": 2
}
