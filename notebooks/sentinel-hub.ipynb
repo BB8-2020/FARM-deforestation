{
 "cells": [
  {
   "cell_type": "markdown",
   "metadata": {},
   "source": [
    "# Sentinel Hub Process API services from within Python"
   ]
  },
  {
   "cell_type": "markdown",
   "metadata": {},
   "source": [
    "Er wordt gebruikt gemaakt van de Sentinel Hub Process API om onze  satellietbeelden te verzamelen.\n",
    "Er wordt een request request gestuured naar sentinel Hub en we kunne dan met get_data() de data krijgen en printen via Python"
   ]
  },
  {
   "cell_type": "code",
   "execution_count": 1,
   "metadata": {},
   "outputs": [
    {
     "name": "stdout",
     "output_type": "stream",
     "text": [
      "Succefully connected!\n"
     ]
    }
   ],
   "source": [
    "from python_scripts.connector import *\n",
    "from python_scripts.helper import *"
   ]
  },
  {
   "cell_type": "code",
   "execution_count": 2,
   "metadata": {},
   "outputs": [],
   "source": [
    "from eval_scripts.evalscript_true_color import *\n",
    "from eval_scripts.evalscript_forest import *\n",
    "from eval_scripts.evalscript_ndvi import *\n",
    "from eval_scripts.evalscript_ndvi_values import *"
   ]
  },
  {
   "cell_type": "code",
   "execution_count": 3,
   "metadata": {},
   "outputs": [],
   "source": [
    "from sentinelhub.geo_utils import *\n",
    "from sentinelhub.constants import CRS\n",
    "from sentinelhub.geometry import BBox\n",
    "import math \n",
    "import matplotlib.pyplot as plt\n",
    "from PIL import Image\n",
    "\n",
    "lng = 87.118996\n",
    "lat = 21.5439876\n",
    "# lng, lat = to_wgs84(lng, lat, CRS.WGS84)"
   ]
  },
  {
   "cell_type": "code",
   "execution_count": 4,
   "metadata": {},
   "outputs": [],
   "source": [
    "# degrees to radians\n",
    "def deg2rad(degrees):\n",
    "    return math.pi*degrees/180.0\n",
    "# radians to degrees\n",
    "def rad2deg(radians):\n",
    "    return 180.0*radians/math.pi\n",
    "\n",
    "# Semi-axes of WGS-84 geoidal reference\n",
    "WGS84_a = 6378137.0  # Major semiaxis [m]\n",
    "WGS84_b = 6356752.3  # Minor semiaxis [m]\n",
    "\n",
    "# Earth radius at a given latitude, according to the WGS-84 ellipsoid [m]\n",
    "def WGS84EarthRadius(lat):\n",
    "    # http://en.wikipedia.org/wiki/Earth_radius\n",
    "    An = WGS84_a*WGS84_a * math.cos(lat)\n",
    "    Bn = WGS84_b*WGS84_b * math.sin(lat)\n",
    "    Ad = WGS84_a * math.cos(lat)\n",
    "    Bd = WGS84_b * math.sin(lat)\n",
    "    return math.sqrt( (An*An + Bn*Bn)/(Ad*Ad + Bd*Bd) )\n",
    "\n",
    "# Bounding box surrounding the point at given coordinates,\n",
    "# assuming local approximation of Earth surface as a sphere\n",
    "# of radius given by WGS84\n",
    "def boundingBox(latitudeInDegrees, longitudeInDegrees, halfSideInKm):\n",
    "    lat = deg2rad(latitudeInDegrees)\n",
    "    lon = deg2rad(longitudeInDegrees)\n",
    "    halfSide = 1000*halfSideInKm\n",
    "\n",
    "    # Radius of Earth at given latitude\n",
    "    radius = WGS84EarthRadius(lat)\n",
    "    # Radius of the parallel at given latitude\n",
    "    pradius = radius*math.cos(lat)\n",
    "\n",
    "    latMin = lat - halfSide/radius\n",
    "    latMax = lat + halfSide/radius\n",
    "    lonMin = lon - halfSide/pradius\n",
    "    lonMax = lon + halfSide/pradius\n",
    "\n",
    "    return (rad2deg(latMin), rad2deg(lonMin), rad2deg(latMax), rad2deg(lonMax))"
   ]
  },
  {
   "cell_type": "code",
   "execution_count": 5,
   "metadata": {},
   "outputs": [
    {
     "data": {
      "text/plain": [
       "(87.10998270424972, 21.36466070925989, 87.12800929575026, 21.723314490740115)"
      ]
     },
     "execution_count": 5,
     "metadata": {},
     "output_type": "execute_result"
    }
   ],
   "source": [
    "bb = BBox(boundingBox(lng, lat, 1), CRS.WGS84)\n",
    "boundingBox(lng, lat, 1)"
   ]
  },
  {
   "cell_type": "code",
   "execution_count": 6,
   "metadata": {},
   "outputs": [],
   "source": [
    "# coords = [86.773796, 21.848934, 87.231445, 22.063497]\n",
    "coords = [lng - 0.013, lat - 0.013, lng + 0.013, lat + 0.013]\n",
    "\n",
    "no_clouds = { \n",
    "    \"dataFilter\": { \n",
    "        \"maxCloudCoverage\": 0\n",
    "    } \n",
    "}"
   ]
  },
  {
   "cell_type": "code",
   "execution_count": 7,
   "metadata": {},
   "outputs": [],
   "source": [
    "coords_Amazon_Rainforest =[[-61.64304123722222, -7.1977762330555555, -61.59664948444445, -7.151749156666667],\n",
    "[-47.276085125277774, -5.1459865675000005, -47.229872031388894, -5.099955920555555],\n",
    "[-72.68058219944444, -7.546572816111111, -72.63415454916667, -7.500546328333333],\n",
    "[-54.907312499999996, -16.483174878333333, -54.8593125, -16.437143912222222],\n",
    "[-56.41083402305556, -15.082882561666667, -56.36315190388889, -15.036849999444444],\n",
    "[-56.45938240527778, -13.673990039444444, -56.411989040277774, -13.62795547],\n",
    "[-55.1953125, -12.487397424166666, -55.14817974277778, -12.441361218611112],\n",
    "[-58.31184397277777, -14.310413613611113, -58.26431294555555, -14.2643830875],\n",
    "[-57.82104207194445, -9.679239864444444, -57.774349465, -9.633204256944445],\n",
    "[-57.51602668138889, -9.841712924444446, -57.46928557527778, -9.795677582777778],\n",
    "[-51.494502314722226, -6.24193727, -51.44820601861111, -6.19590667],\n",
    "[-51.1439817775, 0.029311676666666668, -51.09794597194445, 0.07534719333333334],\n",
    "[-44.55610613305555, -4.537154218055555, -44.50994044944444, -4.491124064166667],\n",
    "[-51.14374599861111, -2.903435306388889, -51.097651248333335, -2.857403249722222],\n",
    "[-52.64127957722222, -8.591274486666666, -52.59473186583334, -8.545247906111111],\n",
    "[-54.09449481027778, -3.8356628486111113, -54.04836462083333, -3.7896283052777777],\n",
    "[-46.360107985, -4.140418458611111, -46.31396597027778, -4.094391151388889],\n",
    "[-56.46292321888889, -5.1920172141666665, -56.416710125277774, -5.1459865675000005],\n",
    "[-56.15536277611111, -13.516114908611112, -56.10804416416667, -13.470086673611112],\n",
    "[-54.556744950833334, -15.669065434444445, -54.50891077611111, -15.623036831666667],\n",
    "[-64.1517942775, -0.44362786111111113, -64.10575847194444, -0.39759407750000003],\n",
    "[-68.6720579625, -10.717961193611112, -68.62521955499999, -10.67193133111111],\n",
    "[-47.88742315583333, -3.3925968516666667, -47.841316598333336, -3.3465685875],\n",
    "[-53.909914925555555, -4.186445765555556, -53.86377291083333, -4.140418458611111],\n",
    "[-59.71893239305556, -9.633204256944445, -59.672239786111106, -9.587168649444445],\n",
    "[-60.46875, -11.454581911666667, -60.42180164305555, -11.408551905277777],\n",
    "[-47.414771816388885, -4.4450939102777784, -47.36860613305556, -4.399063756666667],\n",
    "[-52.94571418138889, -10.025854291388889, -52.89897307527778, -9.979818949722222],\n",
    "[-48.071207199444444, -7.592599303611111, -48.02477954916667, -7.546572816111111],\n",
    "[-49.99615893777778, -5.1459865675000005, -49.94994584416666, -5.099955920555555]]\n",
    "\n",
    "# Amazon_1279.tiff_29.tiff\n",
    "# Amazon_124.tiff_36.tiff\n",
    "# Amazon_1712.tiff_26.tiff\n",
    "# Amazon_727.tiff_30.tiff\n",
    "# Amazon_822.tiff_20.tiff\n",
    "# Amazon_819.tiff_11.tiff\n",
    "# Amazon_720.tiff_40.tiff\n",
    "# Amazon_970.tiff_1.tiff\n",
    "# Amazon_954.tiff_36.tiff\n",
    "# Amazon_898.tiff_3.tiff\n",
    "# Amazon_425.tiff_44.tiff\n",
    "# Amazon_404.tiff_52.tiff\n",
    "# Amazon_5.tiff_50.tiff\n",
    "# Amazon_390.tiff_12.tiff\n",
    "# Amazon_505.tiff_26.tiff\n",
    "# Amazon_639.tiff_49.tiff\n",
    "# Amazon_58.tiff_41.tiff\n",
    "# Amazon_832.tiff_43.tiff\n",
    "# Amazon_801.tiff_42.tiff\n",
    "# Amazon_692.tiff_6.tiff\n",
    "# Amazon_1377.tiff_12.tiff\n",
    "# Amazon_1561.tiff_37.tiff\n",
    "# Amazon_170.tiff_38.tiff\n",
    "# Amazon_640.tiff_53.tiff\n",
    "# Amazon_1110.tiff_25.tiff\n",
    "# Amazon_1154.tiff_40.tiff\n",
    "# Amazon_122.tiff_33.tiff\n",
    "# Amazon_511.tiff_35.tiff\n",
    "# Amazon_181.tiff_34.tiff\n",
    "# Amazon_323.tiff_38.tiff"
   ]
  },
  {
   "cell_type": "code",
   "execution_count": null,
   "metadata": {
    "scrolled": false
   },
   "outputs": [],
   "source": [
    "for i in coords_Amazon_Rainforest[:10]:\n",
    "    img_true = simple_request(evalscript_true_color, i, config, False, other_args=no_clouds)\n",
    "    plot_image(img_true)\n",
    "    print(i)"
   ]
  },
  {
   "cell_type": "code",
   "execution_count": null,
   "metadata": {},
   "outputs": [],
   "source": [
    "for bbox in coords_Amazon_Rainforest[:10]:\n",
    "    img_ndvi = simple_request(evalscript_ndvi_values, bbox, config, False, other_args=no_clouds)\n",
    "    min_ndvi = 0.75\n",
    "    ndvi_copy = img_ndvi.copy()\n",
    "    labels = np.where(ndvi_copy > min_ndvi, 255, 0)\n",
    "    img = Image.fromarray(labels)\n",
    "    img.show()"
   ]
  },
  {
   "cell_type": "code",
   "execution_count": null,
   "metadata": {},
   "outputs": [],
   "source": [
    "img_true = simple_request(evalscript_true_color, coords_, config, False, other_args=no_clouds)\n",
    "plot_image(img_true)"
   ]
  },
  {
   "cell_type": "code",
   "execution_count": null,
   "metadata": {},
   "outputs": [],
   "source": []
  },
  {
   "cell_type": "code",
   "execution_count": null,
   "metadata": {},
   "outputs": [],
   "source": [
    "img_ndvi = simple_request(evalscript_ndvi_values, coords_, config, False, other_args=no_clouds)\n",
    "plot_image(img_ndvi)"
   ]
  },
  {
   "cell_type": "code",
   "execution_count": null,
   "metadata": {},
   "outputs": [],
   "source": [
    "min_ndvi = 0.8\n",
    "ndvi_copy = img_ndvi.copy()\n",
    "labels = np.where(ndvi_copy > min_ndvi, 255, 0)"
   ]
  },
  {
   "cell_type": "code",
   "execution_count": null,
   "metadata": {},
   "outputs": [],
   "source": [
    "from PIL import Image\n",
    "img = Image.fromarray(labels)\n",
    "img.show()"
   ]
  },
  {
   "cell_type": "code",
   "execution_count": null,
   "metadata": {},
   "outputs": [],
   "source": [
    "img_true = simple_request(evalscript_true_color, coords, config, False, other_args=no_clouds)\n",
    "plot_image(img_true)"
   ]
  },
  {
   "cell_type": "code",
   "execution_count": null,
   "metadata": {},
   "outputs": [],
   "source": [
    "img_true_ = simple_request(evalscript_true_color, bb, config, False, other_args=no_clouds)\n",
    "plot_image(img_true_)"
   ]
  },
  {
   "cell_type": "code",
   "execution_count": null,
   "metadata": {},
   "outputs": [],
   "source": [
    "# img_forestry = simple_request(evalscript_forest, coords, config, False, other_args=no_clouds)\n",
    "# plot_image(img_forestry, 2/255)"
   ]
  },
  {
   "cell_type": "code",
   "execution_count": null,
   "metadata": {},
   "outputs": [],
   "source": [
    "img_nvdi = simple_request(evalscript_ndvi, bb, config, False, other_args=no_clouds)\n",
    "plot_image(img_nvdi)"
   ]
  },
  {
   "cell_type": "markdown",
   "metadata": {},
   "source": [
    "## Get images form a specific timestamp"
   ]
  },
  {
   "cell_type": "code",
   "execution_count": null,
   "metadata": {},
   "outputs": [],
   "source": [
    "img_true_ = sentinel_request(evalscript_true_color, coords,('2020-02-05', '2020-04-25'), config, False, other_args=no_clouds)\n",
    "plot_image(img_true_)"
   ]
  },
  {
   "cell_type": "code",
   "execution_count": null,
   "metadata": {},
   "outputs": [],
   "source": [
    "img_ndvi_ = sentinel_request(evalscript_ndvi, coords,('2020-02-05', '2020-04-25'), config, False, other_args=no_clouds)\n",
    "plot_image(img_ndvi_)"
   ]
  },
  {
   "cell_type": "code",
   "execution_count": null,
   "metadata": {},
   "outputs": [],
   "source": []
  }
 ],
 "metadata": {
  "kernelspec": {
   "display_name": "Python 3",
   "language": "python",
   "name": "python3"
  },
  "language_info": {
   "codemirror_mode": {
    "name": "ipython",
    "version": 3
   },
   "file_extension": ".py",
   "mimetype": "text/x-python",
   "name": "python",
   "nbconvert_exporter": "python",
   "pygments_lexer": "ipython3",
   "version": "3.8.1"
  }
 },
 "nbformat": 4,
 "nbformat_minor": 2
}
