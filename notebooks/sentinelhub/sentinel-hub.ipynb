{
 "cells": [
  {
   "cell_type": "markdown",
   "metadata": {},
   "source": [
    "# Sentinel Hub Process API services from within Python"
   ]
  },
  {
   "cell_type": "markdown",
   "metadata": {},
   "source": [
    "Er wordt gebruikt gemaakt van de Sentinel Hub Process API om onze  satellietbeelden te verzamelen.\n",
    "Er wordt een request request gestuured naar sentinel Hub en we kunne dan met get_data() de data krijgen en printen via Python"
   ]
  },
  {
   "cell_type": "code",
   "execution_count": null,
   "metadata": {},
   "outputs": [],
   "source": [
    "from python_scripts.connector import *\n",
    "from python_scripts.helper import *"
   ]
  },
  {
   "cell_type": "code",
   "execution_count": null,
   "metadata": {},
   "outputs": [],
   "source": [
    "from eval_scripts.evalscript_true_color import *\n",
    "from eval_scripts.evalscript_forest import *\n",
    "from eval_scripts.evalscript_ndvi import *\n",
    "from eval_scripts.evalscript_ndvi_values import *"
   ]
  },
  {
   "cell_type": "code",
   "execution_count": null,
   "metadata": {},
   "outputs": [],
   "source": [
    "from sentinelhub.geo_utils import *\n",
    "from sentinelhub.constants import CRS\n",
    "from sentinelhub.geometry import BBox\n",
    "import math \n",
    "import matplotlib.pyplot as plt\n",
    "from PIL import Image, ImageEnhance\n",
    "\n",
    "lng = 87.02194333333333\n",
    "lat = 21.911076666666666\n",
    "# lng, lat = to_wgs84(lng, lat, CRS.WGS84)\n",
    "no_clouds = { \n",
    "    \"dataFilter\": { \n",
    "        \"maxCloudCoverage\": 0\n",
    "    } \n",
    "}"
   ]
  },
  {
   "cell_type": "markdown",
   "metadata": {},
   "source": [
    "## First method to convert center coordinates and scale/radius to bounding  box"
   ]
  },
  {
   "cell_type": "code",
   "execution_count": null,
   "metadata": {},
   "outputs": [],
   "source": [
    "# degrees to radians\n",
    "def deg2rad(degrees):\n",
    "    return math.pi*degrees/180.0\n",
    "\n",
    "def bbox_converter(long, lat, radius):\n",
    "\n",
    "    # Calculating dy\n",
    "    earth_radius = 6.371 * 10**3\n",
    "    dy = 360 * (radius/earth_radius)\n",
    "    # Calculating dx\n",
    "    dx = dy * math.cos(deg2rad(long))\n",
    "    \n",
    "    return [long - dx, lat - dy, long + dx, lat + dy]"
   ]
  },
  {
   "cell_type": "code",
   "execution_count": null,
   "metadata": {},
   "outputs": [],
   "source": [
    "bbox_1 = bbox_converter(lng, lat, 5000)\n",
    "coords_1 = BBox(bbox_1, CRS.WGS84)\n",
    "coords_1"
   ]
  },
  {
   "cell_type": "code",
   "execution_count": null,
   "metadata": {},
   "outputs": [],
   "source": [
    "bbox_to_resolution(coords_1, 512, 512)"
   ]
  },
  {
   "cell_type": "code",
   "execution_count": null,
   "metadata": {},
   "outputs": [],
   "source": []
  },
  {
   "cell_type": "code",
   "execution_count": null,
   "metadata": {},
   "outputs": [],
   "source": [
    "img_true = simple_request(evalscript_true_color, coords_1, config, False, other_args=no_clouds)\n",
    "im = Image.fromarray(img_true)\n",
    "enhancer = ImageEnhance.Sharpness(im)\n",
    "im_s_1 = enhancer.enhance(2)\n",
    "im_s_1"
   ]
  },
  {
   "cell_type": "markdown",
   "metadata": {},
   "source": [
    "## Second method"
   ]
  },
  {
   "cell_type": "code",
   "execution_count": null,
   "metadata": {},
   "outputs": [],
   "source": [
    "# degrees to radians\n",
    "def deg2rad(degrees):\n",
    "    return math.pi*degrees/180.0\n",
    "# radians to degrees\n",
    "def rad2deg(radians):\n",
    "    return 180.0*radians/math.pi\n",
    "\n",
    "# Semi-axes of WGS-84 geoidal reference\n",
    "WGS84_a = 6378137.0  # Major semiaxis [m]\n",
    "WGS84_b = 6356752.3  # Minor semiaxis [m]\n",
    "\n",
    "# Earth radius at a given latitude, according to the WGS-84 ellipsoid [m]\n",
    "def WGS84EarthRadius(lat):\n",
    "    # http://en.wikipedia.org/wiki/Earth_radius\n",
    "    An = WGS84_a*WGS84_a * math.cos(lat)\n",
    "    Bn = WGS84_b*WGS84_b * math.sin(lat)\n",
    "    Ad = WGS84_a * math.cos(lat)\n",
    "    Bd = WGS84_b * math.sin(lat)\n",
    "    return math.sqrt( (An*An + Bn*Bn)/(Ad*Ad + Bd*Bd) )\n",
    "\n",
    "# Bounding box surrounding the point at given coordinates,\n",
    "# assuming local approximation of Earth surface as a sphere\n",
    "# of radius given by WGS84\n",
    "def boundingBox(latitudeInDegrees, longitudeInDegrees, halfSideInKm):\n",
    "    lat = deg2rad(latitudeInDegrees)\n",
    "    lon = deg2rad(longitudeInDegrees)\n",
    "    halfSide = 1000*halfSideInKm\n",
    "\n",
    "    # Radius of Earth at given latitude\n",
    "    radius = WGS84EarthRadius(lat)\n",
    "    # Radius of the parallel at given latitude\n",
    "    pradius = radius*math.cos(lat)\n",
    "\n",
    "    latMin = lat - round(halfSide/radius)\n",
    "    latMax = lat + round(halfSide/radius)\n",
    "    lonMin = lon - round(halfSide/pradius)\n",
    "    lonMax = lon + round(halfSide/pradius)\n",
    "    \n",
    "   \n",
    "    return [rad2deg(latMin), rad2deg(lonMin), rad2deg(latMax), rad2deg(lonMax)]"
   ]
  },
  {
   "cell_type": "code",
   "execution_count": null,
   "metadata": {},
   "outputs": [],
   "source": [
    "bbox_2 = boundingBox(lng, lat, 0.1)"
   ]
  },
  {
   "cell_type": "code",
   "execution_count": null,
   "metadata": {},
   "outputs": [],
   "source": [
    "coords_2 = BBox(bbox_2, CRS.WGS84)\n",
    "coords_2"
   ]
  },
  {
   "cell_type": "code",
   "execution_count": null,
   "metadata": {},
   "outputs": [],
   "source": [
    "img_true_ = simple_request(evalscript_true_color, coords_2, config, False, other_args=no_clouds)\n",
    "# plot_image(img_true_)\n",
    "im = Image.fromarray(img_true_)\n",
    "enhancer = ImageEnhance.Sharpness(im)\n",
    "im_s_1 = enhancer.enhance(1)\n",
    "im_s_1"
   ]
  },
  {
   "cell_type": "code",
   "execution_count": null,
   "metadata": {},
   "outputs": [],
   "source": []
  },
  {
   "cell_type": "markdown",
   "metadata": {},
   "source": [
    "## Third method"
   ]
  },
  {
   "cell_type": "code",
   "execution_count": null,
   "metadata": {},
   "outputs": [],
   "source": [
    "# coords = [86.773796, 21.848934, 87.231445, 22.063497]\n",
    "coords_3 = [lng -  0.025, lat - 0.025, lng +  0.022, lat + 0.022]\n",
    "coords_3"
   ]
  },
  {
   "cell_type": "code",
   "execution_count": null,
   "metadata": {},
   "outputs": [],
   "source": [
    "bbox_to_resolution(BBox([lng -  0.025, lat - 0.025, lng +  0.022, lat + 0.022], CRS.WGS84),512, 512)"
   ]
  },
  {
   "cell_type": "code",
   "execution_count": null,
   "metadata": {},
   "outputs": [],
   "source": [
    "bbox_to_dimensions(BBox([lng -  0.025, lat - 0.025, lng +  0.022, lat + 0.022], CRS.WGS84), 10)"
   ]
  },
  {
   "cell_type": "markdown",
   "metadata": {},
   "source": [
    "The function below return the far"
   ]
  },
  {
   "cell_type": "code",
   "execution_count": null,
   "metadata": {},
   "outputs": [],
   "source": [
    "def generate_mask(coords, slot):\n",
    "    img_ndvi = sentinel_request(evalscript_ndvi_values, coords,slot, config, True,'../data/junk_photos_sentine_hub', other_args=no_clouds)\n",
    "    min_ndvi = 0.55\n",
    "    ndvi_copy = img_ndvi.copy()\n",
    "    labels = np.where(ndvi_copy > min_ndvi, 255, 0)\n",
    "    img = Image.fromarray(labels)\n",
    "    img.show()\n",
    "    return img_ndvi"
   ]
  },
  {
   "cell_type": "code",
   "execution_count": null,
   "metadata": {},
   "outputs": [],
   "source": [
    "img_true = simple_request(evalscript_true_color, coords_3, config, False, other_args=no_clouds)\n",
    "# plot_image(img_true)"
   ]
  },
  {
   "cell_type": "code",
   "execution_count": null,
   "metadata": {},
   "outputs": [],
   "source": [
    "im = Image.fromarray(img_true)\n",
    "sharpness = ImageEnhance.Sharpness(im)\n",
    "brightness= ImageEnhance.Brightness(im)\n",
    "im_s_1 = sharpness.enhance(4)\n",
    "im_s_1 = brightness.enhance(2)\n",
    "im_s_1"
   ]
  },
  {
   "cell_type": "code",
   "execution_count": null,
   "metadata": {},
   "outputs": [],
   "source": [
    "generate_mask(coords_3)"
   ]
  },
  {
   "cell_type": "code",
   "execution_count": null,
   "metadata": {},
   "outputs": [],
   "source": [
    "lon2 = 87.081936\n",
    "lat2 = 21.898751\n",
    "coords_ = [lon2 -  0.025, lat2 - 0.025, lon2 +  0.022, lat2 + 0.022]\n",
    "img_true = simple_request(evalscript_true_color, coords_, config, False, other_args=no_clouds)\n",
    "im = Image.fromarray(img_true)\n",
    "sharpness = ImageEnhance.Sharpness(im)\n",
    "brightness= ImageEnhance.Brightness(im)\n",
    "im_s_1 = sharpness.enhance(4)\n",
    "im_s_1 = brightness.enhance(2)\n",
    "im_s_1"
   ]
  },
  {
   "cell_type": "code",
   "execution_count": null,
   "metadata": {},
   "outputs": [],
   "source": [
    "generate_mask(coords_)"
   ]
  },
  {
   "cell_type": "code",
   "execution_count": null,
   "metadata": {},
   "outputs": [],
   "source": [
    "lon2 = 87.157488\n",
    "lat2 = 21.581197\n",
    "coords_ = [lon2 -  0.025, lat2 - 0.025, lon2 + 0.02, lat2 + 0.02]\n",
    "img_true = simple_request(evalscript_true_color, coords_, config, False, other_args=no_clouds)\n",
    "im = Image.fromarray(img_true)\n",
    "enhancer = ImageEnhance.Sharpness(im)\n",
    "im_s_1 = enhancer.enhance(2)\n",
    "im_s_1"
   ]
  },
  {
   "cell_type": "code",
   "execution_count": null,
   "metadata": {},
   "outputs": [],
   "source": [
    "lon3 = 87.053166\n",
    "lat3 = 21.551189\n",
    "coords_ = [lon3 -  0.025, lat3 - 0.025, lon3 + 0.02, lat3 + 0.02]\n",
    "img_true = simple_request(evalscript_true_color, coords_, config, False, other_args=no_clouds)\n",
    "im = Image.fromarray(img_true)\n",
    "enhancer = ImageEnhance.Sharpness(im)\n",
    "im_s_1 = enhancer.enhance(2)\n",
    "im_s_1"
   ]
  },
  {
   "cell_type": "code",
   "execution_count": null,
   "metadata": {},
   "outputs": [],
   "source": [
    "lon_mis = 87.442175\n",
    "lat_mis = 21.534495\n",
    "\n",
    "coords_ = [lon_mis -  0.025, lat_mis - 0.025, lon_mis + 0.02, lat_mis + 0.02]\n",
    "img_true = simple_request(evalscript_true_color, coords_, config, False, other_args=no_clouds)\n",
    "im = Image.fromarray(img_true)\n",
    "enhancer = ImageEnhance.Sharpness(im)\n",
    "im_s_1 = enhancer.enhance(2)\n",
    "im_s_1"
   ]
  },
  {
   "cell_type": "code",
   "execution_count": null,
   "metadata": {},
   "outputs": [],
   "source": []
  },
  {
   "cell_type": "code",
   "execution_count": null,
   "metadata": {},
   "outputs": [],
   "source": [
    "img_nvdi = simple_request(evalscript_ndvi_values, coords_, config, False, other_args=no_clouds)\n",
    "plot_image(img_nvdi)"
   ]
  },
  {
   "cell_type": "code",
   "execution_count": null,
   "metadata": {},
   "outputs": [],
   "source": [
    "ndvi = generate_mask(coords_)"
   ]
  },
  {
   "cell_type": "code",
   "execution_count": null,
   "metadata": {},
   "outputs": [],
   "source": [
    "def fractional_cover(ndvi):\n",
    "    \n",
    "    ndvi_copy = ndvi.copy()\n",
    "\n",
    "    vegetation = np.where(ndvi_copy > 0.75, 1, 0)\n",
    "    vegetation_count = np.count_nonzero(vegetation)\n",
    "\n",
    "    total = ndvi_copy.shape[0]*ndvi_copy.shape[1]\n",
    "    fractional_cover = (vegetation_count/total) * 100\n",
    "\n",
    "    return fractional_cover"
   ]
  },
  {
   "cell_type": "code",
   "execution_count": null,
   "metadata": {},
   "outputs": [],
   "source": [
    "fractional_cover(ndvi)"
   ]
  },
  {
   "cell_type": "markdown",
   "metadata": {},
   "source": [
    "# Comparable images"
   ]
  },
  {
   "cell_type": "code",
   "execution_count": null,
   "metadata": {},
   "outputs": [],
   "source": [
    "slots = [('2017-01-01', '2018-01-01'),\n",
    "('2018-01-01', '2019-01-01'),\n",
    "('2019-01-01', '2020-01-01'),\n",
    "('2020-01-01', '2020-12-31')]"
   ]
  },
  {
   "cell_type": "code",
   "execution_count": null,
   "metadata": {},
   "outputs": [],
   "source": [
    "coords_slot1 = [86.99694333333332,21.886076666666664,87.04394333333333,21.93307666666666]\n",
    "img_true = sentinel_request(evalscript_true_color, coords_slot1,slots[0], config, False, '../data/junk_photos_sentine_hub', other_args=no_clouds)\n",
    "im = Image.fromarray(img_true)\n",
    "contrast = ImageEnhance.Contrast(im)\n",
    "sharpness = ImageEnhance.Sharpness(im)\n",
    "brightness= ImageEnhance.Brightness(im)\n",
    "im_s_1 = sharpness.enhance(3)\n",
    "im_s_1 = brightness.enhance(2)\n",
    "im_s_1 = contrast.enhance(1.5)\n",
    "im_s_1"
   ]
  },
  {
   "cell_type": "code",
   "execution_count": null,
   "metadata": {},
   "outputs": [],
   "source": [
    "img_ndvi_1 = sentinel_request(evalscript_ndvi_values, coords_slot1,slots[0], config, False, '../data/junk_photos_sentine_hub', other_args=no_clouds)\n",
    "plot_image(img_ndvi_1)"
   ]
  },
  {
   "cell_type": "code",
   "execution_count": null,
   "metadata": {},
   "outputs": [],
   "source": [
    "img_ndvi_1 = sentinel_request(evalscript_ndvi, coords_slot1,slots[0], config, False, '../data/junk_photos_sentine_hub', other_args=no_clouds)\n",
    "plot_image(img_ndvi_1)"
   ]
  },
  {
   "cell_type": "code",
   "execution_count": null,
   "metadata": {},
   "outputs": [],
   "source": [
    "generate_mask(coords_slot1, slots[0])"
   ]
  },
  {
   "cell_type": "code",
   "execution_count": null,
   "metadata": {},
   "outputs": [],
   "source": [
    "img_true = sentinel_request(evalscript_true_color, coords_slot1,slots[1], config, False, '../data/junk_photos_sentine_hub', other_args=no_clouds)\n",
    "im = Image.fromarray(img_true)\n",
    "contrast = ImageEnhance.Contrast(im)\n",
    "sharpness = ImageEnhance.Sharpness(im)\n",
    "brightness= ImageEnhance.Brightness(im)\n",
    "im_s_1 = sharpness.enhance(3)\n",
    "im_s_1 = brightness.enhance(2)\n",
    "im_s_1 = contrast.enhance(1.5)\n",
    "im_s_1"
   ]
  },
  {
   "cell_type": "code",
   "execution_count": null,
   "metadata": {},
   "outputs": [],
   "source": [
    "img_ndvi_2 = sentinel_request(evalscript_ndvi_values, coords_slot1,slots[0], config, False, '../data/junk_photos_sentine_hub', other_args=no_clouds)\n",
    "plot_image(img_ndvi_2)"
   ]
  },
  {
   "cell_type": "code",
   "execution_count": null,
   "metadata": {},
   "outputs": [],
   "source": [
    "img_ndvi_2 = sentinel_request(evalscript_ndvi, coords_slot1,slots[0], config, False, '../data/junk_photos_sentine_hub', other_args=no_clouds)\n",
    "plot_image(img_ndvi_2)"
   ]
  },
  {
   "cell_type": "code",
   "execution_count": null,
   "metadata": {},
   "outputs": [],
   "source": [
    "generate_mask(coords_slot1, slots[1])"
   ]
  },
  {
   "cell_type": "code",
   "execution_count": null,
   "metadata": {},
   "outputs": [],
   "source": [
    "img_true = sentinel_request(evalscript_true_color, coords_slot1,slots[2], config, False, '../data/junk_photos_sentine_hub', other_args=no_clouds)\n",
    "im = Image.fromarray(img_true)\n",
    "contrast = ImageEnhance.Contrast(im)\n",
    "sharpness = ImageEnhance.Sharpness(im)\n",
    "brightness= ImageEnhance.Brightness(im)\n",
    "im_s_1 = sharpness.enhance(3)\n",
    "im_s_1 = brightness.enhance(2)\n",
    "im_s_1 = contrast.enhance(1.5)\n",
    "im_s_1"
   ]
  },
  {
   "cell_type": "code",
   "execution_count": null,
   "metadata": {},
   "outputs": [],
   "source": [
    "img_ndvi_3 = sentinel_request(evalscript_ndvi_values, coords_slot1,slots[0], config, False, '../data/junk_photos_sentine_hub', other_args=no_clouds)\n",
    "plot_image(img_ndvi_3)"
   ]
  },
  {
   "cell_type": "code",
   "execution_count": null,
   "metadata": {},
   "outputs": [],
   "source": [
    "generate_mask(coords_slot1, slots[2])"
   ]
  },
  {
   "cell_type": "code",
   "execution_count": null,
   "metadata": {},
   "outputs": [],
   "source": [
    "img_true = sentinel_request(evalscript_true_color, coords_slot1,slots[3], config, False, '../data/junk_photos_sentine_hub', other_args=no_clouds)\n",
    "im = Image.fromarray(img_true)\n",
    "contrast = ImageEnhance.Contrast(im)\n",
    "sharpness = ImageEnhance.Sharpness(im)\n",
    "brightness= ImageEnhance.Brightness(im)\n",
    "im_s_1 = sharpness.enhance(3)\n",
    "im_s_1 = brightness.enhance(2)\n",
    "im_s_1 = contrast.enhance(1.5)\n",
    "im_s_1"
   ]
  },
  {
   "cell_type": "code",
   "execution_count": null,
   "metadata": {},
   "outputs": [],
   "source": []
  },
  {
   "cell_type": "code",
   "execution_count": null,
   "metadata": {},
   "outputs": [],
   "source": [
    "img_ndvi_4 = sentinel_request(evalscript_ndvi_values, coords_slot1,slots[3], config, False, '../data/junk_photos_sentine_hub', other_args=no_clouds)\n",
    "plot_image(img_ndvi_4)"
   ]
  },
  {
   "cell_type": "code",
   "execution_count": null,
   "metadata": {},
   "outputs": [],
   "source": [
    "img_ndvi_4 = sentinel_request(evalscript_ndvi, coords_slot1,slots[3], config, False, '../data/junk_photos_sentine_hub', other_args=no_clouds)\n",
    "plot_image(img_ndvi_4)"
   ]
  },
  {
   "cell_type": "code",
   "execution_count": null,
   "metadata": {},
   "outputs": [],
   "source": [
    "img_amazon = sentinel_request(evalscript_ndvi, [-61.64304123722222, -7.1977762330555555, -61.59664948444445, -7.151749156666667],slots[3], config, False, '../data/junk_photos_sentine_hub', other_args=no_clouds)\n",
    "plot_image(img_amazon)"
   ]
  },
  {
   "cell_type": "code",
   "execution_count": null,
   "metadata": {},
   "outputs": [],
   "source": [
    "generate_mask ( [-61.64304123722222, -7.1977762330555555, -61.59664948444445, -7.151749156666667],slots[3])"
   ]
  },
  {
   "cell_type": "code",
   "execution_count": null,
   "metadata": {},
   "outputs": [],
   "source": [
    "generate_mask(coords_slot1, slots[3])"
   ]
  },
  {
   "cell_type": "code",
   "execution_count": null,
   "metadata": {},
   "outputs": [],
   "source": [
    "display(plt.hist(img_ndvi_1[0]))\n"
   ]
  },
  {
   "cell_type": "code",
   "execution_count": null,
   "metadata": {},
   "outputs": [],
   "source": [
    "display(plt.hist(img_ndvi_2[0]))"
   ]
  },
  {
   "cell_type": "code",
   "execution_count": null,
   "metadata": {},
   "outputs": [],
   "source": [
    "display(plt.hist(img_ndvi_3[0]))"
   ]
  },
  {
   "cell_type": "code",
   "execution_count": null,
   "metadata": {},
   "outputs": [],
   "source": [
    "display(plt.hist(img_ndvi_4[0]))"
   ]
  },
  {
   "cell_type": "code",
   "execution_count": null,
   "metadata": {},
   "outputs": [],
   "source": [
    "generate_mask(coords_slot1, slots[3])"
   ]
  },
  {
   "cell_type": "code",
   "execution_count": null,
   "metadata": {},
   "outputs": [],
   "source": []
  },
  {
   "cell_type": "code",
   "execution_count": null,
   "metadata": {},
   "outputs": [],
   "source": []
  }
 ],
 "metadata": {
  "kernelspec": {
   "display_name": "Python 3",
   "language": "python",
   "name": "python3"
  },
  "language_info": {
   "codemirror_mode": {
    "name": "ipython",
    "version": 3
   },
   "file_extension": ".py",
   "mimetype": "text/x-python",
   "name": "python",
   "nbconvert_exporter": "python",
   "pygments_lexer": "ipython3",
   "version": "3.8.1"
  }
 },
 "nbformat": 4,
 "nbformat_minor": 2
}
