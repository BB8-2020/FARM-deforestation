{
  "nbformat": 4,
  "nbformat_minor": 0,
  "metadata": {
    "colab": {
      "name": "Optimal_NDVI_threshold_analysis.ipynb",
      "provenance": [],
      "collapsed_sections": []
    },
    "kernelspec": {
      "name": "python3",
      "display_name": "Python 3"
    },
    "language_info": {
      "name": "python"
    }
  },
  "cells": [
    {
      "cell_type": "code",
      "metadata": {
        "id": "OIcFGE6oCacI"
      },
      "source": [
        "!pip install sentinelhub"
      ],
      "execution_count": null,
      "outputs": []
    },
    {
      "cell_type": "markdown",
      "metadata": {
        "id": "eo7xsUUMAO9X"
      },
      "source": [
        "# Optimale NDVI threshold analyse. \n",
        "\n",
        "Het doel van deze analyse is om de optimale NDVI-drempel te bepalen om onze binaire maskers te genereren.\n",
        "\n",
        "### Maskers\n",
        "Een masker is een binair raster met 0 en 1-pixelwaarden. Maskers worden gebruikt om bepaalde pixels buiten beeldverwerking te houden en om beeldstatistieken te berekenen.\n",
        "Het proces wordt meestal gedaan om \"object\" of voorgrondpixels te scheiden van achtergrondpixels om te helpen bij beeldverwerking.\n",
        "\n",
        "We gebruiken maskers om ons model te trainen om bebossing te onderscheiden in een bepaald satellietbeeld. Om onze maskers te maken, gebruiken we NDVI-waarden en de Thresholding-methode.\n",
        "\n",
        "Om onze maskers te maken, hebben we een optimale NDVI-drempel nodig waarmee we bos en geen bos kunnen onderscheiden in onze multitemporele satellietbeelden.\n",
        "\n",
        "### Stappenplan\n",
        "* Stap Voor 1 a 2 geolocaties( 1 a 2 satellietbeelden), satellietbeelden labelen met Labelbox\n",
        "* Masks genereren van geolocaties voor verschillende NDVI thresholds \n",
        "* Verschil bepalen tussen NDVI masks uit Sentinel hub en gelabelde masks\n",
        "* Optimale NDVI threshold bepalen"
      ]
    },
    {
      "cell_type": "code",
      "metadata": {
        "id": "Zo05pg_hhXXV"
      },
      "source": [
        "# connect to google drive\n",
        "from google.colab import drive, files\n",
        "drive.mount(\"/content/drive\")"
      ],
      "execution_count": null,
      "outputs": []
    },
    {
      "cell_type": "code",
      "metadata": {
        "id": "mOdF7IuRjy3O"
      },
      "source": [
        "#Import libraries\n",
        "from PIL import  Image, ImageEnhance\n",
        "import pandas as pd\n",
        "import json\n",
        "import matplotlib.pyplot as plt\n",
        "import numpy as np\n",
        "import os\n",
        "\n",
        "%matplotlib inline\n",
        "import cv2\n",
        "from imageio import imread"
      ],
      "execution_count": null,
      "outputs": []
    },
    {
      "cell_type": "markdown",
      "metadata": {
        "id": "rE3ofm5kWOjL"
      },
      "source": [
        "## Verkrijg gelabelde afbeeldingen van Labelbox\n",
        "\n",
        "Er waren een paar afbeeldingen in ware kleuren geselecteerd die we mochten labelen. De afbeeldingen werden gelabeld en geannoteerd via Labelbox. In de volgende code zullen we deze afbeeldingen verwerven en plotten. Bovendien zullen we deze gelabelde maskers toevoegen aan een lijst om te gebruiken voor analyse. "
      ]
    },
    {
      "cell_type": "code",
      "metadata": {
        "id": "ZbJs144Dxx_l"
      },
      "source": [
        "path = '/content/drive/My Drive/BB8/West_Bengal_15_geolocations_v2/labels_3_images.json'\n",
        "with open(path) as file:\n",
        "    data = json.load(file)"
      ],
      "execution_count": null,
      "outputs": []
    },
    {
      "cell_type": "code",
      "metadata": {
        "id": "QdsndC467opd"
      },
      "source": [
        "df = pd.read_csv('/content/drive/My Drive/BB8/West_Bengal_15_geolocations_v2/labels_3_images.csv')\n",
        "df['External ID'][3]"
      ],
      "execution_count": null,
      "outputs": []
    },
    {
      "cell_type": "code",
      "metadata": {
        "id": "wE4nrKVSive4"
      },
      "source": [
        "import pprint\n",
        "pprint.pprint(data[0]['Labeled Data'])"
      ],
      "execution_count": null,
      "outputs": []
    },
    {
      "cell_type": "code",
      "metadata": {
        "id": "vi_9X6Mzx9OW"
      },
      "source": [
        "mask = data[0]['Label']['objects'][0]['instanceURI']\n",
        "pprint.pprint(mask)"
      ],
      "execution_count": null,
      "outputs": []
    },
    {
      "cell_type": "markdown",
      "metadata": {
        "id": "az7GZwOR8eQy"
      },
      "source": [
        "Get mask for all 4 images"
      ]
    },
    {
      "cell_type": "code",
      "metadata": {
        "id": "8yrX-D0p6L3T"
      },
      "source": [
        "labeled_masks = []\n",
        "for i in range(4):\n",
        "  mask = data[i]['Label']['objects'][0]['instanceURI']# get mask \n",
        "  mask = imread(mask)\n",
        "  mask = np.delete(mask, np.s_[:3], 2)\n",
        "  mask = np.reshape(mask, (512,512))\n",
        "  labeled_masks.append(mask)\n",
        "  masks_ = Image.fromarray(mask)\n",
        "  print(f\"Mask {i}\")\n",
        "  # display(plt.imshow(mask, cmap ='gray'))\n",
        "  display(masks_)\n"
      ],
      "execution_count": null,
      "outputs": []
    },
    {
      "cell_type": "markdown",
      "metadata": {
        "id": "p9_JptLR93cK"
      },
      "source": [
        "## Verkrijg satellietbeelden van deze exacte coördinaten voor verschillende drempels.\n",
        "\n",
        "Nu moeten we satellietbeelden downloaden voor verschillende NDVI-drempels.\n",
        "Daarna kunnen we de NDVI-maskers vergelijken met de gelabelde maskers. We zullen de MSE gebruiken om de fout tussen twee afbeeldingen te berekenen."
      ]
    },
    {
      "cell_type": "code",
      "metadata": {
        "id": "Fn26wEOo84ko"
      },
      "source": [
        "# Import necessary libraries\n",
        "from sentinelhub import MimeType, CRS, BBox, SentinelHubRequest, SentinelHubDownloadClient,DataCollection, bbox_to_dimensions, SHConfig\n",
        "# configuration sentinel hub \n",
        "config = SHConfig()\n",
        "#je mag mijn client credentials gebruiken\n",
        "config.sh_client_id = '0bd9981e-9f55-48f8-a564-f5db87422602' \n",
        "config.sh_client_secret = '2#?ILN5#vU&0y6+{vm*]:^+Fqae^ro]:!>I1ka8+'\n",
        "\n",
        "if config.sh_client_id == '' or config.sh_client_secret == '':\n",
        "    print(\"Warning! To use Sentinel Hub Process API, please provide the credentials (client ID and client secret).\")"
      ],
      "execution_count": null,
      "outputs": []
    },
    {
      "cell_type": "code",
      "metadata": {
        "id": "JiW71dYvDXKJ"
      },
      "source": [
        "slots = [('2017-01-01', '2018-01-01'),\n",
        "('2018-01-01', '2019-01-01'),\n",
        "('2019-01-01', '2020-01-01'),\n",
        "('2020-01-01', '2020-12-31')]"
      ],
      "execution_count": null,
      "outputs": []
    },
    {
      "cell_type": "code",
      "metadata": {
        "id": "Yzv_WI4WpbTu"
      },
      "source": [
        "evalscript_ndvi_values = \"\"\"\n",
        "\n",
        "//VERSION=3\n",
        "    function setup() {\n",
        "      return{\n",
        "        input: [{\n",
        "          bands: [\"B04\", \"B08\"]\n",
        "        }],\n",
        "        output: {\n",
        "          id: \"default\",\n",
        "          bands: 1,\n",
        "          sampleType: SampleType.FLOAT32\n",
        "        }\n",
        "      }\n",
        "    }\n",
        "\n",
        "    \n",
        "\n",
        "    function evaluatePixel(sample) {\n",
        "      let ndvi = (sample.B08 - sample.B04) / (sample.B08 + sample.B04)\n",
        "      return [ ndvi ]\n",
        "    }\n",
        "\"\"\""
      ],
      "execution_count": null,
      "outputs": []
    },
    {
      "cell_type": "code",
      "metadata": {
        "id": "4NnTkpLNs-Id"
      },
      "source": [
        "no_clouds = { \n",
        "    \"dataFilter\": { \n",
        "        \"maxCloudCoverage\": 0\n",
        "    } \n",
        "}"
      ],
      "execution_count": null,
      "outputs": []
    },
    {
      "cell_type": "code",
      "metadata": {
        "id": "NtE6NG2hiWiu"
      },
      "source": [
        "def plot_image(image, factor=1/255, clip_range=(0, 1), **kwargs):\n",
        "    \"\"\"\n",
        "    Utility function for plotting RGB images.\n",
        "    \"\"\"\n",
        "    fig, ax = plt.subplots(nrows=1, ncols=1, figsize=(15, 15))\n",
        "    if clip_range is not None:\n",
        "        ax.imshow(np.clip(image * factor, *clip_range), **kwargs)\n",
        "    else:\n",
        "        ax.imshow(image * factor, **kwargs)\n",
        "    ax.set_xticks([])\n",
        "    ax.set_yticks([])\n",
        "    \n",
        "def send_request(evalscript, input_data, coords, config, save_data, data_folder='../data/images'):\n",
        "    bbox = BBox(bbox=coords, crs=CRS.WGS84)\n",
        "    request = SentinelHubRequest(data_folder=data_folder, evalscript=evalscript, input_data=input_data, bbox=bbox, config=config, size=[512, 512], responses=[SentinelHubRequest.output_response('default', MimeType.TIFF)])\n",
        "    response = request.get_data(save_data=save_data)[0]\n",
        "    return response\n",
        "\n",
        "# def send_request_geojson(evalscript, input_data, coords, config, save_data, data_folder='../data/images'):\n",
        "#     bbox = BBox(bbox=coords, crs=CRS.WGS84)\n",
        "#     request = SentinelHubRequest(data_folder=data_folder, evalscript=evalscript, input_data=input_data, bbox=bbox, config=config, size=[512,512], responses=[SentinelHubRequest.output_response('default', MimeType.JSON)])\n",
        "#     response = request.get_data(save_data=save_data)[0]\n",
        "#     return response\n",
        "\n",
        "simple_request = lambda eval_script, coords, config, save_data, **kwargs: send_request(\n",
        "    eval_script, \n",
        "    [SentinelHubRequest.input_data(data_collection=DataCollection.SENTINEL2_L2A, time_interval=('2018-01-01', '2019-01-01'), **kwargs)], \n",
        "    coords, config, save_data\n",
        ")\n",
        "\n",
        "# Function that sends a request for an satellite image of a scene and timestamp \n",
        "sentinel_request = lambda eval_script, coords, time_interval, config, save_data, data_folder, **kwargs: send_request(\n",
        "    eval_script, \n",
        "    [SentinelHubRequest.input_data(data_collection=DataCollection.SENTINEL2_L2A, time_interval=time_interval, **kwargs)],\n",
        "    coords, config, save_data, data_folder)"
      ],
      "execution_count": null,
      "outputs": []
    },
    {
      "cell_type": "code",
      "metadata": {
        "id": "u3PWAXaEnG5x"
      },
      "source": [
        "# zet dit in python script - reduce download mask function \n",
        "def generate_mask(coords, slot, threshold):\n",
        "    img_ndvi = sentinel_request(evalscript_ndvi_values, coords,slot, config, False,'/content/drive/My Drive/BB8/West_Bengal_15_geolocations_v2/junk_images', other_args=no_clouds)\n",
        "    min_ndvi = threshold\n",
        "    ndvi_copy = img_ndvi.copy()\n",
        "    img_arr = np.where(ndvi_copy > min_ndvi, 255, 0)\n",
        "    img_arr = img_arr.astype(np.uint8)\n",
        "    # img.show()\n",
        "    return img_arr"
      ],
      "execution_count": null,
      "outputs": []
    },
    {
      "cell_type": "code",
      "metadata": {
        "id": "sdo3fBb8ivD4"
      },
      "source": [
        "#coordinates of the selected labeled images.\n",
        "coords_ = [[87.000687,21.876816, 87.04768700000001, 21.923816], [87.00763543888888,21.94499273055556,87.0546354388889,21.991992730555555], \n",
        "           [87.007093,21.858627000000002,87.0540930000000,21.905627], [87.01661899999999,21.898952,87.063619,21.945952]]"
      ],
      "execution_count": null,
      "outputs": []
    },
    {
      "cell_type": "markdown",
      "metadata": {
        "id": "xyi3cg70dEby"
      },
      "source": [
        "voor elk  bounding box in coords_:\n",
        "* true color afbeeldingen weergeven\n",
        "* gelabeld masker weergeven\n",
        "* NDVI-afgeleide maskers weergeven voor verschillende drempels variërend van 0,5 tot 1,0 met een stap van 0,05"
      ]
    },
    {
      "cell_type": "code",
      "metadata": {
        "id": "iEwefsG518ao"
      },
      "source": [
        "def mse(imageA, imageB):\n",
        "\t# the 'Mean Squared Error' between the two images is the\n",
        "\t# sum of the squared difference between the two images;\n",
        "\t# NOTE: the two images must have the same dimension\n",
        "\terr = np.sum((imageA.astype(\"float\") - imageB.astype(\"float\")) ** 2)\n",
        "\terr /= float(imageA.shape[0] * imageA.shape[1])\n",
        "\t\n",
        "\t# return the MSE, the lower the error, the more \"similar\"\n",
        "\t# the two images are\n",
        "\treturn err\n",
        "\n",
        "  # bron (moet in OR komen te staan vgm- https://www.pyimagesearch.com/2014/09/15/python-compare-two-images/ )"
      ],
      "execution_count": null,
      "outputs": []
    },
    {
      "cell_type": "code",
      "metadata": {
        "id": "6-Aegad-dC1S"
      },
      "source": [
        "\n",
        "def plot_masks(bbox, labeled_mask, slot):\n",
        "    print(f\" These masks are generated for bbox: {bbox}\")\n",
        "    \n",
        "    fig = plt.figure(figsize=(50,50))\n",
        "    rows, columns= 5, 5\n",
        "    #Adds a subplot at the 1st position\n",
        "    fig.add_subplot(rows, columns, 1)\n",
        "\n",
        "  #   showing image\n",
        "    labeled_mask_img =  Image.fromarray(labeled_mask)\n",
        "    plt.imshow(labeled_mask_img)\n",
        "    plt.axis('off')\n",
        "    plt.title(\"Labeleld images\")\n",
        "\n",
        "  # Iterate  throught the diferent thresholds\n",
        "    count= 2\n",
        "    for threshold in np.arange(0.1, 0.6,0.05):\n",
        "      fig.add_subplot(rows, columns, count)\n",
        "      count +=1\n",
        "      # get image array of masks from Sentinel hub with given threshold\n",
        "      img_arr = generate_mask(bbox, slot, threshold)\n",
        "      plt.imshow(Image.fromarray(img_arr))\n",
        "      plt.title(f'NDVI threshold:{threshold}' + '\\n'+f'MSE: {mse(labeled_mask, img_arr)}', fontsize= 20)\n",
        "      "
      ],
      "execution_count": null,
      "outputs": []
    },
    {
      "cell_type": "code",
      "metadata": {
        "id": "hM4NRTIbDja3"
      },
      "source": [
        "plot_masks(coords_[0], labeled_masks[0], slots[2])"
      ],
      "execution_count": null,
      "outputs": []
    },
    {
      "cell_type": "code",
      "metadata": {
        "id": "CKtwi7GWuGjA"
      },
      "source": [
        "plot_masks(coords_[1],labeled_masks[1], slots[2] )"
      ],
      "execution_count": null,
      "outputs": []
    },
    {
      "cell_type": "code",
      "metadata": {
        "id": "sKVv_Ogmut8G"
      },
      "source": [
        "plot_masks (coords_[2], labeled_masks[2], slots[3])"
      ],
      "execution_count": null,
      "outputs": []
    },
    {
      "cell_type": "code",
      "metadata": {
        "id": "8_3sX-eoyQK-"
      },
      "source": [
        "plot_masks(coords_[3], labeled_masks[3], slots[3])"
      ],
      "execution_count": null,
      "outputs": []
    },
    {
      "cell_type": "markdown",
      "metadata": {
        "id": "1qUdhpWB7K6K"
      },
      "source": [
        "## Check voor welke drempel de minste fouten van het masker 2020 geven in vergelijking met de andere maskers."
      ]
    },
    {
      "cell_type": "code",
      "metadata": {
        "id": "e1F0K5hz7KY9"
      },
      "source": [
        "# get first cooridnate from cooridinate\n",
        "\n",
        "locations = df = pd.read_csv('/content/drive/My Drive/BB8/Converted.csv')\n",
        "locations.iloc[:3]"
      ],
      "execution_count": null,
      "outputs": []
    },
    {
      "cell_type": "code",
      "metadata": {
        "id": "Bu0NwRo59Rwc"
      },
      "source": [
        "from sentinelhub.geo_utils import to_wgs84\n",
        "\n",
        "def bbox_converter(x):\n",
        "    \"\"\"\n",
        "    Convert coordinates (longitude, latitude) in to a bbox in WGS84 format.\n",
        "    \n",
        "    return [long, lat, long, lat]\n",
        "    \"\"\"\n",
        "    lng, lat = to_wgs84(x['Longitude'], x['Latitude'], CRS.WGS84)\n",
        "    coords = [lng -  0.025, lat - 0.025, lng +  0.022, lat + 0.022]\n",
        "    return coords"
      ],
      "execution_count": null,
      "outputs": []
    },
    {
      "cell_type": "code",
      "metadata": {
        "id": "1rOPadKAqNL7"
      },
      "source": [
        "# I wanted to see the NDVI derived masks with an threshold of 0.45 for the year 2017 and 2018.\n",
        "mask_ndvi_1= generate_mask(bbox_converter(locations.iloc[0]), slots[0], 0.45)\n",
        "mask_ndvi_2= generate_mask(bbox_converter(locations.iloc[0]), slots[1], 0.45)\n",
        "mask_ndvi_3= generate_mask(bbox_converter(locations.iloc[0]), slots[2], 0.45)\n",
        "mask_ndvi_4= generate_mask(bbox_converter(locations.iloc[0]), slots[3], 0.4)\n",
        "masks = [mask_ndvi_1, mask_ndvi_2, mask_ndvi_3]\n",
        "display(Image.fromarray(mask_ndvi_4))\n",
        "[display(mse(mask , mask_ndvi_4)) for mask in masks]"
      ],
      "execution_count": null,
      "outputs": []
    },
    {
      "cell_type": "code",
      "metadata": {
        "id": "LX4nmDZ19wL0"
      },
      "source": [
        "fig = plt.figure(figsize=(50,50))\n",
        "rows, columns= 5, 5\n",
        "#Adds a subplot at the 1st position\n",
        "for i in range(len(masks)+1):\n",
        "  if i != len(masks):\n",
        "    fig.add_subplot(rows, columns, i+1)\n",
        "    plt.imshow(masks[i])\n",
        "    Image.fromarray(masks[i]).save(f'/content/drive/My Drive/BB8/West_Bengal_15_geolocations_v2/junk_images/img{i}.png')\n",
        "    plt.title(f\"{slots[i]}\")\n",
        "    plt.title(f\"{slots[i]} and mse with the last one {mse(masks[i] , mask_ndvi_4)}\")\n",
        "\n",
        "  else:\n",
        "    fig.add_subplot(rows, columns, i+1)\n",
        "    plt.imshow(mask_ndvi_4)\n",
        "    Image.fromarray(mask_ndvi_4).save(f'/content/drive/My Drive/BB8/West_Bengal_15_geolocations_v2/junk_images/img{i}.png')\n",
        "    plt.title(f\"{slots[i]} \")\n"
      ],
      "execution_count": null,
      "outputs": []
    },
    {
      "cell_type": "code",
      "metadata": {
        "id": "4xN1j4ldAvTv"
      },
      "source": [
        "# I wanted to see the NDVI derived masks with an threshold of 0.45 for the year 2017 and 2018.\n",
        "random_int = np.random.randint(15)\n",
        "print(random_int)\n",
        "mask_ndvi_1= generate_mask(bbox_converter(locations.iloc[random_int]), slots[0], 0.45)\n",
        "mask_ndvi_2= generate_mask(bbox_converter(locations.iloc[random_int]), slots[1], 0.45)\n",
        "mask_ndvi_3= generate_mask(bbox_converter(locations.iloc[random_int]), slots[2], 0.45)\n",
        "mask_ndvi_4= generate_mask(bbox_converter(locations.iloc[random_int]), slots[3], 0.45)\n",
        "masks = [mask_ndvi_1, mask_ndvi_2, mask_ndvi_3]\n",
        "display(Image.fromarray(mask_ndvi_4))\n",
        "[display(mse(mask , mask_ndvi_4)) for mask in masks]\n",
        "\n",
        "fig = plt.figure(figsize=(50,50))\n",
        "rows, columns= 5, 5\n",
        "#Adds a subplot at the 1st position\n",
        "for i in range(len(masks)+1):\n",
        "  if i != len(masks):\n",
        "    fig.add_subplot(rows, columns, i+1)\n",
        "    plt.imshow(masks[i])\n",
        "    Image.fromarray(masks[i]).save(f'/content/drive/My Drive/BB8/West_Bengal_15_geolocations_v2/junk_images/img2{i}.png')\n",
        "    plt.title(f\"{slots[i]}\")\n",
        "    plt.title(f\"{slots[i]} and mse with the last one {mse(masks[i] , mask_ndvi_4)}\")\n",
        "\n",
        "  else:\n",
        "    fig.add_subplot(rows, columns, i+1)\n",
        "    plt.imshow(mask_ndvi_4)\n",
        "    Image.fromarray(mask_ndvi_4).save(f'/content/drive/My Drive/BB8/West_Bengal_15_geolocations_v2/junk_images/img2{i}.png')\n",
        "    plt.title(f\"{slots[i]} \")\n"
      ],
      "execution_count": null,
      "outputs": []
    },
    {
      "cell_type": "markdown",
      "metadata": {
        "id": "G8j2GZ-aWuzY"
      },
      "source": [
        "# Conclusie\n"
      ]
    },
    {
      "cell_type": "markdown",
      "metadata": {
        "id": "yWqUnwtf8Fby"
      },
      "source": [
        "With the current results masks and MSE's for the different NDVI thresholds, we can come to the followin conclusion: <br><br>\n",
        "IMG 1 and 2 for given time window (01-01-20219, 01-01-2020) <br><br>\n",
        "Image 1 <br>\n",
        "\n",
        "| NDVI threshold | Error |\n",
        "|-----|-----|\n",
        "|  0.4  | 11520  |\n",
        "|  0.45 |  10103  |\n",
        "|  0.5  |  11596  |\n",
        "|  0.55 |  14606 |\n",
        "\n",
        "<br><br>\n",
        "Image 2<br>\n",
        "\n",
        "| NDVI threshold | Error |\n",
        "|-----|-----|\n",
        "|  0.4  | 15139 |\n",
        "|  0.45 | 10765 |\n",
        "|  0.5  | 10181 |\n",
        "|  0.55 | 12039 |\n",
        "\n",
        "<br><br>\n",
        "IMG3 and 4 for given time window (01-01-2020, 31-12-2020) <br><br>\n",
        "Image 3 <br>\n",
        "\n",
        "| NDVI threshold | Error |\n",
        "|-----|-----|\n",
        "|  0.4  | 9828  |\n",
        "|  0.45 |  11227  |\n",
        "|  0.5  |  14955  |\n",
        "|  0.55 |  19363 |\n",
        "\n",
        "<br><br>\n",
        "Image 4<br>\n",
        "\n",
        "| NDVI threshold | Error |\n",
        "|-----|-----|\n",
        "|  0.4  | 11303  |\n",
        "|  0.45 |  9421  |\n",
        "|  0.5  |  9184  |\n",
        "|  0.55 |  10458 |"
      ]
    },
    {
      "cell_type": "markdown",
      "metadata": {
        "id": "DsOYaovBBp19"
      },
      "source": [
        "Aan de hand van deze resultaten is te zien dat de optimale globale threshold is 0.45. Bovendien is  er te zien dat er veel errors zitten tussen de NDVI masks en de gelabelde masks zijn. Er is ter zien dat het lastig isom bebossing te onderscheiden in satellietbeelden aan de hand van puur NDVI waardes.\n",
        "\n",
        "Door tijdsgebrek gaan we dat een globale threshold van 0.55 gebruiken voor onze masks. Bovendien gaan we 2020 weghalen want die is heel inconsistent met de anderen jaren. Een reden voor deze inconsistente masks zijn namelijk de *fade*\n",
        "in de satellietbeelden."
      ]
    }
  ]
}
