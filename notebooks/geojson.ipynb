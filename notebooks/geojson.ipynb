{
 "cells": [
  {
   "cell_type": "code",
   "execution_count": 300,
   "metadata": {},
   "outputs": [],
   "source": [
    "import cv2\n",
    "import json\n",
    "import geojson\n",
    "import numpy as np\n",
    "from geojson import Feature, FeatureCollection, Polygon, dump"
   ]
  },
  {
   "cell_type": "code",
   "execution_count": 301,
   "metadata": {},
   "outputs": [],
   "source": [
    "def get_bounds():\n",
    "    n_extent = 21.5439876\n",
    "    e_extent = 87.118996\n",
    "    s_extent = 21.5339876\n",
    "    w_extent = 87.108996\n",
    "    return n_extent, e_extent, s_extent, w_extent"
   ]
  },
  {
   "cell_type": "code",
   "execution_count": 302,
   "metadata": {},
   "outputs": [],
   "source": [
    "def load_image(file_path):\n",
    "    img = cv2.imread(file_path, cv2.IMREAD_UNCHANGED)\n",
    "    img = cv2.cvtColor(img, cv2.COLOR_GRAY2RGBA)\n",
    "    height, width, *_ = img.shape\n",
    "    for y in range(height):\n",
    "        for x in range(width):\n",
    "            if (img[y, x] == [0, 0, 0, 255]).all():\n",
    "                img[y, x] = [0, 0, 0, 0]  \n",
    "    return img"
   ]
  },
  {
   "cell_type": "code",
   "execution_count": 303,
   "metadata": {},
   "outputs": [],
   "source": [
    "def trim_image(img):   \n",
    "    alpha = img[..., 3]\n",
    "    y_nonzero, x_nonzero = np.nonzero(alpha)\n",
    "    res = alpha[np.min(y_nonzero):np.max(y_nonzero), np.min(x_nonzero):np.max(x_nonzero)]\n",
    "    _, res = cv2.threshold(res, 64, 255, cv2.THRESH_BINARY)\n",
    "    return res"
   ]
  },
  {
   "cell_type": "code",
   "execution_count": 304,
   "metadata": {},
   "outputs": [],
   "source": [
    "def get_approxes(im, precision=0.0001):\n",
    "    contours, *_ = cv2.findContours(im, cv2.RETR_TREE, cv2.CHAIN_APPROX_SIMPLE)\n",
    "    approxes = []\n",
    "    for contour in contours:\n",
    "        perim = cv2.arcLength(contour, True)\n",
    "        approx = cv2.approxPolyDP(contour, precision * perim, True)\n",
    "        approxes.append(approx)\n",
    "    return approxes"
   ]
  },
  {
   "cell_type": "code",
   "execution_count": 310,
   "metadata": {},
   "outputs": [
    {
     "ename": "FileNotFoundError",
     "evalue": "[Errno 2] No such file or directory: '../data/masks/geojson/result.json'",
     "output_type": "error",
     "traceback": [
      "\u001b[1;31m---------------------------------------------------------------------------\u001b[0m",
      "\u001b[1;31mFileNotFoundError\u001b[0m                         Traceback (most recent call last)",
      "\u001b[1;32m<ipython-input-310-ce6acd09f112>\u001b[0m in \u001b[0;36m<module>\u001b[1;34m\u001b[0m\n\u001b[0;32m     20\u001b[0m \u001b[1;33m\u001b[0m\u001b[0m\n\u001b[0;32m     21\u001b[0m \u001b[0mfeature_col\u001b[0m \u001b[1;33m=\u001b[0m \u001b[0mFeatureCollection\u001b[0m\u001b[1;33m(\u001b[0m\u001b[0mfeatures\u001b[0m\u001b[1;33m)\u001b[0m\u001b[1;33m\u001b[0m\u001b[1;33m\u001b[0m\u001b[0m\n\u001b[1;32m---> 22\u001b[1;33m \u001b[1;32mwith\u001b[0m \u001b[0mopen\u001b[0m \u001b[1;33m(\u001b[0m\u001b[1;34m'../data/masks/geojson/result.json'\u001b[0m\u001b[1;33m,\u001b[0m \u001b[1;34m'w+'\u001b[0m\u001b[1;33m)\u001b[0m \u001b[1;32mas\u001b[0m \u001b[0mf\u001b[0m\u001b[1;33m:\u001b[0m\u001b[1;33m\u001b[0m\u001b[1;33m\u001b[0m\u001b[0m\n\u001b[0m\u001b[0;32m     23\u001b[0m     \u001b[0mdump\u001b[0m\u001b[1;33m(\u001b[0m\u001b[0mfeature_col\u001b[0m\u001b[1;33m,\u001b[0m \u001b[0mf\u001b[0m\u001b[1;33m)\u001b[0m\u001b[1;33m\u001b[0m\u001b[1;33m\u001b[0m\u001b[0m\n",
      "\u001b[1;31mFileNotFoundError\u001b[0m: [Errno 2] No such file or directory: '../data/masks/geojson/result.json'"
     ]
    }
   ],
   "source": [
    "n_extent, e_extent, s_extent, w_extent = get_bounds()\n",
    "img = load_image('../data/masks/model/model.png')\n",
    "img = trim_image(img)\n",
    "\n",
    "height, width = img.shape\n",
    "height_deg, width_deg = n_extent - s_extent, e_extent - w_extent\n",
    "deg_pp_height, deg_pp_width = height_deg / height, width_deg / width\n",
    "\n",
    "features = []\n",
    "approxes = get_approxes(img)\n",
    "for approx in approxes:\n",
    "    points = []\n",
    "    for i in range(approx.shape[0] + 1):\n",
    "        x, y = approx[i % approx.shape[0], 0]\n",
    "        lon = w_extent + x*degppEW\n",
    "        lat = n_extent - y*degppNS\n",
    "        points.append((lon, lat))\n",
    "    features.append(Feature(geometry=Polygon([points]), properties={\"key\":\"value\"}))\n",
    "\n",
    "\n",
    "feature_col = FeatureCollection(features)\n",
    "with open ('../data/masks/geojson/result.json', 'w') as f:\n",
    "    dump(feature_col, f)"
   ]
  }
 ],
 "metadata": {
  "kernelspec": {
   "display_name": "Python 3",
   "language": "python",
   "name": "python3"
  },
  "language_info": {
   "codemirror_mode": {
    "name": "ipython",
    "version": 3
   },
   "file_extension": ".py",
   "mimetype": "text/x-python",
   "name": "python",
   "nbconvert_exporter": "python",
   "pygments_lexer": "ipython3",
   "version": "3.8.3"
  }
 },
 "nbformat": 4,
 "nbformat_minor": 2
}
